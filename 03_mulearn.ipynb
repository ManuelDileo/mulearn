{
 "cells": [
  {
   "cell_type": "markdown",
   "metadata": {},
   "source": [
    "<h1>Table of Contents<span class=\"tocSkip\"></span></h1>\n",
    "<div class=\"toc\"><ul class=\"toc-item\"><li><span><a href=\"#The-mulearn-module\" data-toc-modified-id=\"The-mulearn-module-1\"><span class=\"toc-item-num\">1&nbsp;&nbsp;</span>The <code>mulearn</code> module</a></span></li></ul></div>"
   ]
  },
  {
   "cell_type": "markdown",
   "metadata": {},
   "source": [
    "# The `mulearn` module \n",
    "\n",
    "> The `mulearn` module contains the implementations of fuzzy inductors."
   ]
  },
  {
   "cell_type": "code",
   "execution_count": null,
   "metadata": {},
   "outputs": [],
   "source": [
    "#export\n",
    "\n",
    "import numpy as np\n",
    "from warnings import warn\n",
    "import copy\n",
    "\n",
    "from sklearn.base import BaseEstimator, RegressorMixin\n",
    "from sklearn.utils.validation import check_X_y, check_array, check_is_fitted\n",
    "from sklearn.utils import check_random_state\n",
    "\n",
    "import mulearn.kernel as kernel\n",
    "import mulearn.fuzzifier as fuzz\n",
    "from mulearn.optimization import solve_optimization\n",
    "from mulearn.optimization import solve_optimization_tensorflow"
   ]
  },
  {
   "cell_type": "code",
   "execution_count": null,
   "metadata": {},
   "outputs": [],
   "source": [
    "# default_exp __init__"
   ]
  },
  {
   "cell_type": "code",
   "execution_count": null,
   "metadata": {},
   "outputs": [],
   "source": [
    "#hide\n",
    "from nbdev.showdoc import show_doc"
   ]
  },
  {
   "cell_type": "code",
   "execution_count": null,
   "metadata": {},
   "outputs": [],
   "source": [
    "#export\n",
    "\n",
    "class FuzzyInductor(BaseEstimator, RegressorMixin):\n",
    "\n",
    "    def __init__(self,\n",
    "                 c=1,\n",
    "                 k=kernel.GaussianKernel(),\n",
    "                 #sample_generator=None,\n",
    "                 fuzzifier=fuzz.ExponentialFuzzifier,\n",
    "                 fuzzifier_opts = {},\n",
    "                 solve_strategy=(solve_optimization_tensorflow, {}),\n",
    "                 random_state=None,\n",
    "                 #return_vars=False,\n",
    "                 return_profile=False):\n",
    "        r'''Creates an instance of `FuzzyInductor`\n",
    "        \n",
    "        - `c`: trade-off constant (`float`).\n",
    "        \n",
    "        - `k`: kernel function (`mulearn.kernel.Kernel`).\n",
    "        \n",
    "        - `fuzzifier`: fuzzifier mapping distance values to membership\n",
    "           degrees (`mulearn.fuzzifiers.Fuzzifier`).\n",
    "           \n",
    "        - `fuzzifier_opts`: additional options to be passed to the\n",
    "          fuzzifier constructor.\n",
    "        \n",
    "        - `solve_strategy`: strategy to be used to solve optimization (tuple\n",
    "           containing the reference to an optimization function and a\n",
    "           dictionary holding optimization parameters).\n",
    "        \n",
    "        - `random_state`: seed of pseudorandom generator (`int`).\n",
    "        \n",
    "        - `return_profile`: flag triggering the generation of the profile of\n",
    "          the learnt fuzzy set (`bool`).\n",
    "        \n",
    "        '''\n",
    "        \n",
    "        self.c = c\n",
    "        self.k = k\n",
    "        #self.sample_generator = sample_generator\n",
    "        self.fuzzifier = fuzzifier\n",
    "        self.fuzzifier_opts = fuzzifier_opts\n",
    "        self.solve_strategy = solve_strategy\n",
    "        self.random_state = random_state\n",
    "        #self.return_vars = return_vars\n",
    "        self.return_profile = return_profile\n",
    "        \n",
    "    def fix_object_state(self, X, y):\n",
    "        self.X = X\n",
    "        self.y = y\n",
    "\n",
    "        def x_to_sq_dist(x_new):\n",
    "            ret = self.k.compute(x_new, x_new) \\\n",
    "                  - 2 * np.array([self.k.compute(x_i, x_new)\n",
    "                                  for x_i in X]).dot(self.chis_) \\\n",
    "                  + self.fixed_term_\n",
    "            return ret\n",
    "        self.x_to_sq_dist_ = x_to_sq_dist\n",
    "\n",
    "        self.chi_SV_index_ = [i for i, (chi, mu) in enumerate(zip(self.chis_,\n",
    "                                                                  y))\n",
    "                              if -self.c * (1-mu) < chi < self.c * mu]\n",
    "\n",
    "        #self.chi_SV_index_ = [i for i in range(len(self.chis)_) \\\n",
    "        #        if -self.c*(1-self.mu[i]) < self.chis_[i] < self.c*self.mu[i]]\n",
    "\n",
    "        chi_sq_radius = map(x_to_sq_dist, X[self.chi_SV_index_])\n",
    "        chi_sq_radius = list(chi_sq_radius)\n",
    "        #chi_sq_radius = [x_to_sq_dist(x[i]) for i in chi_SV_index]\n",
    "\n",
    "        if len(chi_sq_radius) == 0:\n",
    "            self.estimated_membership_ = None\n",
    "            self.train_error_ = np.inf\n",
    "            self.chis_ = None\n",
    "            self.profile = None\n",
    "            warn('No support vectors found')\n",
    "            return self\n",
    "            #raise ValueError('No support vectors found')\n",
    "\n",
    "        self.sq_radius_ = np.mean(chi_sq_radius)\n",
    "        #num_samples = 500\n",
    "\n",
    "        #if self.sample_generator is None:\n",
    "        #    self.sample_generator = lambda x: x\n",
    "\n",
    "        #sample = map(self.sample_generator,\n",
    "        #             self.random_state_.random_sample(num_samples))\n",
    "        #sample = self.sample_generator(num_samples)\n",
    "\n",
    "\n",
    "        fuzzifier = self.fuzzifier(X, y, **self.fuzzifier_opts)\n",
    "        result = fuzzifier.get_membership(\n",
    "                self.sq_radius_, # sq_radius, was SV_square_distance_\n",
    "                self.x_to_sq_dist_,\n",
    "                return_profile=self.return_profile)\n",
    "\n",
    "\n",
    "        if self.return_profile:\n",
    "            self.estimated_membership_, self.profile_ = result\n",
    "        else:\n",
    "            self.estimated_membership_ = result[0]\n",
    "\n",
    "    def fit(self, X, y, **kwargs):\n",
    "        r'''Induces the membership function starting from a labeled sample\n",
    "        \n",
    "        - `X`: vectors in data space (iterable of `float` vectors having the\n",
    "          same length).\n",
    "        \n",
    "        - `y`: membership for the vectors in `X` (iterable of `float` having\n",
    "          the same length of `X`).\n",
    "          \n",
    "        Returns: self\n",
    "\n",
    "        Throws:\n",
    "\n",
    "        - ValueError if the values in `y` are not between 0 and 1, if `X` and\n",
    "          have different lengths, or if `X` contains elements of different\n",
    "          lengths.\n",
    "        \n",
    "        '''\n",
    "        \n",
    "        if type(X) is not np.array:\n",
    "            X = np.array(X)\n",
    "            \n",
    "        for e in y:\n",
    "            if e < 0 or e > 1:\n",
    "                raise ValueError('`y` values should belong to [0, 1]')\n",
    "        \n",
    "\n",
    "        check_X_y(X, y)\n",
    "        self.random_state_ = check_random_state(self.random_state)\n",
    "\n",
    "        if 'warm_start' in kwargs and kwargs['warm_start']:\n",
    "            check_is_fitted(self, ['chis_', 'estimated_membership_'])\n",
    "            self.solve_strategy[1]['init'] = self.chis_\n",
    "\n",
    "        self.chis_ = solve_optimization(X, y,\n",
    "                                        self.c, self.k,\n",
    "                                        self.solve_strategy[0],\n",
    "                                        **self.solve_strategy[1])\n",
    "\n",
    "        if type(self.k) is kernel.PrecomputedKernel:\n",
    "            self.gram_ = self.k.kernel_computations\n",
    "        else:\n",
    "            self.gram_ = np.array([[self.k.compute(x1, x2) for x1 in X]\n",
    "                                    for x2 in X])\n",
    "        self.fixed_term_ = np.array(self.chis_).dot(self.gram_.dot(self.chis_))\n",
    "\n",
    "        self.fix_object_state(X, y)\n",
    "\n",
    "        self.train_error_ = np.mean([(self.estimated_membership_(x) - mu)**2\n",
    "                                    for x, mu in zip(X, y)])\n",
    "\n",
    "        return self\n",
    "\n",
    "\n",
    "    def predict(self, X):\n",
    "        r'''Computes predictions for the membership grades of one or more\n",
    "        vectors.\n",
    "        \n",
    "        - `X`: vectors in data space (iterable of vectors having the same\n",
    "          length).\n",
    "          \n",
    "        Returns: array of the predictions for each value in `X`.\n",
    "        \n",
    "        '''\n",
    "\n",
    "        check_is_fitted(self, ['chis_', 'estimated_membership_'])\n",
    "        X = check_array(X)\n",
    "        return np.array([self.estimated_membership_(x) for x in X])\n",
    "\n",
    "    def score(self, X, y):\n",
    "        r'''Computes the negated accuracy of the learnt fuzzy set against\n",
    "        a set of labeled data.\n",
    "        \n",
    "        - `X`: vectors in data space (iterable of `float` vectors having the\n",
    "          same length).\n",
    "          \n",
    "        - `y`: membership for the vectors in `X` (iterable of `float` having\n",
    "          the same length of `X`).\n",
    "          \n",
    "        Returns: negated accuracy of the predictions done on the elements in\n",
    "        `X` w.r.t. the labels in `y`.\n",
    "        \n",
    "        '''\n",
    "        \n",
    "        check_X_y(X, y)\n",
    "        \n",
    "        if self.estimated_membership_ is None:\n",
    "            return -np.inf\n",
    "        else:\n",
    "            return -np.mean([(self.estimated_membership_(x) - mu)**2\n",
    "                             for x, mu in zip(X, y)])\n",
    "        \n",
    "    def __getstate__(self):\n",
    "        d = copy.deepcopy(self.__dict__)\n",
    "        del d['estimated_membership_']\n",
    "        del d['x_to_sq_dist_']\n",
    "        return d\n",
    "        \n",
    "        \n",
    "    def __setstate__(self, d):\n",
    "        self.__dict__ = d\n",
    "        self.fix_object_state(self.X, self.y)\n",
    "        self.__dict__['estimated_membership_'] = self.estimated_membership_\n",
    "        self.__dict__['x_to_sq_dist_'] = self.x_to_sq_dist_\n",
    "        "
   ]
  },
  {
   "cell_type": "code",
   "execution_count": null,
   "metadata": {},
   "outputs": [
    {
     "data": {
      "text/markdown": [
       "<h4 id=\"FuzzyInductor.__init__\" class=\"doc_header\"><code>FuzzyInductor.__init__</code><a href=\"__main__.py#L5\" class=\"source_link\" style=\"float:right\">[source]</a></h4>\n",
       "\n",
       "> <code>FuzzyInductor.__init__</code>(**`c`**=*`1`*, **`k`**=*`GaussianKernel(1)`*, **`fuzzifier`**=*`'ExponentialFuzzifier'`*, **`fuzzifier_opts`**=*`{}`*, **`solve_strategy`**=*`(<function solve_optimization_tensorflow at 0x7f588e09be18>, {})`*, **`random_state`**=*`None`*, **`return_profile`**=*`False`*)\n",
       "\n",
       "Creates an instance of [`FuzzyInductor`](/mulearn/mulearn#FuzzyInductor)\n",
       "\n",
       "- `c`: trade-off constant (`float`).\n",
       "\n",
       "- `k`: kernel function (`mulearn.kernel.Kernel`).\n",
       "\n",
       "- [`fuzzifier`](/mulearn/fuzzifier): fuzzifier mapping distance values to membership\n",
       "   degrees (`mulearn.fuzzifiers.Fuzzifier`).\n",
       "   \n",
       "- `fuzzifier_opts`: additional options to be passed to the\n",
       "  fuzzifier constructor.\n",
       "\n",
       "- `solve_strategy`: strategy to be used to solve optimization (tuple\n",
       "   containing the reference to an optimization function and a\n",
       "   dictionary holding optimization parameters).\n",
       "\n",
       "- `random_state`: seed of pseudorandom generator (`int`).\n",
       "\n",
       "- `return_profile`: flag triggering the generation of the profile of\n",
       "  the learnt fuzzy set (`bool`)."
      ],
      "text/plain": [
       "<IPython.core.display.Markdown object>"
      ]
     },
     "metadata": {},
     "output_type": "display_data"
    }
   ],
   "source": [
    "show_doc(FuzzyInductor.__init__)"
   ]
  },
  {
   "cell_type": "code",
   "execution_count": null,
   "metadata": {},
   "outputs": [],
   "source": [
    "xs  = [[1], [2], [3], [4], [5],  [6], [7], [8], [9]]\n",
    "mus = [1,     1,  .8,  .7,  .4,   .2,   0,   0,  0]\n",
    "\n",
    "f = FuzzyInductor()"
   ]
  },
  {
   "cell_type": "code",
   "execution_count": null,
   "metadata": {},
   "outputs": [
    {
     "data": {
      "text/markdown": [
       "<h4 id=\"FuzzyInductor.fit\" class=\"doc_header\"><code>FuzzyInductor.fit</code><a href=\"__main__.py#L103\" class=\"source_link\" style=\"float:right\">[source]</a></h4>\n",
       "\n",
       "> <code>FuzzyInductor.fit</code>(**`X`**, **`y`**, **\\*\\*`kwargs`**)\n",
       "\n",
       "Induces the membership function starting from a labeled sample\n",
       "\n",
       "- `X`: vectors in data space (iterable of `float` vectors having the\n",
       "  same length).\n",
       "\n",
       "- `y`: membership for the vectors in `X` (iterable of `float` having\n",
       "  the same length of `X`).\n",
       "  \n",
       "Returns: self\n",
       "\n",
       "Throws:\n",
       "\n",
       "- ValueError if the values in `y` are not between 0 and 1, if `X` and\n",
       "  have different lengths, or if `X` contains elements of different\n",
       "  lengths."
      ],
      "text/plain": [
       "<IPython.core.display.Markdown object>"
      ]
     },
     "metadata": {},
     "output_type": "display_data"
    }
   ],
   "source": [
    "show_doc(FuzzyInductor.fit)"
   ]
  },
  {
   "cell_type": "code",
   "execution_count": null,
   "metadata": {},
   "outputs": [
    {
     "name": "stderr",
     "output_type": "stream",
     "text": [
      "\r",
      "  0%|          | 0/100 [00:00<?, ?it/s]"
     ]
    },
    {
     "name": "stdout",
     "output_type": "stream",
     "text": [
      "WARNING:tensorflow:From /home/malchiodi/anaconda3/lib/python3.7/site-packages/tensorflow_core/python/ops/math_grad.py:1430: where (from tensorflow.python.ops.array_ops) is deprecated and will be removed in a future version.\n",
      "Instructions for updating:\n",
      "Use tf.where in 2.0, which has the same broadcast rule as np.where\n"
     ]
    },
    {
     "name": "stderr",
     "output_type": "stream",
     "text": [
      "100%|██████████| 100/100 [00:01<00:00, 51.83it/s]\n"
     ]
    }
   ],
   "source": [
    "predictions = f.fit(xs, mus)"
   ]
  },
  {
   "cell_type": "code",
   "execution_count": null,
   "metadata": {},
   "outputs": [
    {
     "data": {
      "text/markdown": [
       "<h4 id=\"FuzzyInductor.predict\" class=\"doc_header\"><code>FuzzyInductor.predict</code><a href=\"__main__.py#L157\" class=\"source_link\" style=\"float:right\">[source]</a></h4>\n",
       "\n",
       "> <code>FuzzyInductor.predict</code>(**`X`**)\n",
       "\n",
       "Computes predictions for the membership grades of one or more\n",
       "vectors.\n",
       "\n",
       "- `X`: vectors in data space (iterable of vectors having the same\n",
       "  length).\n",
       "  \n",
       "Returns: array of the predictions for each value in `X`."
      ],
      "text/plain": [
       "<IPython.core.display.Markdown object>"
      ]
     },
     "metadata": {},
     "output_type": "display_data"
    }
   ],
   "source": [
    "show_doc(FuzzyInductor.predict)"
   ]
  },
  {
   "cell_type": "code",
   "execution_count": null,
   "metadata": {},
   "outputs": [
    {
     "data": {
      "text/plain": [
       "array([0.50000001, 0.50000002])"
      ]
     },
     "execution_count": null,
     "metadata": {},
     "output_type": "execute_result"
    }
   ],
   "source": [
    "f.predict([[0], [19]])"
   ]
  },
  {
   "cell_type": "code",
   "execution_count": null,
   "metadata": {},
   "outputs": [
    {
     "data": {
      "text/markdown": [
       "<h4 id=\"FuzzyInductor.score\" class=\"doc_header\"><code>FuzzyInductor.score</code><a href=\"__main__.py#L172\" class=\"source_link\" style=\"float:right\">[source]</a></h4>\n",
       "\n",
       "> <code>FuzzyInductor.score</code>(**`X`**, **`y`**)\n",
       "\n",
       "Computes the negated accuracy of the learnt fuzzy set against\n",
       "a set of labeled data.\n",
       "\n",
       "- `X`: vectors in data space (iterable of `float` vectors having the\n",
       "  same length).\n",
       "  \n",
       "- `y`: membership for the vectors in `X` (iterable of `float` having\n",
       "  the same length of `X`).\n",
       "  \n",
       "Returns: negated accuracy of the predictions done on the elements in\n",
       "`X` w.r.t. the labels in `y`."
      ],
      "text/plain": [
       "<IPython.core.display.Markdown object>"
      ]
     },
     "metadata": {},
     "output_type": "display_data"
    }
   ],
   "source": [
    "show_doc(FuzzyInductor.score)"
   ]
  },
  {
   "cell_type": "code",
   "execution_count": null,
   "metadata": {},
   "outputs": [
    {
     "data": {
      "text/plain": [
       "-0.1644444507417577"
      ]
     },
     "execution_count": null,
     "metadata": {},
     "output_type": "execute_result"
    }
   ],
   "source": [
    "f.score(xs, mus)"
   ]
  },
  {
   "cell_type": "code",
   "execution_count": null,
   "metadata": {},
   "outputs": [],
   "source": []
  }
 ],
 "metadata": {
  "kernelspec": {
   "display_name": "Python 3",
   "language": "python",
   "name": "python3"
  }
 },
 "nbformat": 4,
 "nbformat_minor": 4
}
