{
 "cells": [
  {
   "cell_type": "markdown",
   "metadata": {},
   "source": [
    "<h1>Table of Contents<span class=\"tocSkip\"></span></h1>\n",
    "<div class=\"toc\"><ul class=\"toc-item\"><li><span><a href=\"#The-mulearn-module\" data-toc-modified-id=\"The-mulearn-module-1\"><span class=\"toc-item-num\">1&nbsp;&nbsp;</span>The <code>mulearn</code> module</a></span></li></ul></div>"
   ]
  },
  {
   "cell_type": "markdown",
   "metadata": {},
   "source": [
    "# The `mulearn` module \n",
    "\n",
    "> The `mulearn` module contains the implementations of fuzzy inductors."
   ]
  },
  {
   "cell_type": "code",
   "execution_count": null,
   "metadata": {},
   "outputs": [],
   "source": [
    "#export\n",
    "\n",
    "import numpy as np\n",
    "from warnings import warn\n",
    "import copy\n",
    "\n",
    "from sklearn.base import BaseEstimator, RegressorMixin\n",
    "from sklearn.utils.validation import check_X_y, check_array, check_is_fitted\n",
    "from sklearn.utils import check_random_state\n",
    "\n",
    "import mulearn.kernel as kernel\n",
    "import mulearn.fuzzifier as fuzz\n",
    "from mulearn.optimization import solve_optimization\n",
    "from mulearn.optimization import solve_optimization_tensorflow"
   ]
  },
  {
   "cell_type": "code",
   "execution_count": null,
   "metadata": {},
   "outputs": [],
   "source": [
    "# default_exp __init__"
   ]
  },
  {
   "cell_type": "code",
   "execution_count": null,
   "metadata": {},
   "outputs": [],
   "source": [
    "#hide\n",
    "from nbdev.showdoc import show_doc"
   ]
  },
  {
   "cell_type": "code",
   "execution_count": null,
   "metadata": {},
   "outputs": [],
   "source": [
    "#export\n",
    "\n",
    "class FuzzyInductor(BaseEstimator, RegressorMixin):\n",
    "\n",
    "    def __init__(self,\n",
    "                 c=1,\n",
    "                 k=kernel.GaussianKernel(),\n",
    "                 #sample_generator=None,\n",
    "                 fuzzifier=(fuzz.ExponentialFuzzifier, {}),\n",
    "                 #fuzzifier=fuzz.ExponentialFuzzifier,\n",
    "                 #fuzzifier_opts = {},\n",
    "                 solve_strategy=(solve_optimization_tensorflow, {}),\n",
    "                 random_state=None,\n",
    "                 #return_vars=False,\n",
    "                 return_profile=False):\n",
    "        r'''Creates an instance of `FuzzyInductor`\n",
    "        \n",
    "        - `c`: trade-off constant (`float`).\n",
    "        \n",
    "        - `k`: kernel function (`mulearn.kernel.Kernel`).\n",
    "        \n",
    "        - `fuzzifier`: fuzzifier mapping distance values to membership\n",
    "           degrees (tuple containing a `mulearn.fuzzifiers.Fuzzifier`\n",
    "           subclass F and a dictionary holding fixed parameters to be\n",
    "           passed to the constructor of F).\n",
    "        \n",
    "        - `solve_strategy`: strategy to be used to solve optimization (tuple\n",
    "           containing the reference to an optimization function and a\n",
    "           dictionary holding optimization parameters).\n",
    "        \n",
    "        - `random_state`: seed of pseudorandom generator (`int`).\n",
    "        \n",
    "        - `return_profile`: flag triggering the generation of the profile of\n",
    "          the learnt fuzzy set (`bool`).\n",
    "        \n",
    "        '''\n",
    "        \n",
    "        self.c = c\n",
    "        print(f'c is {c}')\n",
    "        self.k = k\n",
    "        print(f'k is {k}')\n",
    "        #self.sample_generator = sample_generator\n",
    "        print(f'fuzzifier is {fuzzifier}')\n",
    "\n",
    "        #self.fuzzifier = fuzzifier_descr[0]\n",
    "        #self.fuzzifier_opts = fuzzifier_descr[1]\n",
    "        self.solve_strategy = solve_strategy\n",
    "        self.fuzzifier = fuzzifier\n",
    "        self.random_state = random_state\n",
    "        #self.return_vars = return_vars\n",
    "        self.return_profile = return_profile\n",
    "        \n",
    "    def fix_object_state(self, X, y):\n",
    "        self.X = X\n",
    "        self.y = y\n",
    "\n",
    "        def x_to_sq_dist(x_new):\n",
    "            ret = self.k.compute(x_new, x_new) \\\n",
    "                  - 2 * np.array([self.k.compute(x_i, x_new)\n",
    "                                  for x_i in X]).dot(self.chis_) \\\n",
    "                  + self.fixed_term_\n",
    "            return ret\n",
    "        self.x_to_sq_dist_ = x_to_sq_dist\n",
    "\n",
    "        self.chi_SV_index_ = [i for i, (chi, mu) in enumerate(zip(self.chis_,\n",
    "                                                                  y))\n",
    "                              if -self.c * (1-mu) < chi < self.c * mu]\n",
    "\n",
    "        #self.chi_SV_index_ = [i for i in range(len(self.chis)_) \\\n",
    "        #        if -self.c*(1-self.mu[i]) < self.chis_[i] < self.c*self.mu[i]]\n",
    "\n",
    "        chi_sq_radius = map(x_to_sq_dist, X[self.chi_SV_index_])\n",
    "        chi_sq_radius = list(chi_sq_radius)\n",
    "        #chi_sq_radius = [x_to_sq_dist(x[i]) for i in chi_SV_index]\n",
    "\n",
    "        if len(chi_sq_radius) == 0:\n",
    "            self.estimated_membership_ = None\n",
    "            self.train_error_ = np.inf\n",
    "            self.chis_ = None\n",
    "            self.profile = None\n",
    "            warn('No support vectors found')\n",
    "            return self\n",
    "            #raise ValueError('No support vectors found')\n",
    "\n",
    "        self.sq_radius_ = np.mean(chi_sq_radius)\n",
    "        #num_samples = 500\n",
    "\n",
    "        #if self.sample_generator is None:\n",
    "        #    self.sample_generator = lambda x: x\n",
    "\n",
    "        #sample = map(self.sample_generator,\n",
    "        #             self.random_state_.random_sample(num_samples))\n",
    "        #sample = self.sample_generator(num_samples)\n",
    "\n",
    "\n",
    "        fuzzifier = self.fuzzifier[0](X, y, **self.fuzzifier[1])\n",
    "        result = fuzzifier.get_membership(\n",
    "                self.sq_radius_, # sq_radius, was SV_square_distance_\n",
    "                self.x_to_sq_dist_,\n",
    "                return_profile=self.return_profile)\n",
    "\n",
    "\n",
    "        if self.return_profile:\n",
    "            self.estimated_membership_, self.profile_ = result\n",
    "        else:\n",
    "            self.estimated_membership_ = result[0]\n",
    "\n",
    "    def fit(self, X, y, **kwargs):\n",
    "        r'''Induces the membership function starting from a labeled sample\n",
    "        \n",
    "        - `X`: vectors in data space (iterable of `float` vectors having the\n",
    "          same length).\n",
    "        \n",
    "        - `y`: membership for the vectors in `X` (iterable of `float` having\n",
    "          the same length of `X`).\n",
    "          \n",
    "        Returns: self\n",
    "\n",
    "        Throws:\n",
    "\n",
    "        - ValueError if the values in `y` are not between 0 and 1, if `X` and\n",
    "          have different lengths, or if `X` contains elements of different\n",
    "          lengths.\n",
    "        \n",
    "        '''\n",
    "        \n",
    "        if type(X) is not np.array:\n",
    "            X = np.array(X)\n",
    "            \n",
    "        for e in y:\n",
    "            if e < 0 or e > 1:\n",
    "                raise ValueError('`y` values should belong to [0, 1]')\n",
    "        \n",
    "\n",
    "        check_X_y(X, y)\n",
    "        self.random_state_ = check_random_state(self.random_state)\n",
    "\n",
    "        if 'warm_start' in kwargs and kwargs['warm_start']:\n",
    "            check_is_fitted(self, ['chis_', 'estimated_membership_'])\n",
    "            self.solve_strategy[1]['init'] = self.chis_\n",
    "\n",
    "        self.chis_ = solve_optimization(X, y,\n",
    "                                        self.c, self.k,\n",
    "                                        self.solve_strategy[0],\n",
    "                                        **self.solve_strategy[1])\n",
    "\n",
    "        if type(self.k) is kernel.PrecomputedKernel:\n",
    "            self.gram_ = self.k.kernel_computations\n",
    "        else:\n",
    "            self.gram_ = np.array([[self.k.compute(x1, x2) for x1 in X]\n",
    "                                    for x2 in X])\n",
    "        self.fixed_term_ = np.array(self.chis_).dot(self.gram_.dot(self.chis_))\n",
    "\n",
    "        self.fix_object_state(X, y)\n",
    "\n",
    "        self.train_error_ = np.mean([(self.estimated_membership_(x) - mu)**2\n",
    "                                    for x, mu in zip(X, y)])\n",
    "\n",
    "        return self\n",
    "\n",
    "\n",
    "    def predict(self, X):\n",
    "        r'''Computes predictions for the membership grades of one or more\n",
    "        vectors.\n",
    "        \n",
    "        - `X`: vectors in data space (iterable of vectors having the same\n",
    "          length).\n",
    "          \n",
    "        Returns: array of the predictions for each value in `X`.\n",
    "        \n",
    "        '''\n",
    "\n",
    "        check_is_fitted(self, ['chis_', 'estimated_membership_'])\n",
    "        X = check_array(X)\n",
    "        return np.array([self.estimated_membership_(x) for x in X])\n",
    "\n",
    "    def score(self, X, y):\n",
    "        r'''Computes the negated accuracy of the learnt fuzzy set against\n",
    "        a set of labeled data.\n",
    "        \n",
    "        - `X`: vectors in data space (iterable of `float` vectors having the\n",
    "          same length).\n",
    "          \n",
    "        - `y`: membership for the vectors in `X` (iterable of `float` having\n",
    "          the same length of `X`).\n",
    "          \n",
    "        Returns: negated accuracy of the predictions done on the elements in\n",
    "        `X` w.r.t. the labels in `y`.\n",
    "        \n",
    "        '''\n",
    "        \n",
    "        check_X_y(X, y)\n",
    "        \n",
    "        if self.estimated_membership_ is None:\n",
    "            return -np.inf\n",
    "        else:\n",
    "            return -np.mean([(self.estimated_membership_(x) - mu)**2\n",
    "                             for x, mu in zip(X, y)])\n",
    "        \n",
    "    def __getstate__(self):\n",
    "        d = copy.deepcopy(self.__dict__)\n",
    "        del d['estimated_membership_']\n",
    "        del d['x_to_sq_dist_']\n",
    "        return d\n",
    "        \n",
    "        \n",
    "    def __setstate__(self, d):\n",
    "        self.__dict__ = d\n",
    "        self.fix_object_state(self.X, self.y)\n",
    "        self.__dict__['estimated_membership_'] = self.estimated_membership_\n",
    "        self.__dict__['x_to_sq_dist_'] = self.x_to_sq_dist_\n",
    "        "
   ]
  },
  {
   "cell_type": "code",
   "execution_count": null,
   "metadata": {},
   "outputs": [
    {
     "data": {
      "text/markdown": [
       "<h4 id=\"FuzzyInductor.__init__\" class=\"doc_header\"><code>FuzzyInductor.__init__</code><a href=\"__main__.py#L5\" class=\"source_link\" style=\"float:right\">[source]</a></h4>\n",
       "\n",
       "> <code>FuzzyInductor.__init__</code>(**`c`**=*`1`*, **`k`**=*`GaussianKernel(1)`*, **`fuzzifier`**=*`(<class 'mulearn.fuzzifier.ExponentialFuzzifier'>, {})`*, **`solve_strategy`**=*`(<function solve_optimization_tensorflow at 0x7ff794b94378>, {})`*, **`random_state`**=*`None`*, **`return_profile`**=*`False`*)\n",
       "\n",
       "Creates an instance of [`FuzzyInductor`](/mulearn/mulearn#FuzzyInductor)\n",
       "\n",
       "- `c`: trade-off constant (`float`).\n",
       "\n",
       "- `k`: kernel function (`mulearn.kernel.Kernel`).\n",
       "\n",
       "- [`fuzzifier`](/mulearn/fuzzifier): fuzzifier mapping distance values to membership\n",
       "   degrees (tuple containing a `mulearn.fuzzifiers.Fuzzifier`\n",
       "   subclass F and a dictionary holding fixed parameters to be\n",
       "   passed to the constructor of F).\n",
       "\n",
       "- `solve_strategy`: strategy to be used to solve optimization (tuple\n",
       "   containing the reference to an optimization function and a\n",
       "   dictionary holding optimization parameters).\n",
       "\n",
       "- `random_state`: seed of pseudorandom generator (`int`).\n",
       "\n",
       "- `return_profile`: flag triggering the generation of the profile of\n",
       "  the learnt fuzzy set (`bool`)."
      ],
      "text/plain": [
       "<IPython.core.display.Markdown object>"
      ]
     },
     "metadata": {},
     "output_type": "display_data"
    }
   ],
   "source": [
    "show_doc(FuzzyInductor.__init__)"
   ]
  },
  {
   "cell_type": "code",
   "execution_count": null,
   "metadata": {},
   "outputs": [
    {
     "name": "stdout",
     "output_type": "stream",
     "text": [
      "c is 1\n",
      "k is GaussianKernel(1)\n",
      "fuzzifier is (<class 'mulearn.fuzzifier.ExponentialFuzzifier'>, {})\n"
     ]
    }
   ],
   "source": [
    "xs  = [[1], [2], [3], [4], [5],  [6], [7], [8], [9]]\n",
    "mus = [1,     1,  .8,  .7,  .4,   .2,   0,   0,  0]\n",
    "\n",
    "f = FuzzyInductor()"
   ]
  },
  {
   "cell_type": "code",
   "execution_count": null,
   "metadata": {},
   "outputs": [
    {
     "data": {
      "text/markdown": [
       "<h4 id=\"FuzzyInductor.fit\" class=\"doc_header\"><code>FuzzyInductor.fit</code><a href=\"__main__.py#L108\" class=\"source_link\" style=\"float:right\">[source]</a></h4>\n",
       "\n",
       "> <code>FuzzyInductor.fit</code>(**`X`**, **`y`**, **\\*\\*`kwargs`**)\n",
       "\n",
       "Induces the membership function starting from a labeled sample\n",
       "\n",
       "- `X`: vectors in data space (iterable of `float` vectors having the\n",
       "  same length).\n",
       "\n",
       "- `y`: membership for the vectors in `X` (iterable of `float` having\n",
       "  the same length of `X`).\n",
       "  \n",
       "Returns: self\n",
       "\n",
       "Throws:\n",
       "\n",
       "- ValueError if the values in `y` are not between 0 and 1, if `X` and\n",
       "  have different lengths, or if `X` contains elements of different\n",
       "  lengths."
      ],
      "text/plain": [
       "<IPython.core.display.Markdown object>"
      ]
     },
     "metadata": {},
     "output_type": "display_data"
    }
   ],
   "source": [
    "show_doc(FuzzyInductor.fit)"
   ]
  },
  {
   "cell_type": "code",
   "execution_count": null,
   "metadata": {},
   "outputs": [
    {
     "name": "stderr",
     "output_type": "stream",
     "text": [
      "100%|██████████| 100/100 [00:01<00:00, 70.74it/s]\n"
     ]
    }
   ],
   "source": [
    "predictions = f.fit(xs, mus)"
   ]
  },
  {
   "cell_type": "code",
   "execution_count": null,
   "metadata": {},
   "outputs": [
    {
     "data": {
      "text/markdown": [
       "<h4 id=\"FuzzyInductor.predict\" class=\"doc_header\"><code>FuzzyInductor.predict</code><a href=\"__main__.py#L162\" class=\"source_link\" style=\"float:right\">[source]</a></h4>\n",
       "\n",
       "> <code>FuzzyInductor.predict</code>(**`X`**)\n",
       "\n",
       "Computes predictions for the membership grades of one or more\n",
       "vectors.\n",
       "\n",
       "- `X`: vectors in data space (iterable of vectors having the same\n",
       "  length).\n",
       "  \n",
       "Returns: array of the predictions for each value in `X`."
      ],
      "text/plain": [
       "<IPython.core.display.Markdown object>"
      ]
     },
     "metadata": {},
     "output_type": "display_data"
    }
   ],
   "source": [
    "show_doc(FuzzyInductor.predict)"
   ]
  },
  {
   "cell_type": "code",
   "execution_count": null,
   "metadata": {},
   "outputs": [
    {
     "data": {
      "text/plain": [
       "array([0.50000001, 0.50000002])"
      ]
     },
     "execution_count": null,
     "metadata": {},
     "output_type": "execute_result"
    }
   ],
   "source": [
    "f.predict([[0], [19]])"
   ]
  },
  {
   "cell_type": "code",
   "execution_count": null,
   "metadata": {},
   "outputs": [
    {
     "data": {
      "text/markdown": [
       "<h4 id=\"FuzzyInductor.score\" class=\"doc_header\"><code>FuzzyInductor.score</code><a href=\"__main__.py#L177\" class=\"source_link\" style=\"float:right\">[source]</a></h4>\n",
       "\n",
       "> <code>FuzzyInductor.score</code>(**`X`**, **`y`**)\n",
       "\n",
       "Computes the negated accuracy of the learnt fuzzy set against\n",
       "a set of labeled data.\n",
       "\n",
       "- `X`: vectors in data space (iterable of `float` vectors having the\n",
       "  same length).\n",
       "  \n",
       "- `y`: membership for the vectors in `X` (iterable of `float` having\n",
       "  the same length of `X`).\n",
       "  \n",
       "Returns: negated accuracy of the predictions done on the elements in\n",
       "`X` w.r.t. the labels in `y`."
      ],
      "text/plain": [
       "<IPython.core.display.Markdown object>"
      ]
     },
     "metadata": {},
     "output_type": "display_data"
    }
   ],
   "source": [
    "show_doc(FuzzyInductor.score)"
   ]
  },
  {
   "cell_type": "code",
   "execution_count": null,
   "metadata": {},
   "outputs": [
    {
     "data": {
      "text/plain": [
       "-0.16444445088953805"
      ]
     },
     "execution_count": null,
     "metadata": {},
     "output_type": "execute_result"
    }
   ],
   "source": [
    "f.score(xs, mus)"
   ]
  },
  {
   "cell_type": "code",
   "execution_count": null,
   "metadata": {},
   "outputs": [],
   "source": []
  },
  {
   "cell_type": "code",
   "execution_count": null,
   "metadata": {},
   "outputs": [],
   "source": []
  },
  {
   "cell_type": "code",
   "execution_count": null,
   "metadata": {},
   "outputs": [],
   "source": []
  },
  {
   "cell_type": "code",
   "execution_count": null,
   "metadata": {},
   "outputs": [
    {
     "data": {
      "image/png": "[encoded data removed]",
      "text/plain": [
       "<Figure size 432x288 with 1 Axes>"
      ]
     },
     "metadata": {
      "needs_background": "light"
     },
     "output_type": "display_data"
    }
   ],
   "source": [
    "%matplotlib inline\n",
    "import matplotlib.pyplot as plt\n",
    "import pandas as pd\n",
    "import numpy as np\n",
    "from sklearn.decomposition import PCA\n",
    "\n",
    "source = 'https://archive.ics.uci.edu/ml/machine-learning-databases/iris/iris.data'\n",
    "\n",
    "iris_df = pd.read_csv(source, header=None)\n",
    "iris_df.columns=['sepal_length', 'sepal_width', 'petal_length', 'petal_width', 'class']\n",
    "\n",
    "iris_values = iris_df.iloc[:,0:4].values\n",
    "iris_labels = iris_df.iloc[:,4].values\n",
    "\n",
    "pca_2d = PCA(n_components=2)\n",
    "iris_values_2d = pca_2d.fit_transform(iris_values)\n",
    "\n",
    "def gr_dataset(): \n",
    "    for lab, col in zip(('Iris-setosa', 'Iris-versicolor', 'Iris-virginica'),\n",
    "                        ('blue', 'green', 'red')):\n",
    "        plt.scatter(iris_values_2d[iris_labels==lab, 0],\n",
    "                    iris_values_2d[iris_labels==lab, 1],\n",
    "                    label=lab,\n",
    "                    c=col)\n",
    "\n",
    "gr_dataset()"
   ]
  },
  {
   "cell_type": "code",
   "execution_count": null,
   "metadata": {},
   "outputs": [],
   "source": [
    "def to_membership_values(labels, target):\n",
    "    return [1 if l==target else 0 for l in labels]\n",
    "\n",
    "mu = {}\n",
    "for target in ('Iris-setosa', 'Iris-versicolor', 'Iris-virginica'):\n",
    "    mu[target] = to_membership_values(iris_labels, target)"
   ]
  },
  {
   "cell_type": "code",
   "execution_count": null,
   "metadata": {},
   "outputs": [],
   "source": [
    "def gr_membership_contour(estimated_membership):\n",
    "    x = np.linspace(-4, 4, 50)\n",
    "    y = np.linspace(-4, 4, 50)\n",
    "    X, Y = np.meshgrid(x, y)\n",
    "    zs = np.array([estimated_membership((x, y))\n",
    "                   for x,y in zip(np.ravel(X), np.ravel(Y))])\n",
    "    Z = zs.reshape(X.shape)\n",
    "    membership_contour = plt.contour(X, Y, Z,\n",
    "                                     levels=(.1, .3, .5, .95), colors='k')\n",
    "    plt.clabel(membership_contour, inline=1)"
   ]
  },
  {
   "cell_type": "code",
   "execution_count": null,
   "metadata": {},
   "outputs": [
    {
     "name": "stdout",
     "output_type": "stream",
     "text": [
      "c is 1\n",
      "k is GaussianKernel(1)\n",
      "fuzzifier is (<class 'mulearn.fuzzifier.ExponentialFuzzifier'>, {})\n"
     ]
    },
    {
     "name": "stderr",
     "output_type": "stream",
     "text": [
      "100%|██████████| 100/100 [00:16<00:00,  5.92it/s]\n"
     ]
    },
    {
     "data": {
      "text/plain": [
       "FuzzyInductor(c=1,\n",
       "              fuzzifier=(<class 'mulearn.fuzzifier.ExponentialFuzzifier'>, {}),\n",
       "              k=GaussianKernel(1), random_state=None, return_profile=False,\n",
       "              solve_strategy=(<function solve_optimization_tensorflow at 0x7ff794b94378>,\n",
       "                              {}))"
      ]
     },
     "execution_count": null,
     "metadata": {},
     "output_type": "execute_result"
    }
   ],
   "source": [
    "f = FuzzyInductor()\n",
    "f.fit(iris_values_2d, mu['Iris-virginica'])"
   ]
  },
  {
   "cell_type": "code",
   "execution_count": null,
   "metadata": {},
   "outputs": [],
   "source": [
    "from mulearn.kernel import GaussianKernel\n",
    "\n",
    "sigmas = [.225,.5]\n",
    "parameters = parameters = {'c':[1,10,100],\n",
    "                           'k':[GaussianKernel(i) for i in sigmas]}"
   ]
  },
  {
   "cell_type": "code",
   "execution_count": null,
   "metadata": {},
   "outputs": [
    {
     "name": "stdout",
     "output_type": "stream",
     "text": [
      "c is 1\n",
      "k is GaussianKernel(1)\n",
      "fuzzifier is (<class 'mulearn.fuzzifier.ExponentialFuzzifier'>, {})\n"
     ]
    }
   ],
   "source": [
    "f = FuzzyInductor()"
   ]
  },
  {
   "cell_type": "code",
   "execution_count": null,
   "metadata": {},
   "outputs": [
    {
     "name": "stdout",
     "output_type": "stream",
     "text": [
      "c is 1\n",
      "k is GaussianKernel(1)\n",
      "fuzzifier is (<class 'mulearn.fuzzifier.ExponentialFuzzifier'>, {})\n",
      "c is 1\n",
      "k is GaussianKernel(1)\n",
      "fuzzifier is (<class 'mulearn.fuzzifier.ExponentialFuzzifier'>, {})\n"
     ]
    },
    {
     "name": "stderr",
     "output_type": "stream",
     "text": [
      "100%|██████████| 100/100 [00:13<00:00,  7.16it/s]\n"
     ]
    },
    {
     "name": "stdout",
     "output_type": "stream",
     "text": [
      "c is 1\n",
      "k is GaussianKernel(1)\n",
      "fuzzifier is (<class 'mulearn.fuzzifier.ExponentialFuzzifier'>, {})\n"
     ]
    },
    {
     "name": "stderr",
     "output_type": "stream",
     "text": [
      "100%|██████████| 100/100 [00:14<00:00,  6.92it/s]\n"
     ]
    },
    {
     "name": "stdout",
     "output_type": "stream",
     "text": [
      "c is 1\n",
      "k is GaussianKernel(1)\n",
      "fuzzifier is (<class 'mulearn.fuzzifier.ExponentialFuzzifier'>, {})\n"
     ]
    },
    {
     "name": "stderr",
     "output_type": "stream",
     "text": [
      "100%|██████████| 100/100 [00:15<00:00,  6.65it/s]\n"
     ]
    },
    {
     "name": "stdout",
     "output_type": "stream",
     "text": [
      "c is 1\n",
      "k is GaussianKernel(1)\n",
      "fuzzifier is (<class 'mulearn.fuzzifier.ExponentialFuzzifier'>, {})\n"
     ]
    },
    {
     "name": "stderr",
     "output_type": "stream",
     "text": [
      "100%|██████████| 100/100 [00:15<00:00,  6.63it/s]\n"
     ]
    },
    {
     "name": "stdout",
     "output_type": "stream",
     "text": [
      "c is 1\n",
      "k is GaussianKernel(1)\n",
      "fuzzifier is (<class 'mulearn.fuzzifier.ExponentialFuzzifier'>, {})\n"
     ]
    },
    {
     "name": "stderr",
     "output_type": "stream",
     "text": [
      "100%|██████████| 100/100 [00:15<00:00,  6.47it/s]\n"
     ]
    },
    {
     "name": "stdout",
     "output_type": "stream",
     "text": [
      "c is 1\n",
      "k is GaussianKernel(1)\n",
      "fuzzifier is (<class 'mulearn.fuzzifier.ExponentialFuzzifier'>, {})\n"
     ]
    },
    {
     "name": "stderr",
     "output_type": "stream",
     "text": [
      "100%|██████████| 100/100 [00:15<00:00,  6.39it/s]\n"
     ]
    },
    {
     "name": "stdout",
     "output_type": "stream",
     "text": [
      "c is 1\n",
      "k is GaussianKernel(1)\n",
      "fuzzifier is (<class 'mulearn.fuzzifier.ExponentialFuzzifier'>, {})\n"
     ]
    },
    {
     "name": "stderr",
     "output_type": "stream",
     "text": [
      "100%|██████████| 100/100 [00:16<00:00,  6.22it/s]\n"
     ]
    },
    {
     "name": "stdout",
     "output_type": "stream",
     "text": [
      "c is 1\n",
      "k is GaussianKernel(1)\n",
      "fuzzifier is (<class 'mulearn.fuzzifier.ExponentialFuzzifier'>, {})\n"
     ]
    },
    {
     "name": "stderr",
     "output_type": "stream",
     "text": [
      "100%|██████████| 100/100 [00:16<00:00,  6.20it/s]\n"
     ]
    },
    {
     "name": "stdout",
     "output_type": "stream",
     "text": [
      "c is 1\n",
      "k is GaussianKernel(1)\n",
      "fuzzifier is (<class 'mulearn.fuzzifier.ExponentialFuzzifier'>, {})\n"
     ]
    },
    {
     "name": "stderr",
     "output_type": "stream",
     "text": [
      "100%|██████████| 100/100 [00:15<00:00,  6.31it/s]\n"
     ]
    },
    {
     "name": "stdout",
     "output_type": "stream",
     "text": [
      "c is 1\n",
      "k is GaussianKernel(1)\n",
      "fuzzifier is (<class 'mulearn.fuzzifier.ExponentialFuzzifier'>, {})\n"
     ]
    },
    {
     "name": "stderr",
     "output_type": "stream",
     "text": [
      "100%|██████████| 100/100 [00:16<00:00,  5.96it/s]\n"
     ]
    },
    {
     "name": "stdout",
     "output_type": "stream",
     "text": [
      "c is 1\n",
      "k is GaussianKernel(1)\n",
      "fuzzifier is (<class 'mulearn.fuzzifier.ExponentialFuzzifier'>, {})\n"
     ]
    },
    {
     "name": "stderr",
     "output_type": "stream",
     "text": [
      "100%|██████████| 100/100 [00:16<00:00,  6.16it/s]\n"
     ]
    },
    {
     "name": "stdout",
     "output_type": "stream",
     "text": [
      "c is 1\n",
      "k is GaussianKernel(1)\n",
      "fuzzifier is (<class 'mulearn.fuzzifier.ExponentialFuzzifier'>, {})\n"
     ]
    },
    {
     "name": "stderr",
     "output_type": "stream",
     "text": [
      "100%|██████████| 100/100 [00:16<00:00,  6.22it/s]\n"
     ]
    },
    {
     "name": "stdout",
     "output_type": "stream",
     "text": [
      "c is 1\n",
      "k is GaussianKernel(1)\n",
      "fuzzifier is (<class 'mulearn.fuzzifier.ExponentialFuzzifier'>, {})\n"
     ]
    },
    {
     "name": "stderr",
     "output_type": "stream",
     "text": [
      "100%|██████████| 100/100 [00:14<00:00,  6.68it/s]\n"
     ]
    },
    {
     "name": "stdout",
     "output_type": "stream",
     "text": [
      "c is 1\n",
      "k is GaussianKernel(1)\n",
      "fuzzifier is (<class 'mulearn.fuzzifier.ExponentialFuzzifier'>, {})\n"
     ]
    },
    {
     "name": "stderr",
     "output_type": "stream",
     "text": [
      "100%|██████████| 100/100 [00:14<00:00,  7.02it/s]\n"
     ]
    },
    {
     "name": "stdout",
     "output_type": "stream",
     "text": [
      "c is 1\n",
      "k is GaussianKernel(1)\n",
      "fuzzifier is (<class 'mulearn.fuzzifier.ExponentialFuzzifier'>, {})\n"
     ]
    },
    {
     "name": "stderr",
     "output_type": "stream",
     "text": [
      "100%|██████████| 100/100 [00:14<00:00,  7.07it/s]\n"
     ]
    },
    {
     "name": "stdout",
     "output_type": "stream",
     "text": [
      "c is 1\n",
      "k is GaussianKernel(1)\n",
      "fuzzifier is (<class 'mulearn.fuzzifier.ExponentialFuzzifier'>, {})\n"
     ]
    },
    {
     "name": "stderr",
     "output_type": "stream",
     "text": [
      "100%|██████████| 100/100 [00:13<00:00,  7.20it/s]\n"
     ]
    },
    {
     "name": "stdout",
     "output_type": "stream",
     "text": [
      "c is 1\n",
      "k is GaussianKernel(1)\n",
      "fuzzifier is (<class 'mulearn.fuzzifier.ExponentialFuzzifier'>, {})\n"
     ]
    },
    {
     "name": "stderr",
     "output_type": "stream",
     "text": [
      "100%|██████████| 100/100 [00:14<00:00,  7.12it/s]\n"
     ]
    },
    {
     "name": "stdout",
     "output_type": "stream",
     "text": [
      "c is 1\n",
      "k is GaussianKernel(1)\n",
      "fuzzifier is (<class 'mulearn.fuzzifier.ExponentialFuzzifier'>, {})\n"
     ]
    },
    {
     "name": "stderr",
     "output_type": "stream",
     "text": [
      "100%|██████████| 100/100 [00:14<00:00,  7.01it/s]\n"
     ]
    },
    {
     "name": "stdout",
     "output_type": "stream",
     "text": [
      "c is 1\n",
      "k is GaussianKernel(1)\n",
      "fuzzifier is (<class 'mulearn.fuzzifier.ExponentialFuzzifier'>, {})\n"
     ]
    },
    {
     "name": "stderr",
     "output_type": "stream",
     "text": [
      "100%|██████████| 100/100 [00:13<00:00,  7.20it/s]\n"
     ]
    },
    {
     "name": "stdout",
     "output_type": "stream",
     "text": [
      "c is 1\n",
      "k is GaussianKernel(1)\n",
      "fuzzifier is (<class 'mulearn.fuzzifier.ExponentialFuzzifier'>, {})\n"
     ]
    },
    {
     "name": "stderr",
     "output_type": "stream",
     "text": [
      "100%|██████████| 100/100 [00:13<00:00,  7.22it/s]\n"
     ]
    },
    {
     "name": "stdout",
     "output_type": "stream",
     "text": [
      "c is 1\n",
      "k is GaussianKernel(1)\n",
      "fuzzifier is (<class 'mulearn.fuzzifier.ExponentialFuzzifier'>, {})\n"
     ]
    },
    {
     "name": "stderr",
     "output_type": "stream",
     "text": [
      "100%|██████████| 100/100 [00:13<00:00,  7.25it/s]\n"
     ]
    },
    {
     "name": "stdout",
     "output_type": "stream",
     "text": [
      "c is 1\n",
      "k is GaussianKernel(1)\n",
      "fuzzifier is (<class 'mulearn.fuzzifier.ExponentialFuzzifier'>, {})\n"
     ]
    },
    {
     "name": "stderr",
     "output_type": "stream",
     "text": [
      "100%|██████████| 100/100 [00:14<00:00,  7.11it/s]\n"
     ]
    },
    {
     "name": "stdout",
     "output_type": "stream",
     "text": [
      "c is 1\n",
      "k is GaussianKernel(1)\n",
      "fuzzifier is (<class 'mulearn.fuzzifier.ExponentialFuzzifier'>, {})\n"
     ]
    },
    {
     "name": "stderr",
     "output_type": "stream",
     "text": [
      "100%|██████████| 100/100 [00:14<00:00,  7.08it/s]\n"
     ]
    },
    {
     "name": "stdout",
     "output_type": "stream",
     "text": [
      "c is 1\n",
      "k is GaussianKernel(1)\n",
      "fuzzifier is (<class 'mulearn.fuzzifier.ExponentialFuzzifier'>, {})\n"
     ]
    },
    {
     "name": "stderr",
     "output_type": "stream",
     "text": [
      "100%|██████████| 100/100 [00:14<00:00,  7.00it/s]\n"
     ]
    },
    {
     "name": "stdout",
     "output_type": "stream",
     "text": [
      "c is 1\n",
      "k is GaussianKernel(1)\n",
      "fuzzifier is (<class 'mulearn.fuzzifier.ExponentialFuzzifier'>, {})\n"
     ]
    },
    {
     "name": "stderr",
     "output_type": "stream",
     "text": [
      "100%|██████████| 100/100 [00:14<00:00,  7.10it/s]\n"
     ]
    },
    {
     "name": "stdout",
     "output_type": "stream",
     "text": [
      "c is 1\n",
      "k is GaussianKernel(1)\n",
      "fuzzifier is (<class 'mulearn.fuzzifier.ExponentialFuzzifier'>, {})\n"
     ]
    },
    {
     "name": "stderr",
     "output_type": "stream",
     "text": [
      "100%|██████████| 100/100 [00:14<00:00,  7.12it/s]\n"
     ]
    },
    {
     "name": "stdout",
     "output_type": "stream",
     "text": [
      "c is 1\n",
      "k is GaussianKernel(1)\n",
      "fuzzifier is (<class 'mulearn.fuzzifier.ExponentialFuzzifier'>, {})\n"
     ]
    },
    {
     "name": "stderr",
     "output_type": "stream",
     "text": [
      "100%|██████████| 100/100 [00:14<00:00,  6.98it/s]\n"
     ]
    },
    {
     "name": "stdout",
     "output_type": "stream",
     "text": [
      "c is 1\n",
      "k is GaussianKernel(1)\n",
      "fuzzifier is (<class 'mulearn.fuzzifier.ExponentialFuzzifier'>, {})\n"
     ]
    },
    {
     "name": "stderr",
     "output_type": "stream",
     "text": [
      "100%|██████████| 100/100 [00:13<00:00,  7.24it/s]\n"
     ]
    },
    {
     "name": "stdout",
     "output_type": "stream",
     "text": [
      "c is 1\n",
      "k is GaussianKernel(1)\n",
      "fuzzifier is (<class 'mulearn.fuzzifier.ExponentialFuzzifier'>, {})\n"
     ]
    },
    {
     "name": "stderr",
     "output_type": "stream",
     "text": [
      "100%|██████████| 100/100 [00:13<00:00,  7.16it/s]\n"
     ]
    },
    {
     "name": "stdout",
     "output_type": "stream",
     "text": [
      "c is 1\n",
      "k is GaussianKernel(1)\n",
      "fuzzifier is (<class 'mulearn.fuzzifier.ExponentialFuzzifier'>, {})\n"
     ]
    },
    {
     "name": "stderr",
     "output_type": "stream",
     "text": [
      "100%|██████████| 100/100 [00:14<00:00,  6.84it/s]\n"
     ]
    },
    {
     "name": "stdout",
     "output_type": "stream",
     "text": [
      "c is 1\n",
      "k is GaussianKernel(1)\n",
      "fuzzifier is (<class 'mulearn.fuzzifier.ExponentialFuzzifier'>, {})\n",
      "c is 100\n",
      "k is GaussianKernel(0.5)\n",
      "fuzzifier is (<class 'mulearn.fuzzifier.ExponentialFuzzifier'>, {})\n"
     ]
    },
    {
     "name": "stderr",
     "output_type": "stream",
     "text": [
      "100%|██████████| 100/100 [00:17<00:00,  5.86it/s]\n"
     ]
    },
    {
     "data": {
      "text/plain": [
       "GridSearchCV(cv=None, error_score=nan,\n",
       "             estimator=FuzzyInductor(c=1,\n",
       "                                     fuzzifier=(<class 'mulearn.fuzzifier.ExponentialFuzzifier'>,\n",
       "                                                {}),\n",
       "                                     k=GaussianKernel(1), random_state=None,\n",
       "                                     return_profile=False,\n",
       "                                     solve_strategy=(<function solve_optimization_tensorflow at 0x7ff794b94378>,\n",
       "                                                     {})),\n",
       "             iid='deprecated', n_jobs=None,\n",
       "             param_grid={'c': [1, 10, 100],\n",
       "                         'k': [GaussianKernel(0.225), GaussianKernel(0.5)]},\n",
       "             pre_dispatch='2*n_jobs', refit=True, return_train_score=False,\n",
       "             scoring=None, verbose=0)"
      ]
     },
     "execution_count": null,
     "metadata": {},
     "output_type": "execute_result"
    }
   ],
   "source": [
    "from sklearn.model_selection import GridSearchCV\n",
    "\n",
    "virginica = GridSearchCV(f, param_grid=parameters)\n",
    "virginica.fit(iris_values_2d, mu['Iris-virginica'])"
   ]
  },
  {
   "cell_type": "code",
   "execution_count": null,
   "metadata": {},
   "outputs": [
    {
     "data": {
      "text/plain": [
       "{'c': 100, 'k': GaussianKernel(0.5)}"
      ]
     },
     "execution_count": null,
     "metadata": {},
     "output_type": "execute_result"
    }
   ],
   "source": [
    "virginica.best_params_"
   ]
  },
  {
   "cell_type": "code",
   "execution_count": null,
   "metadata": {},
   "outputs": [
    {
     "data": {
      "text/plain": [
       "-0.11186209954887447"
      ]
     },
     "execution_count": null,
     "metadata": {},
     "output_type": "execute_result"
    }
   ],
   "source": [
    "virginica.best_score_"
   ]
  },
  {
   "cell_type": "code",
   "execution_count": null,
   "metadata": {},
   "outputs": [
    {
     "data": {
      "text/plain": [
       "FuzzyInductor(c=100,\n",
       "              fuzzifier=(<class 'mulearn.fuzzifier.ExponentialFuzzifier'>, {}),\n",
       "              k=GaussianKernel(0.5), random_state=None, return_profile=False,\n",
       "              solve_strategy=(<function solve_optimization_tensorflow at 0x7ff794b94378>,\n",
       "                              {}))"
      ]
     },
     "execution_count": null,
     "metadata": {},
     "output_type": "execute_result"
    }
   ],
   "source": [
    "virginica.best_estimator_"
   ]
  },
  {
   "cell_type": "code",
   "execution_count": null,
   "metadata": {},
   "outputs": [],
   "source": []
  }
 ],
 "metadata": {
  "kernelspec": {
   "display_name": "Python 3",
   "language": "python",
   "name": "python3"
  }
 },
 "nbformat": 4,
 "nbformat_minor": 4
}
