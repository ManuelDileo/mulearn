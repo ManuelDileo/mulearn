{
 "cells": [
  {
   "cell_type": "markdown",
   "metadata": {},
   "source": [
    "<h1>Table of Contents<span class=\"tocSkip\"></span></h1>\n",
    "<div class=\"toc\"><ul class=\"toc-item\"></ul></div>"
   ]
  },
  {
   "cell_type": "code",
   "execution_count": null,
   "metadata": {},
   "outputs": [],
   "source": [
    "#export\n",
    "\n",
    "import numpy as np\n",
    "\n",
    "from sklearn.base import BaseEstimator, RegressorMixin\n",
    "from sklearn.utils.validation import check_X_y, check_array, check_is_fitted\n",
    "from sklearn.utils import check_random_state\n",
    "\n",
    "import mulearn.kernel as kernel\n",
    "import mulearn.fuzzifier as fuzz\n",
    "from mulearn.optimization import solve_optimization\n",
    "from mulearn.optimization import solve_optimization_tensorflow"
   ]
  },
  {
   "cell_type": "code",
   "execution_count": null,
   "metadata": {},
   "outputs": [],
   "source": [
    "# default_exp __init__"
   ]
  },
  {
   "cell_type": "code",
   "execution_count": null,
   "metadata": {},
   "outputs": [],
   "source": [
    "#hide\n",
    "from nbdev.showdoc import show_doc"
   ]
  },
  {
   "cell_type": "code",
   "execution_count": null,
   "metadata": {},
   "outputs": [],
   "source": [
    "#export\n",
    "\n",
    "class FuzzyInductor(BaseEstimator, RegressorMixin):\n",
    "\n",
    "    def __init__(self,\n",
    "                 c=1,\n",
    "                 k=kernel.GaussianKernel(),\n",
    "                 sample_generator=None,\n",
    "                 fuzzifier=fuzz.ExponentialFuzzifier,\n",
    "                 solve_strategy=(solve_optimization_tensorflow, {}),\n",
    "                 random_state=None,\n",
    "                 return_vars=False,\n",
    "                 return_profile=False):\n",
    "        self.c = c\n",
    "        self.k = k\n",
    "        self.sample_generator = sample_generator\n",
    "        self.fuzzifier = fuzzifier\n",
    "        self.solve_strategy = solve_strategy\n",
    "        self.random_state = random_state\n",
    "        self.return_vars = return_vars\n",
    "        self.return_profile = return_profile\n",
    "\n",
    "    def fit(self, X, y, **kwargs):\n",
    "\n",
    "        check_X_y(X, y)\n",
    "        self.random_state_ = check_random_state(self.random_state)\n",
    "\n",
    "        if 'warm_start' in kwargs and kwargs['warm_start']:\n",
    "            check_is_fitted(self, ['chis_', 'estimated_membership_'])\n",
    "            self.solve_strategy[1]['init'] = self.chis_\n",
    "\n",
    "        self.chis_ = solve_optimization(X, y,\n",
    "                                        self.c, self.k,\n",
    "                                        self.solve_strategy[0],\n",
    "                                        **self.solve_strategy[1])\n",
    "\n",
    "        if type(self.k) is kernel.PrecomputedKernel:\n",
    "            self.gram_ = self.k.kernel_computations\n",
    "        else:\n",
    "            self.gram_ = np.array([[self.k.compute(x1, x2) for x1 in X]\n",
    "                                    for x2 in X])\n",
    "        self.fixed_term_ = np.array(self.chis_).dot(self.gram_.dot(self.chis_))\n",
    "\n",
    "        def x_to_sq_dist(x_new):\n",
    "            ret = self.k.compute(x_new, x_new) \\\n",
    "                  - 2 * np.array([self.k.compute(x_i, x_new)\n",
    "                                  for x_i in X]).dot(self.chis_) \\\n",
    "                  + self.fixed_term_\n",
    "            return ret\n",
    "        self.x_to_sq_dist_ = x_to_sq_dist\n",
    "\n",
    "        self.chi_SV_index_ = [i for i, (chi, mu) in enumerate(zip(self.chis_,\n",
    "                                                                  y))\n",
    "                              if -self.c * (1-mu) < chi < self.c * mu]\n",
    "        \n",
    "        print(X[self.chi_SV_index_])\n",
    "\n",
    "        #self.chi_SV_index_ = [i for i in range(len(self.chis)_) \\\n",
    "        #        if -self.c*(1-self.mu[i]) < self.chis_[i] < self.c*self.mu[i]]\n",
    "\n",
    "        chi_SV_square_distance = map(x_to_sq_dist, X[self.chi_SV_index_])\n",
    "        chi_SV_square_distance = list(chi_SV_square_distance)\n",
    "        #chi_SV_square_distance = [x_to_sq_dist(x[i]) for i in chi_SV_index]\n",
    "\n",
    "        if len(chi_SV_square_distance) == 0:\n",
    "            self.estimated_membership_ = None\n",
    "            self.train_error_ = np.inf\n",
    "            self.chis_ = None\n",
    "            self.profile = None\n",
    "            warn('No support vectors found')\n",
    "            return self\n",
    "            #raise ValueError('No support vectors found')\n",
    "\n",
    "        self.SV_square_distance_ = np.mean(chi_SV_square_distance)\n",
    "        num_samples = 500\n",
    "\n",
    "        if self.sample_generator is None:\n",
    "            self.sample_generator = lambda x: x\n",
    "\n",
    "        #sample = map(self.sample_generator,\n",
    "        #             self.random_state_.random_sample(num_samples))\n",
    "        sample = self.sample_generator(num_samples)\n",
    "\n",
    "\n",
    "        fuzzifier = self.fuzzifier(X, y)\n",
    "        result = fuzzifier.get_membership(\n",
    "                self.SV_square_distance_,\n",
    "                sample,\n",
    "                self.x_to_sq_dist_,\n",
    "                return_profile=self.return_profile)\n",
    "\n",
    "\n",
    "        if self.return_profile:\n",
    "            self.estimated_membership_, self.profile_ = result\n",
    "        else:\n",
    "            self.estimated_membership_ = result[0]\n",
    "\n",
    "        self.train_error_ = np.mean([(self.estimated_membership_(x) - mu)**2\n",
    "                                    for x, mu in zip(X, y)])\n",
    "\n",
    "        return self\n",
    "\n",
    "\n",
    "    def predict(self, X):\n",
    "\n",
    "        check_is_fitted(self, ['chis_', 'estimated_membership_'])\n",
    "        X = check_array(X)\n",
    "        return np.array([self.estimated_membership_(x) for x in X])\n",
    "\n",
    "    def score(self, X, y):\n",
    "        if self.estimated_membership_ is None:\n",
    "            return -np.inf\n",
    "        else:\n",
    "            return -np.mean([(self.estimated_membership_(x) - mu)**2\n",
    "                             for x, mu in zip(X, y)])"
   ]
  },
  {
   "cell_type": "code",
   "execution_count": null,
   "metadata": {},
   "outputs": [],
   "source": [
    "xs  = np.array([[1], [2], [3], [4], [5],  [6], [7], [8], [9]])\n",
    "mus = [1,     1,  .8,  .7,  .4,   .2,   0,   0,  0]\n",
    "\n",
    "f = FuzzyInductor()"
   ]
  },
  {
   "cell_type": "code",
   "execution_count": null,
   "metadata": {},
   "outputs": [
    {
     "name": "stderr",
     "output_type": "stream",
     "text": [
      "100%|██████████| 100/100 [00:01<00:00, 50.39it/s]\n"
     ]
    },
    {
     "name": "stdout",
     "output_type": "stream",
     "text": [
      "[[1]\n",
      " [2]\n",
      " [3]\n",
      " [4]\n",
      " [5]\n",
      " [6]]\n"
     ]
    },
    {
     "ename": "TypeError",
     "evalue": "get_membership() got multiple values for argument 'return_profile'",
     "output_type": "error",
     "traceback": [
      "\u001b[0;31m---------------------------------------------------------------------------\u001b[0m",
      "\u001b[0;31mTypeError\u001b[0m                                 Traceback (most recent call last)",
      "\u001b[0;32m<ipython-input-49-6daab55c28bd>\u001b[0m in \u001b[0;36m<module>\u001b[0;34m\u001b[0m\n\u001b[0;32m----> 1\u001b[0;31m \u001b[0mf\u001b[0m\u001b[0;34m.\u001b[0m\u001b[0mfit\u001b[0m\u001b[0;34m(\u001b[0m\u001b[0mxs\u001b[0m\u001b[0;34m,\u001b[0m \u001b[0mmus\u001b[0m\u001b[0;34m)\u001b[0m\u001b[0;34m\u001b[0m\u001b[0;34m\u001b[0m\u001b[0m\n\u001b[0m",
      "\u001b[0;32m<ipython-input-47-dc6841a7898d>\u001b[0m in \u001b[0;36mfit\u001b[0;34m(self, X, y, **kwargs)\u001b[0m\n\u001b[1;32m     88\u001b[0m                 \u001b[0msample\u001b[0m\u001b[0;34m,\u001b[0m\u001b[0;34m\u001b[0m\u001b[0;34m\u001b[0m\u001b[0m\n\u001b[1;32m     89\u001b[0m                 \u001b[0mself\u001b[0m\u001b[0;34m.\u001b[0m\u001b[0mx_to_sq_dist_\u001b[0m\u001b[0;34m,\u001b[0m\u001b[0;34m\u001b[0m\u001b[0;34m\u001b[0m\u001b[0m\n\u001b[0;32m---> 90\u001b[0;31m                 return_profile=self.return_profile)\n\u001b[0m\u001b[1;32m     91\u001b[0m \u001b[0;34m\u001b[0m\u001b[0m\n\u001b[1;32m     92\u001b[0m \u001b[0;34m\u001b[0m\u001b[0m\n",
      "\u001b[0;31mTypeError\u001b[0m: get_membership() got multiple values for argument 'return_profile'"
     ]
    }
   ],
   "source": [
    "f.fit(xs, mus)"
   ]
  },
  {
   "cell_type": "code",
   "execution_count": null,
   "metadata": {},
   "outputs": [],
   "source": []
  }
 ],
 "metadata": {
  "kernelspec": {
   "display_name": "Python 3",
   "language": "python",
   "name": "python3"
  }
 },
 "nbformat": 4,
 "nbformat_minor": 4
}
