{
 "cells": [
  {
   "cell_type": "markdown",
   "metadata": {},
   "source": [
    "# The `mulearn.kernel` module \n",
    "\n",
    "> The `mulearn.kernel` module contains the implementations of kernels."
   ]
  },
  {
   "cell_type": "code",
   "execution_count": null,
   "metadata": {},
   "outputs": [],
   "source": [
    "# export\n",
    "\n",
    "import numpy as np\n",
    "import pytest"
   ]
  },
  {
   "cell_type": "code",
   "execution_count": null,
   "metadata": {},
   "outputs": [],
   "source": [
    "# default_exp kernel"
   ]
  },
  {
   "cell_type": "code",
   "execution_count": null,
   "metadata": {},
   "outputs": [],
   "source": [
    "#hide\n",
    "from nbdev.showdoc import show_doc"
   ]
  },
  {
   "cell_type": "code",
   "execution_count": null,
   "metadata": {},
   "outputs": [],
   "source": [
    "#export\n",
    "\n",
    "class Kernel:\n",
    "    \n",
    "    def __init__(self):\n",
    "\n",
    "        self.precomputed = False\n",
    "\n",
    "    def compute(self, arg_1, arg_2):\n",
    "\n",
    "        raise NotImplementedError(\n",
    "            'this class does not implement the compute method')\n",
    "        \n",
    "    def __str__(self):\n",
    "        return self.__repr__()\n",
    "\n",
    "    def __eq__(self, other):\n",
    "        return type(self) == type(other)\n",
    "\n",
    "    def __ne__(self, other):\n",
    "        return not self == other\n",
    "    \n",
    "    def __nonzero__(self):\n",
    "        return True\n",
    "    \n",
    "    def __hash__(self):\n",
    "        return hash(self.__repr__())\n",
    "        \n",
    "    @classmethod\n",
    "    def get_default(cls):\n",
    "        r'''Return the default kernel.\n",
    "        '''\n",
    "        \n",
    "        return LinearKernel()\n"
   ]
  },
  {
   "cell_type": "markdown",
   "metadata": {},
   "source": [
    "The base class for kernels is `Kernel`: it exposes a generic constructor and\n",
    "a base `compute` method, which is only callable by subclasses. The class\n",
    "method `get_default` returns a default kernel subclass."
   ]
  },
  {
   "cell_type": "code",
   "execution_count": null,
   "metadata": {},
   "outputs": [
    {
     "data": {
      "text/markdown": [
       "<h4 id=\"Kernel.get_default\" class=\"doc_header\"><code>Kernel.get_default</code><a href=\"__main__.py#L29\" class=\"source_link\" style=\"float:right\">[source]</a></h4>\n",
       "\n",
       "> <code>Kernel.get_default</code>()\n",
       "\n",
       "Return the default kernel.\n",
       "        "
      ],
      "text/plain": [
       "<IPython.core.display.Markdown object>"
      ]
     },
     "metadata": {},
     "output_type": "display_data"
    }
   ],
   "source": [
    "show_doc(Kernel.get_default)"
   ]
  },
  {
   "cell_type": "code",
   "execution_count": null,
   "metadata": {},
   "outputs": [],
   "source": [
    "#export\n",
    "\n",
    "class LinearKernel(Kernel):\n",
    "    \n",
    "    def compute(self, arg_1, arg_2):\n",
    "        r'''\n",
    "        Compute the dot product between `arg_1` and `arg_2`, where the\n",
    "        dot product $x \\cdot y$ is intended as the quantity\n",
    "        $\\sum_{i=1}^n x_i y_i$, $n$ being the dimension of both\n",
    "        $x$ and $y$.\n",
    "\n",
    "        - `arg_1`: first dot product argument (iterable).\n",
    "\n",
    "        - `arg_2`: second dot product argument (iterable).\n",
    "\n",
    "        Returns: kernel value (float).'''\n",
    "\n",
    "        return float(np.dot(arg_1, arg_2))\n",
    "\n",
    "    def __repr__(self):\n",
    "        return 'LinearKernel()'\n",
    "    "
   ]
  },
  {
   "cell_type": "markdown",
   "metadata": {},
   "source": [
    "Linear kernel corresponding to dot product in the original space. This kernel\n",
    "is unique, thus it is instantiated invoking the constructor without arguments."
   ]
  },
  {
   "cell_type": "code",
   "execution_count": null,
   "metadata": {},
   "outputs": [],
   "source": [
    "k = LinearKernel()"
   ]
  },
  {
   "cell_type": "code",
   "execution_count": null,
   "metadata": {},
   "outputs": [
    {
     "data": {
      "text/markdown": [
       "<h4 id=\"LinearKernel.compute\" class=\"doc_header\"><code>LinearKernel.compute</code><a href=\"__main__.py#L5\" class=\"source_link\" style=\"float:right\">[source]</a></h4>\n",
       "\n",
       "> <code>LinearKernel.compute</code>(**`arg_1`**, **`arg_2`**)\n",
       "\n",
       "Compute the dot product between `arg_1` and `arg_2`, where the\n",
       "dot product $x \\cdot y$ is intended as the quantity\n",
       "$\\sum_{i=1}^n x_i y_i$, $n$ being the dimension of both\n",
       "$x$ and $y$.\n",
       "\n",
       "- `arg_1`: first dot product argument (iterable).\n",
       "\n",
       "- `arg_2`: second dot product argument (iterable).\n",
       "\n",
       "Returns: kernel value (float)."
      ],
      "text/plain": [
       "<IPython.core.display.Markdown object>"
      ]
     },
     "metadata": {},
     "output_type": "display_data"
    }
   ],
   "source": [
    " show_doc(LinearKernel.compute)"
   ]
  },
  {
   "cell_type": "markdown",
   "metadata": {},
   "source": [
    "**Examples**\n",
    "\n",
    " Arguments of a dot product are iterables having the same\n",
    " length, expressed as arguments of method `compute`:"
   ]
  },
  {
   "cell_type": "code",
   "execution_count": null,
   "metadata": {},
   "outputs": [
    {
     "data": {
      "text/plain": [
       "9.0"
      ]
     },
     "execution_count": null,
     "metadata": {},
     "output_type": "execute_result"
    }
   ],
   "source": [
    "k.compute((1, 0, 2), (-1, 2, 5))"
   ]
  },
  {
   "cell_type": "code",
   "execution_count": null,
   "metadata": {},
   "outputs": [
    {
     "data": {
      "text/plain": [
       "3.3200000000000003"
      ]
     },
     "execution_count": null,
     "metadata": {},
     "output_type": "execute_result"
    }
   ],
   "source": [
    "k.compute([1.2, -0.4, -2], [4, 1.2, .5])"
   ]
  },
  {
   "cell_type": "markdown",
   "metadata": {},
   "source": [
    "Different numeric iterables can intertwine as arguments:"
   ]
  },
  {
   "cell_type": "code",
   "execution_count": null,
   "metadata": {},
   "outputs": [
    {
     "data": {
      "text/plain": [
       "3.3200000000000003"
      ]
     },
     "execution_count": null,
     "metadata": {},
     "output_type": "execute_result"
    }
   ],
   "source": [
    "k.compute((1.2, -0.4, -2), [4, 1.2, .5])"
   ]
  },
  {
   "cell_type": "markdown",
   "metadata": {},
   "source": [
    "Specification of iterables having unequal length causes a `ValueError` to be\n",
    "thrown."
   ]
  },
  {
   "cell_type": "markdown",
   "metadata": {},
   "source": [
    "**Tests**"
   ]
  },
  {
   "cell_type": "code",
   "execution_count": null,
   "metadata": {},
   "outputs": [],
   "source": [
    "assert(k.compute((1, 0, 2), (-1, 2, 5)) == 9)\n",
    "assert(k.compute([1.2, -0.4, -2], [4, 1.2, .5]) == pytest.approx(3.32))\n",
    "assert(k.compute((1.2, -0.4, -2), [4, 1.2, .5]) == pytest.approx(3.32))\n",
    "with pytest.raises(ValueError):\n",
    "    k.compute((1, 0, 2), (-1, 2))"
   ]
  },
  {
   "cell_type": "code",
   "execution_count": null,
   "metadata": {},
   "outputs": [],
   "source": [
    "# export\n",
    "\n",
    "class PolynomialKernel(Kernel):\n",
    "\n",
    "    def __init__(self, degree):\n",
    "        r'''Creates an instance of `PolynomialKernel`\n",
    "        \n",
    "        - `degree`: degree of the polynomial kernel (positive integer).\n",
    "        '''\n",
    "\n",
    "        Kernel.__init__(self)\n",
    "        if degree > 0 and isinstance(degree, int):\n",
    "            self.degree = degree\n",
    "        else:\n",
    "            raise ValueError(str(degree) +\n",
    "                ' is not usable as a polynomial degree')\n",
    "\n",
    "    def compute(self, arg_1, arg_2):\n",
    "        r'''\n",
    "        Compute the polynomial kernel between `arg_1` and `arg_2`,\n",
    "        where the kernel value $k(x_1, x_2)$ is intended as the quantity\n",
    "        $(x_1 \\cdot x_2 + 1)^d$, $d$ being the polynomial degree of\n",
    "        the kernel.\n",
    "\n",
    "        - `arg_1` first argument to the polynomial kernel (iterable).\n",
    "\n",
    "        - `arg_2` second argument to the polynomial kernel (iterable).\n",
    "\n",
    "        Returns: kernel value (float)\n",
    "        '''\n",
    "\n",
    "        return float((np.dot(arg_1, arg_2) + 1) ** self.degree)\n",
    "\n",
    "    def __repr__(self):\n",
    "        return 'PolynomialKernel(' + repr(self.degree) + ')'\n",
    "    "
   ]
  },
  {
   "cell_type": "markdown",
   "metadata": {},
   "source": [
    "Kernel corresponding to a dot product after mapping points on a\n",
    "higher-dimensional space through a polynomial (affine) transformation. A\n",
    "hyperplane in this space corresponds to polynomial surfaces in the original\n",
    "space."
   ]
  },
  {
   "cell_type": "code",
   "execution_count": null,
   "metadata": {},
   "outputs": [
    {
     "data": {
      "text/markdown": [
       "<h4 id=\"PolynomialKernel.__init__\" class=\"doc_header\"><code>PolynomialKernel.__init__</code><a href=\"__main__.py#L5\" class=\"source_link\" style=\"float:right\">[source]</a></h4>\n",
       "\n",
       "> <code>PolynomialKernel.__init__</code>(**`degree`**)\n",
       "\n",
       "Creates an instance of [`PolynomialKernel`](/mulearn/kernel#PolynomialKernel)\n",
       "\n",
       "- `degree`: degree of the polynomial kernel (positive integer)."
      ],
      "text/plain": [
       "<IPython.core.display.Markdown object>"
      ]
     },
     "metadata": {},
     "output_type": "display_data"
    }
   ],
   "source": [
    "show_doc(PolynomialKernel.__init__)"
   ]
  },
  {
   "cell_type": "markdown",
   "metadata": {},
   "source": [
    "A `PolynomialKernel` object is obtained in function of its degree."
   ]
  },
  {
   "cell_type": "code",
   "execution_count": null,
   "metadata": {},
   "outputs": [],
   "source": [
    "k = PolynomialKernel(2)"
   ]
  },
  {
   "cell_type": "markdown",
   "metadata": {},
   "source": [
    "Only positive integers can be used as polynomial degree, otherwise a\n",
    "`ValueError` is thrown."
   ]
  },
  {
   "cell_type": "code",
   "execution_count": null,
   "metadata": {},
   "outputs": [
    {
     "data": {
      "text/markdown": [
       "<h4 id=\"PolynomialKernel.compute\" class=\"doc_header\"><code>PolynomialKernel.compute</code><a href=\"__main__.py#L18\" class=\"source_link\" style=\"float:right\">[source]</a></h4>\n",
       "\n",
       "> <code>PolynomialKernel.compute</code>(**`arg_1`**, **`arg_2`**)\n",
       "\n",
       "Compute the polynomial kernel between `arg_1` and `arg_2`,\n",
       "where the kernel value $k(x_1, x_2)$ is intended as the quantity\n",
       "$(x_1 \\cdot x_2 + 1)^d$, $d$ being the polynomial degree of\n",
       "the kernel.\n",
       "\n",
       "- `arg_1` first argument to the polynomial kernel (iterable).\n",
       "\n",
       "- `arg_2` second argument to the polynomial kernel (iterable).\n",
       "\n",
       "Returns: kernel value (float)"
      ],
      "text/plain": [
       "<IPython.core.display.Markdown object>"
      ]
     },
     "metadata": {},
     "output_type": "display_data"
    }
   ],
   "source": [
    "show_doc(PolynomialKernel.compute)"
   ]
  },
  {
   "cell_type": "markdown",
   "metadata": {},
   "source": [
    "Arguments of `compute` are numeric iterables (possibily intertwined) having\n",
    "the same length:"
   ]
  },
  {
   "cell_type": "code",
   "execution_count": null,
   "metadata": {},
   "outputs": [
    {
     "data": {
      "text/plain": [
       "100.0"
      ]
     },
     "execution_count": null,
     "metadata": {},
     "output_type": "execute_result"
    }
   ],
   "source": [
    "k = PolynomialKernel(2)\n",
    "k.compute((1, 0, 2), (-1, 2, 5))"
   ]
  },
  {
   "cell_type": "code",
   "execution_count": null,
   "metadata": {},
   "outputs": [
    {
     "data": {
      "text/plain": [
       "18.6624"
      ]
     },
     "execution_count": null,
     "metadata": {},
     "output_type": "execute_result"
    }
   ],
   "source": [
    "k.compute([1.2, -0.4, -2], [4, 1.2, .5])"
   ]
  },
  {
   "cell_type": "code",
   "execution_count": null,
   "metadata": {},
   "outputs": [
    {
     "data": {
      "text/plain": [
       "100000.0"
      ]
     },
     "execution_count": null,
     "metadata": {},
     "output_type": "execute_result"
    }
   ],
   "source": [
    "k = PolynomialKernel(5)\n",
    "k.compute((1, 0, 2), [-1, 2, 5])"
   ]
  },
  {
   "cell_type": "code",
   "execution_count": null,
   "metadata": {},
   "outputs": [
    {
     "data": {
      "text/plain": [
       "1504.5919506432006"
      ]
     },
     "execution_count": null,
     "metadata": {},
     "output_type": "execute_result"
    }
   ],
   "source": [
    "k.compute((1.2, -0.4, -2), (4, 1.2, .5))"
   ]
  },
  {
   "cell_type": "markdown",
   "metadata": {},
   "source": [
    "Specification of iterables having unequal length causes a `ValueError` to be\n",
    "thrown."
   ]
  },
  {
   "cell_type": "markdown",
   "metadata": {},
   "source": [
    "**Tests**"
   ]
  },
  {
   "cell_type": "code",
   "execution_count": null,
   "metadata": {},
   "outputs": [],
   "source": [
    "with pytest.raises(ValueError):\n",
    "    PolynomialKernel(3.2)\n",
    "\n",
    "with pytest.raises(ValueError):\n",
    "    PolynomialKernel(-2)\n",
    "    \n",
    "k = PolynomialKernel(2)\n",
    "assert(k.compute((1, 0, 2), (-1, 2, 5)) == 100)\n",
    "assert(k.compute([1.2, -0.4, -2], [4, 1.2, .5]) == pytest.approx(18.6624))\n",
    "\n",
    "k = PolynomialKernel(5)\n",
    "assert(k.compute((1, 0, 2), [-1, 2, 5]) == 10**5)\n",
    "assert(k.compute((1.2, -0.4, -2), (4, 1.2, .5)) == pytest.approx(1504.59195))\n",
    "\n",
    "with pytest.raises(ValueError):\n",
    "    k.compute((1, 0, 2), (-1, 2))"
   ]
  },
  {
   "cell_type": "code",
   "execution_count": null,
   "metadata": {},
   "outputs": [],
   "source": [
    "#export\n",
    "\n",
    "class HomogeneousPolynomialKernel(Kernel):\n",
    "\n",
    "    def __init__(self, degree):\n",
    "        r'''Creates an instance of `HomogeneousPolynomialKernel`.\n",
    "        \n",
    "        - `degree`: polynomial degree (positive integer).\n",
    "        '''\n",
    "\n",
    "        Kernel.__init__(self)\n",
    "        if degree > 0 and isinstance(degree, int):\n",
    "            self.degree = degree\n",
    "        else:\n",
    "            raise ValueError(str(degree) +\n",
    "                ' is not usable as a polynomial degree')\n",
    "\n",
    "    def compute(self, arg_1, arg_2):\n",
    "        r'''\n",
    "        Compute the homogeneous polynomial kernel between `arg_1` and\n",
    "        `arg_2`, where the kernel value $k(x_1, x_2)$ is intended as\n",
    "        the quantity $(x_1 \\cdot x_2)^d$, $d$ being the polynomial\n",
    "        degree of the kernel.\n",
    "\n",
    "        - `arg_1`: first argument to the homogeneous polynomial kernel\n",
    "          (iterable).\n",
    "\n",
    "        - `arg_2`: second argument to the homogeneous polynomial kernel\n",
    "          (iterable).\n",
    "\n",
    "        Returns: kernel value (float).\n",
    "        '''\n",
    "\n",
    "        return float(np.dot(arg_1, arg_2) ** self.degree)\n",
    "\n",
    "    def __repr__(self):\n",
    "        return 'HomogeneousPolynomialKernel(' + repr(self.degree) + ')'\n"
   ]
  },
  {
   "cell_type": "markdown",
   "metadata": {},
   "source": [
    "Kernel corresponding to a dot product after mapping points on a\n",
    "higher-dimensional space through a polynomial (homogeneous) transformation.\n",
    "A hyperplane in this space corresponds to polynomial surfaces in the original\n",
    "space."
   ]
  },
  {
   "cell_type": "code",
   "execution_count": null,
   "metadata": {},
   "outputs": [
    {
     "data": {
      "text/markdown": [
       "<h4 id=\"HomogeneousPolynomialKernel.__init__\" class=\"doc_header\"><code>HomogeneousPolynomialKernel.__init__</code><a href=\"__main__.py#L5\" class=\"source_link\" style=\"float:right\">[source]</a></h4>\n",
       "\n",
       "> <code>HomogeneousPolynomialKernel.__init__</code>(**`degree`**)\n",
       "\n",
       "Creates an instance of [`HomogeneousPolynomialKernel`](/mulearn/kernel#HomogeneousPolynomialKernel).\n",
       "\n",
       "- `degree`: polynomial degree (positive integer)."
      ],
      "text/plain": [
       "<IPython.core.display.Markdown object>"
      ]
     },
     "metadata": {},
     "output_type": "display_data"
    }
   ],
   "source": [
    "show_doc(HomogeneousPolynomialKernel.__init__)"
   ]
  },
  {
   "cell_type": "markdown",
   "metadata": {},
   "source": [
    "An `HomogeneousPolynomialKernel` object is obtained in function of its degree."
   ]
  },
  {
   "cell_type": "code",
   "execution_count": null,
   "metadata": {},
   "outputs": [],
   "source": [
    "k = HomogeneousPolynomialKernel(2)"
   ]
  },
  {
   "cell_type": "markdown",
   "metadata": {},
   "source": [
    "Only positive integers can be used as polynomial degree, otherwise\n",
    "`ValueError` is thrown."
   ]
  },
  {
   "cell_type": "code",
   "execution_count": null,
   "metadata": {},
   "outputs": [
    {
     "data": {
      "text/markdown": [
       "<h4 id=\"HomogeneousPolynomialKernel.compute\" class=\"doc_header\"><code>HomogeneousPolynomialKernel.compute</code><a href=\"__main__.py#L18\" class=\"source_link\" style=\"float:right\">[source]</a></h4>\n",
       "\n",
       "> <code>HomogeneousPolynomialKernel.compute</code>(**`arg_1`**, **`arg_2`**)\n",
       "\n",
       "Compute the homogeneous polynomial kernel between `arg_1` and\n",
       "`arg_2`, where the kernel value $k(x_1, x_2)$ is intended as\n",
       "the quantity $(x_1 \\cdot x_2)^d$, $d$ being the polynomial\n",
       "degree of the kernel.\n",
       "\n",
       "- `arg_1`: first argument to the homogeneous polynomial kernel\n",
       "  (iterable).\n",
       "\n",
       "- `arg_2`: second argument to the homogeneous polynomial kernel\n",
       "  (iterable).\n",
       "\n",
       "Returns: kernel value (float)."
      ],
      "text/plain": [
       "<IPython.core.display.Markdown object>"
      ]
     },
     "metadata": {},
     "output_type": "display_data"
    }
   ],
   "source": [
    "show_doc(HomogeneousPolynomialKernel.compute)"
   ]
  },
  {
   "cell_type": "markdown",
   "metadata": {},
   "source": [
    "Arguments of `compute` are numerical iterables (possibily intertwined) having\n",
    "the same length."
   ]
  },
  {
   "cell_type": "code",
   "execution_count": null,
   "metadata": {},
   "outputs": [
    {
     "data": {
      "text/plain": [
       "81.0"
      ]
     },
     "execution_count": null,
     "metadata": {},
     "output_type": "execute_result"
    }
   ],
   "source": [
    "k = HomogeneousPolynomialKernel(2)\n",
    "k.compute((1, 0, 2), (-1, 2, 5))"
   ]
  },
  {
   "cell_type": "code",
   "execution_count": null,
   "metadata": {},
   "outputs": [
    {
     "data": {
      "text/plain": [
       "11.022400000000001"
      ]
     },
     "execution_count": null,
     "metadata": {},
     "output_type": "execute_result"
    }
   ],
   "source": [
    "k.compute([1.2, -0.4, -2], [4, 1.2, .5])"
   ]
  },
  {
   "cell_type": "code",
   "execution_count": null,
   "metadata": {},
   "outputs": [
    {
     "data": {
      "text/plain": [
       "59049.0"
      ]
     },
     "execution_count": null,
     "metadata": {},
     "output_type": "execute_result"
    }
   ],
   "source": [
    "k = HomogeneousPolynomialKernel(5)\n",
    "k.compute((1, 0, 2), [-1, 2, 5])"
   ]
  },
  {
   "cell_type": "code",
   "execution_count": null,
   "metadata": {},
   "outputs": [
    {
     "data": {
      "text/plain": [
       "403.3577618432002"
      ]
     },
     "execution_count": null,
     "metadata": {},
     "output_type": "execute_result"
    }
   ],
   "source": [
    "k.compute((1.2, -0.4, -2), (4, 1.2, .5))"
   ]
  },
  {
   "cell_type": "markdown",
   "metadata": {},
   "source": [
    "Specification of iterables having unequal length causes a `ValueError` to be\n",
    "thrown."
   ]
  },
  {
   "cell_type": "markdown",
   "metadata": {},
   "source": [
    "**Tests**"
   ]
  },
  {
   "cell_type": "code",
   "execution_count": null,
   "metadata": {},
   "outputs": [],
   "source": [
    "with pytest.raises(ValueError):\n",
    "    HomogeneousPolynomialKernel(3.2)\n",
    "\n",
    "with pytest.raises(ValueError):\n",
    "    HomogeneousPolynomialKernel(-2)\n",
    "    \n",
    "k = HomogeneousPolynomialKernel(2)\n",
    "assert(k.compute((1, 0, 2), (-1, 2, 5)) == 81.0)\n",
    "assert(k.compute([1.2, -0.4, -2], [4, 1.2, .5]) == pytest.approx(11.0224))\n",
    "\n",
    "k = HomogeneousPolynomialKernel(5)\n",
    "assert(k.compute((1, 0, 2), [-1, 2, 5]) == 59049.0)\n",
    "assert(k.compute((1.2, -0.4, -2), (4, 1.2, .5)) == pytest.approx(403.357761))\n",
    "\n",
    "with pytest.raises(ValueError):\n",
    "    k.compute((1, 0, 2), (-1, 2))"
   ]
  },
  {
   "cell_type": "code",
   "execution_count": null,
   "metadata": {},
   "outputs": [],
   "source": [
    "# export\n",
    "\n",
    "class GaussianKernel(Kernel):\n",
    "\n",
    "    def __init__(self, sigma=1):\n",
    "        r'''\n",
    "        Creates an instance of `GaussianKernel`.\n",
    "        \n",
    "        - `sigma`: gaussian standard deviation (positive float).\n",
    "        '''\n",
    "\n",
    "        Kernel.__init__(self)\n",
    "        if sigma > 0:\n",
    "            self.sigma = sigma\n",
    "        else:\n",
    "            raise ValueError(f'{sigma} is not usable '\n",
    "                             'as a gaussian standard deviation')\n",
    "\n",
    "    def compute(self, arg_1, arg_2):\n",
    "        r'''\n",
    "        Compute the gaussian kernel between `arg_1` and `arg_2`,\n",
    "        where the kernel value $k(x_1, x_2)$ is intended as the quantity\n",
    "        $\\mathrm e^{-\\frac{||x_1 - x_2||^2}{2 \\sigma^2}}$, $\\sigma$\n",
    "        being the kernel standard deviation.\n",
    "\n",
    "        - `arg_1`: first argument to the gaussian kernel (iterable).\n",
    "\n",
    "        - `arg_2`: second argument to the gaussian kernel (iterable).\n",
    "\n",
    "        Returns: kernel value (float).\n",
    "        '''\n",
    "        \n",
    "        diff = np.linalg.norm(np.array(arg_1) - np.array(arg_2)) ** 2\n",
    "        return float(np.exp(-1. * diff / (2 * self.sigma ** 2)))\n",
    "\n",
    "    def __repr__(self):\n",
    "        return 'GaussianKernel(' + repr(self.sigma) + ')'\n"
   ]
  },
  {
   "cell_type": "markdown",
   "metadata": {},
   "source": [
    "Kernel corresponding to a dot product after mapping points on an\n",
    "infinite-dimensional space. A hyperplane in this space corresponds to the\n",
    "superposition of exponential surfaces in the original space."
   ]
  },
  {
   "cell_type": "code",
   "execution_count": null,
   "metadata": {},
   "outputs": [
    {
     "data": {
      "text/markdown": [
       "<h4 id=\"GaussianKernel.__init__\" class=\"doc_header\"><code>GaussianKernel.__init__</code><a href=\"__main__.py#L5\" class=\"source_link\" style=\"float:right\">[source]</a></h4>\n",
       "\n",
       "> <code>GaussianKernel.__init__</code>(**`sigma`**=*`1`*)\n",
       "\n",
       "Creates an instance of [`GaussianKernel`](/mulearn/kernel#GaussianKernel).\n",
       "\n",
       "- `sigma`: gaussian standard deviation (positive float)."
      ],
      "text/plain": [
       "<IPython.core.display.Markdown object>"
      ]
     },
     "metadata": {},
     "output_type": "display_data"
    }
   ],
   "source": [
    "show_doc(GaussianKernel.__init__)"
   ]
  },
  {
   "cell_type": "markdown",
   "metadata": {},
   "source": [
    "A `GaussianKernel` object is obtained in function of the corresponding\n",
    "standard deviation."
   ]
  },
  {
   "cell_type": "code",
   "execution_count": null,
   "metadata": {},
   "outputs": [],
   "source": [
    "k = GaussianKernel(1)"
   ]
  },
  {
   "cell_type": "markdown",
   "metadata": {},
   "source": [
    "Only positive values can be used as standard deviation, otherwise a\n",
    "`ValueError` is thrown."
   ]
  },
  {
   "cell_type": "code",
   "execution_count": null,
   "metadata": {},
   "outputs": [
    {
     "data": {
      "text/markdown": [
       "<h4 id=\"GaussianKernel.compute\" class=\"doc_header\"><code>GaussianKernel.compute</code><a href=\"__main__.py#L19\" class=\"source_link\" style=\"float:right\">[source]</a></h4>\n",
       "\n",
       "> <code>GaussianKernel.compute</code>(**`arg_1`**, **`arg_2`**)\n",
       "\n",
       "Compute the gaussian kernel between `arg_1` and `arg_2`,\n",
       "where the kernel value $k(x_1, x_2)$ is intended as the quantity\n",
       "$\\mathrm e^{-\\frac{||x_1 - x_2||^2}{2 \\sigma^2}}$, $\\sigma$\n",
       "being the kernel standard deviation.\n",
       "\n",
       "- `arg_1`: first argument to the gaussian kernel (iterable).\n",
       "\n",
       "- `arg_2`: second argument to the gaussian kernel (iterable).\n",
       "\n",
       "Returns: kernel value (float)."
      ],
      "text/plain": [
       "<IPython.core.display.Markdown object>"
      ]
     },
     "metadata": {},
     "output_type": "display_data"
    }
   ],
   "source": [
    "show_doc(GaussianKernel.compute)"
   ]
  },
  {
   "cell_type": "markdown",
   "metadata": {},
   "source": [
    "Arguments of `compute` are numeric iterables (possibily intertwined) having\n",
    "the same length."
   ]
  },
  {
   "cell_type": "code",
   "execution_count": null,
   "metadata": {},
   "outputs": [
    {
     "data": {
      "text/plain": [
       "0.6065306597126334"
      ]
     },
     "execution_count": null,
     "metadata": {},
     "output_type": "execute_result"
    }
   ],
   "source": [
    "k = GaussianKernel(1)\n",
    "k.compute((1, 0, 1), (0, 0, 1))"
   ]
  },
  {
   "cell_type": "code",
   "execution_count": null,
   "metadata": {},
   "outputs": [
    {
     "data": {
      "text/plain": [
       "6.730852854223505e-20"
      ]
     },
     "execution_count": null,
     "metadata": {},
     "output_type": "execute_result"
    }
   ],
   "source": [
    "k.compute([-3, 1, 0.5], [1, 1.2, -8])"
   ]
  },
  {
   "cell_type": "code",
   "execution_count": null,
   "metadata": {},
   "outputs": [
    {
     "data": {
      "text/plain": [
       "3.290999446965383e-14"
      ]
     },
     "execution_count": null,
     "metadata": {},
     "output_type": "execute_result"
    }
   ],
   "source": [
    "k.compute([-1, -4, 3.5], (1, 3.2, 6))"
   ]
  },
  {
   "cell_type": "markdown",
   "metadata": {},
   "source": [
    "Specification of iterables having unequal length causes a`ValueError` to be\n",
    "thrown."
   ]
  },
  {
   "cell_type": "markdown",
   "metadata": {},
   "source": [
    "**Tests**"
   ]
  },
  {
   "cell_type": "code",
   "execution_count": null,
   "metadata": {},
   "outputs": [],
   "source": [
    "with pytest.raises(ValueError):\n",
    "    GaussianKernel(-5)\n",
    "    \n",
    "k = GaussianKernel(1)\n",
    "assert(k.compute((1, 0, 1), (0, 0, 1)) == pytest.approx(0.60653065))\n",
    "assert(k.compute([-3, 1, 0.5], [1, 1.2, -8]) == pytest.approx(6.73e-20))\n",
    "assert(k.compute([-1, -4, 3.5], (1, 3.2, 6)) == pytest.approx(3.29e-14))\n",
    "\n",
    "with pytest.raises(ValueError):\n",
    "    k.compute([-1, 3.5], (1, 3.2, 6))"
   ]
  },
  {
   "cell_type": "code",
   "execution_count": null,
   "metadata": {},
   "outputs": [],
   "source": [
    "# export\n",
    "\n",
    "class HyperbolicKernel(Kernel):\n",
    "\n",
    "    def __init__(self, scale=1, offset=0):\n",
    "        r'''Creates an instance of `HyperbolicKernel`.\n",
    "        \n",
    "        - `scale`: scale constant (float).\n",
    "\n",
    "        - `offset`: offset constant (float).\n",
    "        '''\n",
    "\n",
    "        Kernel.__init__(self)\n",
    "        self.scale = scale\n",
    "        self.offset = offset\n",
    "\n",
    "    def compute(self, arg_1, arg_2):\n",
    "        r'''Compute the hyperbolic kernel between `arg_1` and `arg_2`,\n",
    "        where the kernel value $k(x_1, x_2)$ is intended as the quantity\n",
    "        $\\tanh(\\alpha x_1 \\cdot x_2 + \\beta)$, $\\alpha$ and $\\beta$ being the\n",
    "        scale and offset values, respectively.\n",
    "\n",
    "        - `arg_1`: first argument to the gaussian kernel (iterable).\n",
    "\n",
    "        - `arg_2`: second argument to the gaussian kernel (iterable).\n",
    "\n",
    "        Returns: kernel value (float).\n",
    "        '''\n",
    "\n",
    "        #return float(tanh(self.scale * dot(arg_1, arg_2) +  self.offset))\n",
    "        dot_orig = np.dot(np.array(arg_1), np.array(arg_2))\n",
    "        return float(np.tanh(self.scale * dot_orig +  self.offset))\n",
    "\n",
    "    def __repr__(self):\n",
    "        return 'HyperbolicKernel(' + repr(self.scale) + ', ' + repr(self.offset) + ')'\n"
   ]
  },
  {
   "cell_type": "markdown",
   "metadata": {},
   "source": [
    "Pseudo-kernel corresponding to a dot product based on hyperbolic tangent."
   ]
  },
  {
   "cell_type": "code",
   "execution_count": null,
   "metadata": {},
   "outputs": [
    {
     "data": {
      "text/markdown": [
       "<h4 id=\"HyperbolicKernel.__init__\" class=\"doc_header\"><code>HyperbolicKernel.__init__</code><a href=\"__main__.py#L5\" class=\"source_link\" style=\"float:right\">[source]</a></h4>\n",
       "\n",
       "> <code>HyperbolicKernel.__init__</code>(**`scale`**=*`1`*, **`offset`**=*`0`*)\n",
       "\n",
       "Creates an instance of [`HyperbolicKernel`](/mulearn/kernel#HyperbolicKernel).\n",
       "\n",
       "- `scale`: scale constant (float).\n",
       "\n",
       "- `offset`: offset constant (float)."
      ],
      "text/plain": [
       "<IPython.core.display.Markdown object>"
      ]
     },
     "metadata": {},
     "output_type": "display_data"
    }
   ],
   "source": [
    "show_doc(HyperbolicKernel.__init__)"
   ]
  },
  {
   "cell_type": "markdown",
   "metadata": {},
   "source": [
    "A `HyperbolicKernel` object is obtained in function of its degree."
   ]
  },
  {
   "cell_type": "code",
   "execution_count": null,
   "metadata": {},
   "outputs": [],
   "source": [
    "k = HyperbolicKernel(1, 5)"
   ]
  },
  {
   "cell_type": "code",
   "execution_count": null,
   "metadata": {},
   "outputs": [
    {
     "data": {
      "text/markdown": [
       "<h4 id=\"HyperbolicKernel.compute\" class=\"doc_header\"><code>HyperbolicKernel.compute</code><a href=\"__main__.py#L17\" class=\"source_link\" style=\"float:right\">[source]</a></h4>\n",
       "\n",
       "> <code>HyperbolicKernel.compute</code>(**`arg_1`**, **`arg_2`**)\n",
       "\n",
       "Compute the hyperbolic kernel between `arg_1` and `arg_2`,\n",
       "where the kernel value $k(x_1, x_2)$ is intended as the quantity\n",
       "$\\tanh(\\alpha x_1 \\cdot x_2 + \\beta)$, $\\alpha$ and $\\beta$ being the\n",
       "scale and offset values, respectively.\n",
       "\n",
       "- `arg_1`: first argument to the gaussian kernel (iterable).\n",
       "\n",
       "- `arg_2`: second argument to the gaussian kernel (iterable).\n",
       "\n",
       "Returns: kernel value (float)."
      ],
      "text/plain": [
       "<IPython.core.display.Markdown object>"
      ]
     },
     "metadata": {},
     "output_type": "display_data"
    }
   ],
   "source": [
    "show_doc(HyperbolicKernel.compute)"
   ]
  },
  {
   "cell_type": "markdown",
   "metadata": {},
   "source": [
    "Arguments of `compute` are numerical iterables (possibily intertwined) having\n",
    "the same length."
   ]
  },
  {
   "cell_type": "code",
   "execution_count": null,
   "metadata": {},
   "outputs": [
    {
     "data": {
      "text/plain": [
       "0.9999877116507956"
      ]
     },
     "execution_count": null,
     "metadata": {},
     "output_type": "execute_result"
    }
   ],
   "source": [
    "k = HyperbolicKernel(1, 5)\n",
    "k.compute((1, 0, 1), (0, 0, 1))"
   ]
  },
  {
   "cell_type": "code",
   "execution_count": null,
   "metadata": {},
   "outputs": [
    {
     "data": {
      "text/plain": [
       "-0.6640367702678489"
      ]
     },
     "execution_count": null,
     "metadata": {},
     "output_type": "execute_result"
    }
   ],
   "source": [
    "k.compute([-3, 1, 0.5], [1, 1.2, -8])"
   ]
  },
  {
   "cell_type": "code",
   "execution_count": null,
   "metadata": {},
   "outputs": [
    {
     "data": {
      "text/plain": [
       "0.999999999949389"
      ]
     },
     "execution_count": null,
     "metadata": {},
     "output_type": "execute_result"
    }
   ],
   "source": [
    "k.compute([-1, -4, 3.5], (1, 3.2, 6))"
   ]
  },
  {
   "cell_type": "markdown",
   "metadata": {},
   "source": [
    "Specification of iterables having unequal length causes a `ValueError` to be\n",
    "thrown."
   ]
  },
  {
   "cell_type": "markdown",
   "metadata": {},
   "source": [
    "**Tests**"
   ]
  },
  {
   "cell_type": "code",
   "execution_count": null,
   "metadata": {},
   "outputs": [],
   "source": [
    "k = HyperbolicKernel(1, 5)\n",
    "assert(k.compute((1, 0, 1), (0, 0, 1)) == pytest.approx(0.9999877))\n",
    "assert(k.compute([-3, 1, 0.5], [1, 1.2, -8]) == pytest.approx(-0.6640367))\n",
    "assert(k.compute([-1, -4, 3.5], (1, 3.2, 6)) == pytest.approx(0.9999999))\n",
    "\n",
    "with pytest.raises(ValueError):\n",
    "    k.compute([-1, 3.5], (1, 3.2, 6))"
   ]
  },
  {
   "cell_type": "code",
   "execution_count": null,
   "metadata": {},
   "outputs": [],
   "source": [
    "# export\n",
    "\n",
    "class PrecomputedKernel(Kernel):\n",
    "\n",
    "    def __init__(self, kernel_computations):\n",
    "        r'''\n",
    "        Creates an instance of ``PrecomputedKernel``.\n",
    "        \n",
    "        - `kernel_computations`: kernel computations (square matrix of float\n",
    "          elements).\n",
    "        '''\n",
    "\n",
    "        Kernel.__init__(self)\n",
    "        self.precomputed = True\n",
    "        try:\n",
    "            (rows, columns) = np.array(kernel_computations).shape\n",
    "        except ValueError:\n",
    "            raise ValueError('The supplied matrix is not array-like ')\n",
    "\n",
    "        if rows != columns:\n",
    "            raise ValueError('The supplied matrix is not square')\n",
    "\n",
    "        self.kernel_computations = kernel_computations\n",
    "\n",
    "    def compute(self, arg_1, arg_2):\n",
    "        r'''Compute a value of the kernel, given the indices of the\n",
    "        corresponding objects. Note that each index should be enclosed\n",
    "        within an iterable in order to be compatible with sklearn.\n",
    "\n",
    "        - ``arg_1``: first kernel argument (iterable contining one int).\n",
    "\n",
    "        - ``arg_2``: second kernel argument (iterable contining one int).\n",
    "\n",
    "        Returns: kernel value (float).\n",
    "        '''\n",
    "\n",
    "        return float(self.kernel_computations[arg_1[0]][arg_2[0]])\n",
    "\n",
    "    def __repr__(self):\n",
    "        return 'PrecomputedKernel(' + repr(self.kernel_computations) + ')'\n"
   ]
  },
  {
   "cell_type": "markdown",
   "metadata": {},
   "source": [
    "Custom kernel whose entries are precomputed and stored in a matrix."
   ]
  },
  {
   "cell_type": "code",
   "execution_count": null,
   "metadata": {},
   "outputs": [
    {
     "data": {
      "text/markdown": [
       "<h4 id=\"PrecomputedKernel.__init__\" class=\"doc_header\"><code>PrecomputedKernel.__init__</code><a href=\"__main__.py#L5\" class=\"source_link\" style=\"float:right\">[source]</a></h4>\n",
       "\n",
       "> <code>PrecomputedKernel.__init__</code>(**`kernel_computations`**)\n",
       "\n",
       "Creates an instance of ``PrecomputedKernel``.\n",
       "\n",
       "- `kernel_computations`: kernel computations (square matrix of float\n",
       "  elements)."
      ],
      "text/plain": [
       "<IPython.core.display.Markdown object>"
      ]
     },
     "metadata": {},
     "output_type": "display_data"
    }
   ],
   "source": [
    "show_doc(PrecomputedKernel.__init__)"
   ]
  },
  {
   "cell_type": "markdown",
   "metadata": {},
   "source": [
    "A `PrecomputedKernel` object is obtained in function of the square matrix\n",
    "containing its computations."
   ]
  },
  {
   "cell_type": "code",
   "execution_count": null,
   "metadata": {},
   "outputs": [],
   "source": [
    "k = PrecomputedKernel(((9, 1, 4, 4),\n",
    "                       (1, 1, 1, 1), \n",
    "                       (4, 1, 4, 1),\n",
    "                       (4, 1, 1, 4)))"
   ]
  },
  {
   "cell_type": "markdown",
   "metadata": {},
   "source": [
    " Specification of non-square matrices as arguments to the constructor cause\n",
    " `ValueError` to be thrown."
   ]
  },
  {
   "cell_type": "code",
   "execution_count": null,
   "metadata": {},
   "outputs": [
    {
     "data": {
      "text/markdown": [
       "<h4 id=\"PrecomputedKernel.compute\" class=\"doc_header\"><code>PrecomputedKernel.compute</code><a href=\"__main__.py#L25\" class=\"source_link\" style=\"float:right\">[source]</a></h4>\n",
       "\n",
       "> <code>PrecomputedKernel.compute</code>(**`arg_1`**, **`arg_2`**)\n",
       "\n",
       "Compute a value of the kernel, given the indices of the\n",
       "corresponding objects. Note that each index should be enclosed\n",
       "within an iterable in order to be compatible with sklearn.\n",
       "\n",
       "- ``arg_1``: first kernel argument (iterable contining one int).\n",
       "\n",
       "- ``arg_2``: second kernel argument (iterable contining one int).\n",
       "\n",
       "Returns: kernel value (float)."
      ],
      "text/plain": [
       "<IPython.core.display.Markdown object>"
      ]
     },
     "metadata": {},
     "output_type": "display_data"
    }
   ],
   "source": [
    "show_doc(PrecomputedKernel.compute)"
   ]
  },
  {
   "cell_type": "markdown",
   "metadata": {},
   "source": [
    "Arguments of `compute` are integers corresponding to the original\n",
    "patterns in a sample. To be compliant with `sklearn` both indices should\n",
    "be enclosed within iterables."
   ]
  },
  {
   "cell_type": "code",
   "execution_count": null,
   "metadata": {},
   "outputs": [
    {
     "data": {
      "text/plain": [
       "4.0"
      ]
     },
     "execution_count": null,
     "metadata": {},
     "output_type": "execute_result"
    }
   ],
   "source": [
    "k = PrecomputedKernel(((1, 2), (3, 4)))\n",
    "k.compute([1], [1])"
   ]
  },
  {
   "cell_type": "code",
   "execution_count": null,
   "metadata": {},
   "outputs": [
    {
     "data": {
      "text/plain": [
       "3.0"
      ]
     },
     "execution_count": null,
     "metadata": {},
     "output_type": "execute_result"
    }
   ],
   "source": [
    "k.compute([1], [0])"
   ]
  },
  {
   "cell_type": "markdown",
   "metadata": {},
   "source": [
    "Specification of an invalid argument to `compute` causes an `IndexError` to\n",
    "be thrown. For instance, the kernel previously defined stores a $2 \\times 2$\n",
    "matrix, so that only `0` and `1` will be valid arguments. Moreover,\n",
    "specification of non-integer values will cause a `TypeError` to be thrown."
   ]
  },
  {
   "cell_type": "markdown",
   "metadata": {},
   "source": [
    "**Tests**"
   ]
  },
  {
   "cell_type": "code",
   "execution_count": null,
   "metadata": {},
   "outputs": [],
   "source": [
    "k = PrecomputedKernel(((9, 1, 4, 4),\n",
    "                       (1, 1, 1, 1),\n",
    "                       (4, 1, 4, 1),\n",
    "                       (4, 1, 1, 4)))\n",
    "\n",
    "with pytest.raises(ValueError):\n",
    "    PrecomputedKernel(((1, 2), (3, 4, 5)))\n",
    "\n",
    "        \n",
    "k = PrecomputedKernel(((1, 2), (3, 4)))\n",
    "assert(k.compute([1], [1]) == 4.0)\n",
    "assert(k.compute([1], [0]) == 3.0)\n",
    "\n",
    "with pytest.raises(IndexError):\n",
    "    k.compute([1], [2])\n",
    "\n",
    "with pytest.raises(TypeError):\n",
    "    k.compute([0], [1.6])"
   ]
  },
  {
   "cell_type": "code",
   "execution_count": null,
   "metadata": {},
   "outputs": [],
   "source": []
  }
 ],
 "metadata": {
  "kernelspec": {
   "display_name": "Python 3",
   "language": "python",
   "name": "python3"
  }
 },
 "nbformat": 4,
 "nbformat_minor": 2
}
