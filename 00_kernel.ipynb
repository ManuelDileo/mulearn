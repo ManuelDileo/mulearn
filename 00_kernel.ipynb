{
 "cells": [
  {
   "cell_type": "markdown",
   "metadata": {},
   "source": [
    "# The kernel module \n",
    "\n",
    "> The `kernel` module contains the implementations of kernels."
   ]
  },
  {
   "cell_type": "code",
   "execution_count": null,
   "metadata": {},
   "outputs": [],
   "source": [
    "# export\n",
    "\n",
    "import numpy as np\n",
    "import pytest"
   ]
  },
  {
   "cell_type": "code",
   "execution_count": null,
   "metadata": {},
   "outputs": [],
   "source": [
    "# default_exp kernel"
   ]
  },
  {
   "cell_type": "code",
   "execution_count": null,
   "metadata": {},
   "outputs": [],
   "source": [
    "#hide\n",
    "from nbdev.showdoc import show_doc"
   ]
  },
  {
   "cell_type": "markdown",
   "metadata": {},
   "source": [
    "## Base class\n",
    "\n",
    "The base class for kernels is `Kernel`: it exposes a generic constructor and a base `compute` method, which is only callable by subclasses. The class method `get_default` returns a default kernel subclass."
   ]
  },
  {
   "cell_type": "code",
   "execution_count": null,
   "metadata": {},
   "outputs": [],
   "source": [
    "#export\n",
    "\n",
    "class Kernel(object):\n",
    "    \n",
    "    def __init__(self):\n",
    "\n",
    "        self.precomputed = False\n",
    "\n",
    "    def compute(self, arg_1, arg_2):\n",
    "\n",
    "        raise NotImplementedError(\n",
    "            'this class does not implement the compute method')\n",
    "        \n",
    "    @classmethod\n",
    "    def get_default(cls):\n",
    "        r'''Return the default kernel.\n",
    "        '''\n",
    "        \n",
    "        return LinearKernel()\n"
   ]
  },
  {
   "cell_type": "code",
   "execution_count": null,
   "metadata": {},
   "outputs": [
    {
     "data": {
      "text/markdown": [
       "<h4 id=\"Kernel.get_default\" class=\"doc_header\"><code>Kernel.get_default</code><a href=\"__main__.py#L14\" class=\"source_link\" style=\"float:right\">[source]</a></h4>\n",
       "\n",
       "> <code>Kernel.get_default</code>()\n",
       "\n",
       "Return the default kernel.\n",
       "        "
      ],
      "text/plain": [
       "<IPython.core.display.Markdown object>"
      ]
     },
     "metadata": {},
     "output_type": "display_data"
    }
   ],
   "source": [
    "show_doc(Kernel.get_default)"
   ]
  },
  {
   "cell_type": "markdown",
   "metadata": {},
   "source": [
    "## Linear kernel\n",
    "\n",
    "Linear kernel corresponding to dot product in the original space."
   ]
  },
  {
   "cell_type": "code",
   "execution_count": null,
   "metadata": {},
   "outputs": [],
   "source": [
    "#export\n",
    "\n",
    "class LinearKernel(Kernel):\n",
    "    \n",
    "    def compute(self, arg_1, arg_2):\n",
    "        r'''\n",
    "        Compute the dot product between `arg_1` and `arg_2`, where the\n",
    "        dot product $x \\cdot y$ is intended as the quantity\n",
    "        $\\sum_{i=1}^n x_i y_i$, $n$ being the dimension of both\n",
    "        $x$ and $y$.\n",
    "\n",
    "        - `arg_1`: first dot product argument (iterable).\n",
    "\n",
    "        - `arg_2`: second dot product argument (iterable).\n",
    "\n",
    "        Returns: kernel value (float).'''\n",
    "\n",
    "        return float(np.dot(arg_1, arg_2))\n",
    "\n",
    "    def __repr__(self):\n",
    "        return 'LinearKernel()'\n",
    "\n",
    "    def __str__(self):\n",
    "        return self.__repr__()\n",
    "\n",
    "    def __eq__(self, other):\n",
    "        return type(self) == type(other)\n",
    "\n",
    "    def __ne__(self, other):\n",
    "        return not self == other\n",
    "\n",
    "    def __hash__(self):\n",
    "        return hash('LinearKernel')\n",
    "\n",
    "    def __nonzero__(self):\n",
    "        return True"
   ]
  },
  {
   "cell_type": "code",
   "execution_count": null,
   "metadata": {},
   "outputs": [
    {
     "data": {
      "text/markdown": [
       "<h4 id=\"LinearKernel.compute\" class=\"doc_header\"><code>LinearKernel.compute</code><a href=\"__main__.py#L5\" class=\"source_link\" style=\"float:right\">[source]</a></h4>\n",
       "\n",
       "> <code>LinearKernel.compute</code>(**`arg_1`**, **`arg_2`**)\n",
       "\n",
       "Compute the dot product between `arg_1` and `arg_2`, where the\n",
       "dot product $x \\cdot y$ is intended as the quantity\n",
       "$\\sum_{i=1}^n x_i y_i$, $n$ being the dimension of both\n",
       "$x$ and $y$.\n",
       "\n",
       "- `arg_1`: first dot product argument (iterable).\n",
       "\n",
       "- `arg_2`: second dot product argument (iterable).\n",
       "\n",
       "Returns: kernel value (float)."
      ],
      "text/plain": [
       "<IPython.core.display.Markdown object>"
      ]
     },
     "metadata": {},
     "output_type": "display_data"
    }
   ],
   "source": [
    " show_doc(LinearKernel.compute)"
   ]
  },
  {
   "cell_type": "markdown",
   "metadata": {},
   "source": [
    "**Examples**\n",
    "\n",
    " Arguments of a dot product are numeric list or tuples having the same\n",
    " length, expressed as arguments of method `compute`:"
   ]
  },
  {
   "cell_type": "code",
   "execution_count": null,
   "metadata": {},
   "outputs": [
    {
     "data": {
      "text/plain": [
       "9.0"
      ]
     },
     "execution_count": null,
     "metadata": {},
     "output_type": "execute_result"
    }
   ],
   "source": [
    "k = LinearKernel()\n",
    "k.compute((1, 0, 2), (-1, 2, 5))"
   ]
  },
  {
   "cell_type": "code",
   "execution_count": null,
   "metadata": {},
   "outputs": [
    {
     "data": {
      "text/plain": [
       "3.3200000000000003"
      ]
     },
     "execution_count": null,
     "metadata": {},
     "output_type": "execute_result"
    }
   ],
   "source": [
    "k.compute([1.2, -0.4, -2], [4, 1.2, .5])"
   ]
  },
  {
   "cell_type": "markdown",
   "metadata": {},
   "source": [
    "List and tuples can intertwine as arguments:"
   ]
  },
  {
   "cell_type": "code",
   "execution_count": null,
   "metadata": {},
   "outputs": [
    {
     "data": {
      "text/plain": [
       "3.3200000000000003"
      ]
     },
     "execution_count": null,
     "metadata": {},
     "output_type": "execute_result"
    }
   ],
   "source": [
    "k.compute((1.2, -0.4, -2), [4, 1.2, .5])"
   ]
  },
  {
   "cell_type": "markdown",
   "metadata": {},
   "source": [
    "Specification of iterables having unequal length causes a `ValueError` to be thrown."
   ]
  },
  {
   "cell_type": "markdown",
   "metadata": {},
   "source": [
    "**Tests**"
   ]
  },
  {
   "cell_type": "code",
   "execution_count": null,
   "metadata": {},
   "outputs": [],
   "source": [
    "assert(k.compute((1, 0, 2), (-1, 2, 5)) == 9)\n",
    "assert(k.compute([1.2, -0.4, -2], [4, 1.2, .5]) == pytest.approx(3.32))\n",
    "assert(k.compute((1.2, -0.4, -2), [4, 1.2, .5]) == pytest.approx(3.32))\n",
    "with pytest.raises(ValueError):\n",
    "    k.compute((1, 0, 2), (-1, 2))"
   ]
  }
 ],
 "metadata": {
  "kernelspec": {
   "display_name": "Python 3",
   "language": "python",
   "name": "python3"
  }
 },
 "nbformat": 4,
 "nbformat_minor": 2
}
