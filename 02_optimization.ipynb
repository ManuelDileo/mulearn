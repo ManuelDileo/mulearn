{
 "cells": [
  {
   "cell_type": "markdown",
   "metadata": {},
   "source": [
    "<h1>Table of Contents<span class=\"tocSkip\"></span></h1>\n",
    "<div class=\"toc\"><ul class=\"toc-item\"><li><span><a href=\"#The-mulearn.optimization-module\" data-toc-modified-id=\"The-mulearn.optimization-module-1\"><span class=\"toc-item-num\">1&nbsp;&nbsp;</span>The <code>mulearn.optimization</code> module</a></span></li></ul></div>"
   ]
  },
  {
   "cell_type": "markdown",
   "metadata": {},
   "source": [
    "# The `mulearn.optimization` module \n",
    "\n",
    "> The `mulearn.optimization` module contains the implementations of\n",
    "the optimization processes behind fuzzy inference."
   ]
  },
  {
   "cell_type": "code",
   "execution_count": null,
   "metadata": {},
   "outputs": [],
   "source": [
    "# default_exp optimization"
   ]
  },
  {
   "cell_type": "code",
   "execution_count": null,
   "metadata": {},
   "outputs": [],
   "source": [
    "# export\n",
    "\n",
    "import numpy as np\n",
    "import itertools as it\n",
    "from warnings import warn\n",
    "from collections.abc import Iterable\n",
    "import logging\n",
    "\n",
    "from gurobipy import GurobiError\n",
    "\n",
    "import mulearn.kernel as kernel\n",
    "\n",
    "logger = logging.getLogger(__name__)\n",
    "\n",
    "try:\n",
    "    import gurobipy as gpy\n",
    "    gurobi_ok = True\n",
    "except ModuleNotFoundError:\n",
    "    logger.warning('gurobi not available')\n",
    "    gurobi_ok = False\n",
    "\n",
    "try:\n",
    "    import tensorflow as tf\n",
    "    tensorflow_ok = True\n",
    "    logging.getLogger('tensorflow').setLevel(logging.ERROR)\n",
    "except ModuleNotFoundError:\n",
    "    logger.warning('tensorflow not available')\n",
    "    tensorflow_ok = False\n",
    "    \n",
    "try:\n",
    "    import tqdm\n",
    "    tqdm_ok = True\n",
    "except ModuleNotFoundError:\n",
    "    logger.warning('tqdm not available')\n",
    "    tqdm_ok = False"
   ]
  },
  {
   "cell_type": "code",
   "execution_count": null,
   "metadata": {},
   "outputs": [],
   "source": [
    "#hide\n",
    "from nbdev.showdoc import show_doc"
   ]
  },
  {
   "cell_type": "code",
   "execution_count": null,
   "metadata": {},
   "outputs": [],
   "source": [
    "#export\n",
    "\n",
    "def solve_optimization_tensorflow(xs, mus,\n",
    "                          c=1.0, k=kernel.GaussianKernel(),\n",
    "                          init='fixed',\n",
    "                          init_bound=0.1,\n",
    "                          init_val=0.01,\n",
    "                          n_iter=100,\n",
    "                          optimizer=tf.optimizers.Adam(learning_rate=1e-4) \\\n",
    "                                    if tensorflow_ok else None,\n",
    "                          tracker=tqdm.trange if tqdm_ok else range,\n",
    "                          penalization=10):\n",
    "    '''Builds and solves the constrained optimization problem on the basis\n",
    "    of the fuzzy learning procedure using the TensorFlow API.\n",
    "\n",
    "    - xs: iterable of objects\n",
    "    - mus: iterable of membership values for the objects in xs\n",
    "    - c: constant managing the trade-off in joint radius/error optimization\n",
    "    - k: kernel function to be used\n",
    "    - init: initialization method for weights (string)\n",
    "    - init_bound: absolute value of the extremes of the interval used\n",
    "      for random initialization of weights (float)\n",
    "    - init_val: value used for initializing weights to a constant (float)\n",
    "    - n_iter: number of iteration of the optimization process (int)\n",
    "    - optimizer: optiimzation algorithm to be used\n",
    "    - tracker: tool to graphically depict the optimization progress\n",
    "\n",
    "    Returns: a lists containing the optimal values for the independent\n",
    "             variables chis of the problem\n",
    "\n",
    "    Throws:\n",
    "\n",
    "    - ValueError if optimization fails or if tensorflow is not installed\n",
    "    '''\n",
    "\n",
    "    if not tensorflow_ok:\n",
    "        raise ValueError('tensorflow not available')\n",
    "\n",
    "    m = len(xs)\n",
    "\n",
    "    if type(init) == str and init == 'fixed':\n",
    "        chis = [tf.Variable(init_val, name=f'chi_{i}',\n",
    "                            trainable=True, dtype=tf.float32)\n",
    "                for i in range(m)]\n",
    "    elif type(init) == str and init == 'random':\n",
    "        chis = [tf.Variable(ch, name=f'chi_{i}',\n",
    "                            trainable=True, dtype=tf.float32)\n",
    "                for i, ch in  enumerate(np.random.uniform(-init_bound,\n",
    "                                                          init_bound, m))]\n",
    "\n",
    "    elif isinstance(init, Iterable):\n",
    "        chis = [tf.Variable(ch, name=f'chi_{i}',\n",
    "                            trainable=True, dtype=tf.float32)\n",
    "                for i, ch in  enumerate(init)]\n",
    "    else:\n",
    "        raise ValueError(\"init should either be set to 'fixed', \"\n",
    "                         \"'random', or to a list of initial values.\")\n",
    "\n",
    "    if type(k) is kernel.PrecomputedKernel:\n",
    "        gram = k.kernel_computations\n",
    "    else:\n",
    "        gram = np.array([[k.compute(x1, x2) for x1 in xs] for x2 in xs])\n",
    "\n",
    "    def obj():\n",
    "        kernels = tf.constant(gram, dtype='float32')\n",
    "\n",
    "        v = tf.tensordot(tf.linalg.matvec(kernels, chis), chis, axes=1)\n",
    "        v -= tf.tensordot(chis, [k.compute(x_i, x_i) for x_i in xs], axes=1)\n",
    "\n",
    "        v += penalization * tf.math.maximum(0, 1 - sum(chis))\n",
    "        v += penalization * tf.math.maximum(0, sum(chis) - 1)\n",
    "\n",
    "        if c < np.inf:\n",
    "            for ch, m in zip(chis, mus):\n",
    "                v += penalization * tf.math.maximum(0, ch - c*m)\n",
    "                v += penalization * tf.math.maximum(0, c*(1-m) - ch)\n",
    "\n",
    "        return v\n",
    "\n",
    "    for i in tracker(n_iter):\n",
    "        #old_chis = np.array([ch.numpy() for ch in chis])\n",
    "        optimizer.minimize(obj, var_list=chis)\n",
    "        #new_chis = np.array([ch.numpy() for ch in chis])\n",
    "\n",
    "    return [ch.numpy() for ch in chis]"
   ]
  },
  {
   "cell_type": "code",
   "execution_count": null,
   "metadata": {},
   "outputs": [
    {
     "data": {
      "text/plain": [
       "[0.11000013,\n",
       " 0.11000013,\n",
       " 0.11000013,\n",
       " 0.10565677,\n",
       " 0.11000013,\n",
       " 0.10565678,\n",
       " 0.11000013,\n",
       " 0.11000013]"
      ]
     },
     "execution_count": null,
     "metadata": {},
     "output_type": "execute_result"
    }
   ],
   "source": [
    "xs = [1, 2, 5, 5.5, 7, 8, 9.5, 10]\n",
    "mus = [1, 1, 1, 0.9, 0.4, 0.1, 0, 0]\n",
    "solve_optimization_tensorflow(xs, mus, n_iter=1000, penalization=10000, tracker=range)"
   ]
  },
  {
   "cell_type": "code",
   "execution_count": null,
   "metadata": {},
   "outputs": [],
   "source": [
    "#export\n",
    "\n",
    "def solve_optimization_gurobi(xs,\n",
    "                              mus,\n",
    "                              c=1.0,\n",
    "                              k=kernel.GaussianKernel(),\n",
    "                              time_limit=10*60,\n",
    "                              adjustment=0):\n",
    "    '''Builds and solves the constrained optimization problem on the basis\n",
    "    of the fuzzy learning procedure using the gurobi API.\n",
    "\n",
    "    - `xs`: objects in training set (iterable).\n",
    "    \n",
    "    - `mus`: membership values for the objects in xs (iterable).\n",
    "    \n",
    "    - `c`: constant managing the trade-off in joint radius/error optimization\n",
    "      (float).\n",
    "      \n",
    "    - `k`: kernel function to be used (kernel.Kernel).\n",
    "    \n",
    "    - `time_limit`: time in seconds before stopping the optimization process\n",
    "      (int).\n",
    "      \n",
    "    - `adjustment`: diagonal adjustment in order to deal with non PSD\n",
    "      matrices (float or 'auto' for automatic adjustment).\n",
    "\n",
    "    Return a lists containing the optimal values for the independent\n",
    "    variables chis of the problem.\n",
    "\n",
    "    Throws:\n",
    "\n",
    "    - ValueError if optimization fails or if gurobi is not installed\n",
    "    '''\n",
    "\n",
    "    if not gurobi_ok:\n",
    "        raise ValueError('gurobi not available')\n",
    "\n",
    "    m = len(xs)\n",
    "\n",
    "    model = gpy.Model('mulearn')\n",
    "    model.setParam('OutputFlag', 0)\n",
    "    model.setParam('TimeLimit', time_limit)\n",
    "\n",
    "    for i in range(m):\n",
    "        if c < np.inf:\n",
    "            model.addVar(name=f'chi_{i}', lb=-c*(1-mus[i]), ub=c*mus[i],\n",
    "                         vtype=gpy.GRB.CONTINUOUS)\n",
    "\n",
    "        else:\n",
    "            model.addVar(name=f'chi_{i}', vtype=gpy.GRB.CONTINUOUS)\n",
    "\n",
    "    model.update()\n",
    "\n",
    "    chis = model.getVars()\n",
    "\n",
    "    obj = gpy.QuadExpr()\n",
    "\n",
    "    for i, j in it.product(range(m), range(m)):\n",
    "        obj.add(chis[i] * chis[j], k.compute(xs[i], xs[j]))\n",
    "\n",
    "    for i in range(m):\n",
    "        obj.add(-1 * chis[i] * k.compute(xs[i], xs[i]))\n",
    "\n",
    "    if adjustment and adjustment != 'auto':\n",
    "        for i in range(m):\n",
    "            obj.add(adjustment * chis[i] * chis[i])\n",
    "\n",
    "    model.setObjective(obj, gpy.GRB.MINIMIZE)\n",
    "\n",
    "    constEqual = gpy.LinExpr()\n",
    "    constEqual.add(sum(chis), 1.0)\n",
    "\n",
    "    model.addConstr(constEqual, gpy.GRB.EQUAL, 1)\n",
    "\n",
    "    try:\n",
    "        model.optimize()\n",
    "    except GurobiError as e:\n",
    "        if adjustment == 'auto':\n",
    "            s = e.message\n",
    "            a = float(s[s.find(' of ')+4:s.find(' would')])\n",
    "            logger.warning(f'non-diagonal Gram matrix, retrying with adjustment {a}')\n",
    "            for i in range(m):\n",
    "                obj.add(a * chis[i] * chis[i])\n",
    "            model.setObjective(obj, gpy.GRB.MINIMIZE)\n",
    "\n",
    "            model.optimize()\n",
    "        else:\n",
    "            raise e\n",
    "\n",
    "    if model.Status != gpy.GRB.OPTIMAL:\n",
    "        raise ValueError('optimal solution not found!')\n",
    "\n",
    "    return [ch.x for ch in chis]"
   ]
  },
  {
   "cell_type": "code",
   "execution_count": null,
   "metadata": {},
   "outputs": [
    {
     "name": "stdout",
     "output_type": "stream",
     "text": [
      "Academic license - for non-commercial use only\n",
      "[0.20101385801980381, 0.19226597081910646, 0.3299291932173015, -0.05277550598164347, 0.22956648401237756, 0.09999999991726793, -2.2987167724863866e-12, -1.9505508319639375e-12]\n"
     ]
    }
   ],
   "source": [
    "try:\n",
    "    print(solve_optimization_gurobi(xs, mus))\n",
    "except ValueError:\n",
    "    pass"
   ]
  },
  {
   "cell_type": "code",
   "execution_count": null,
   "metadata": {},
   "outputs": [],
   "source": [
    "#export\n",
    "\n",
    "def solve_optimization(xs, mus, c=1.0, k=kernel.GaussianKernel(),\n",
    "                       solve_strategy=solve_optimization_tensorflow,\n",
    "                       **solve_strategy_args):\n",
    "    '''Builds and solves the constrained optimization problem on the basis\n",
    "    of the fuzzy learning procedure.\n",
    "\n",
    "    - xs: objects in training set (iterable).\n",
    "    \n",
    "    - mus: membership values for the objects in xs (iterable).\n",
    "    \n",
    "    - c: constant managing the trade-off in joint radius/error optimization\n",
    "      (float).\n",
    "      \n",
    "    - k: kernel function to be used (kernel.Kernel).\n",
    "    \n",
    "    - solve_strategy: algorithm to be used in order to numerically solve the\n",
    "      optimization problem.\n",
    "      \n",
    "    - solve_strategy_args: optional parameters for the optimization\n",
    "      algorithm.\n",
    "\n",
    "    Return a lists containing the optimal values for the independent\n",
    "    variables chis of the problem\n",
    "\n",
    "    Throws:\n",
    "\n",
    "    - ValueError if c is non-positive or if xs and mus have different lengths\n",
    "    '''\n",
    "    if c <= 0:\n",
    "        raise ValueError('c should be positive')\n",
    "\n",
    "\n",
    "    mus = np.array(mus)\n",
    "\n",
    "\n",
    "    chis = solve_strategy(xs, mus, c, k, **solve_strategy_args)\n",
    "\n",
    "    chis_opt = [np.clip(ch, l, u) for ch,l,u in zip(chis, -c*(1-mus), c*mus)]\n",
    "\n",
    "    return chis_opt"
   ]
  },
  {
   "cell_type": "code",
   "execution_count": null,
   "metadata": {},
   "outputs": [
    {
     "name": "stderr",
     "output_type": "stream",
     "text": [
      "100%|██████████| 100/100 [00:01<00:00, 64.39it/s]\n"
     ]
    },
    {
     "data": {
      "text/plain": [
       "[0.03162858262658119,\n",
       " 0.03162841871380806,\n",
       " 0.03162263333797455,\n",
       " 0.031634435057640076,\n",
       " 0.03163538873195648,\n",
       " 0.03163538873195648,\n",
       " 0.0,\n",
       " 0.0]"
      ]
     },
     "execution_count": null,
     "metadata": {},
     "output_type": "execute_result"
    }
   ],
   "source": [
    "solve_optimization(xs, mus)"
   ]
  },
  {
   "cell_type": "code",
   "execution_count": null,
   "metadata": {},
   "outputs": [
    {
     "name": "stdout",
     "output_type": "stream",
     "text": [
      "[0.20101385801980381, 0.19226597081910646, 0.3299291932173015, -0.05277550598164347, 0.22956648401237756, 0.09999999991726793, -2.2987167724863866e-12, -1.9505508319639375e-12]\n"
     ]
    }
   ],
   "source": [
    "try:\n",
    "    print(solve_optimization(xs, mus,\n",
    "                             solve_strategy=solve_optimization_gurobi))\n",
    "except ValueError:\n",
    "    pass"
   ]
  },
  {
   "cell_type": "code",
   "execution_count": null,
   "metadata": {},
   "outputs": [],
   "source": []
  }
 ],
 "metadata": {
  "kernelspec": {
   "display_name": "Python 3",
   "language": "python",
   "name": "python3"
  }
 },
 "nbformat": 4,
 "nbformat_minor": 4
}
