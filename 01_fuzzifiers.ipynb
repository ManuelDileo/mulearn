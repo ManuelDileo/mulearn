{
 "cells": [
  {
   "cell_type": "markdown",
   "metadata": {},
   "source": [
    "<h1>Table of Contents<span class=\"tocSkip\"></span></h1>\n",
    "<div class=\"toc\"><ul class=\"toc-item\"><li><span><a href=\"#The-mulearn.fuzzifier-module\" data-toc-modified-id=\"The-mulearn.fuzzifier-module-1\"><span class=\"toc-item-num\">1&nbsp;&nbsp;</span>The <code>mulearn.fuzzifier</code> module</a></span></li></ul></div>"
   ]
  },
  {
   "cell_type": "markdown",
   "metadata": {},
   "source": [
    "# The `mulearn.fuzzifier` module \n",
    "\n",
    "> The `mulearn.fuzzifier` module contains the implementations of fuzzifiers."
   ]
  },
  {
   "cell_type": "code",
   "execution_count": null,
   "metadata": {},
   "outputs": [],
   "source": [
    "# export\n",
    "\n",
    "import numpy as np\n",
    "import pytest\n",
    "from scipy.optimize import curve_fit"
   ]
  },
  {
   "cell_type": "code",
   "execution_count": null,
   "metadata": {},
   "outputs": [],
   "source": [
    "# default_exp fuzzifier"
   ]
  },
  {
   "cell_type": "code",
   "execution_count": null,
   "metadata": {},
   "outputs": [],
   "source": [
    "#hide\n",
    "from nbdev.showdoc import show_doc"
   ]
  },
  {
   "cell_type": "code",
   "execution_count": null,
   "metadata": {},
   "outputs": [],
   "source": [
    "# export\n",
    "\n",
    "class Fuzzifier:\n",
    "    def __init__(self, xs=None, mus=None):\n",
    "        self.xs = xs\n",
    "        self.mus = mus\n",
    "\n",
    "    def get_r_to_mu(self,\n",
    "                    sq_radius, # was SV_square_distance\n",
    "                    sample,\n",
    "                    x_to_sq_dist): # was estimated_square_distance_from_center\n",
    "        '''Transforms the square distance between center of the learnt sphere\n",
    "        and the image of a point in original space into the membership degree\n",
    "        of the latter to the induced fuzzy set.\n",
    "        \n",
    "        Not implemented in the base fuzzifier class.\n",
    "        \n",
    "        - `sq_radius`: squared radius of the learnt sphere (float).\n",
    "        \n",
    "        - `sample`: sample of points in original space (iterable).\n",
    "        \n",
    "        - `x_to_sq_dist`: mapping of a point in original space into the\n",
    "          square distance of its image from the center of the learnt sphere\n",
    "          (function).\n",
    "        '''\n",
    "        \n",
    "        raise NotImplementedError(\n",
    "        'the base class does not implement get_r_to_mu method')\n",
    "\n",
    "    def get_fuzzified_membership(self,\n",
    "                                 sq_radius, # was SV_square_distance\n",
    "                                 sample,\n",
    "                                 x_to_sq_dist, # was estimated_square_distance_from_center\n",
    "                                 return_profile=False):\n",
    "        '''Return the induced membership function.\n",
    "        \n",
    "        - `sq_radius`: squared radius of the learnt sphere (float).\n",
    "        \n",
    "        - `sample`: sample of points in original space (iterable).\n",
    "        \n",
    "        - `x_to_sq_dist`: mapping of a point in original space into the\n",
    "          square distance of its image from the center of the learnt sphere\n",
    "          (function).\n",
    "        \n",
    "        - `return_profile` flag triggering the generation of the graph\n",
    "          of the fuzzifier to be returned alongside the fuzzifier itself\n",
    "          (bool, default=False).\n",
    "\n",
    "        Returns:\n",
    "        \n",
    "        - if `return_profile` is `False`: membership function (function)\n",
    "        - if `return_profile` is `True`: list containing the membership\n",
    "          function (function) and the salient coordinates of the graph of\n",
    "          the fuzzifier (list), respectively in first and\n",
    "          second position.\n",
    "        '''\n",
    "        r_to_mu = self.get_r_to_mu(sq_radius, sample,x_to_sq_dist)\n",
    "        \n",
    "        def estimated_membership(x):\n",
    "            r = x_to_sq_dist(np.array(x))\n",
    "            return r_to_mu(r)\n",
    "\n",
    "        result = [estimated_membership]\n",
    "\n",
    "        if return_profile:\n",
    "            rdata = list(map(x_to_sq_dist, self.xs))\n",
    "            rdata_synth = np.linspace(0, max(rdata)*1.1, 200)\n",
    "            estimate = list(map(r_to_mu, rdata_synth))\n",
    "            result.append([rdata, rdata_synth, estimate, sq_radius])\n",
    "\n",
    "        return result"
   ]
  },
  {
   "cell_type": "markdown",
   "metadata": {},
   "source": [
    "The base class for fuzzifiers is `Fuzzifier`: it exposes a basic constructor\n",
    "which is called from the subclasses, and two methods `get_r_to_mu` returning\n",
    "a mapping that transforms a point from the original space onto the feature\n",
    "space, subsequently computing the distance of the image w.r.t. the center\n",
    "of the learnt sphere, and `get_fuzzified_membership` returning the membership\n",
    "function inferred from data, possibly alongside informations enabling to\n",
    "draw the graph of the fuzzifier."
   ]
  },
  {
   "cell_type": "code",
   "execution_count": null,
   "metadata": {},
   "outputs": [
    {
     "data": {
      "text/markdown": [
       "<h4 id=\"Fuzzifier.get_r_to_mu\" class=\"doc_header\"><code>Fuzzifier.get_r_to_mu</code><a href=\"__main__.py#L8\" class=\"source_link\" style=\"float:right\">[source]</a></h4>\n",
       "\n",
       "> <code>Fuzzifier.get_r_to_mu</code>(**`sq_radius`**, **`sample`**, **`x_to_sq_dist`**)\n",
       "\n",
       "Transforms the square distance between center of the learnt sphere\n",
       "and the image of a point in original space into the membership degree\n",
       "of the latter to the induced fuzzy set.\n",
       "\n",
       "Not implemented in the base fuzzifier class.\n",
       "\n",
       "- `sq_radius`: squared radius of the learnt sphere (float).\n",
       "\n",
       "- `sample`: sample of points in original space (iterable).\n",
       "\n",
       "- `x_to_sq_dist`: mapping of a point in original space into the\n",
       "  square distance of its image from the center of the learnt sphere\n",
       "  (function)."
      ],
      "text/plain": [
       "<IPython.core.display.Markdown object>"
      ]
     },
     "metadata": {},
     "output_type": "display_data"
    }
   ],
   "source": [
    "show_doc(Fuzzifier.get_r_to_mu)"
   ]
  },
  {
   "cell_type": "code",
   "execution_count": null,
   "metadata": {},
   "outputs": [
    {
     "data": {
      "text/markdown": [
       "<h4 id=\"Fuzzifier.get_fuzzified_membership\" class=\"doc_header\"><code>Fuzzifier.get_fuzzified_membership</code><a href=\"__main__.py#L30\" class=\"source_link\" style=\"float:right\">[source]</a></h4>\n",
       "\n",
       "> <code>Fuzzifier.get_fuzzified_membership</code>(**`sq_radius`**, **`sample`**, **`x_to_sq_dist`**, **`return_profile`**=*`False`*)\n",
       "\n",
       "Return the induced membership function.\n",
       "\n",
       "- `sq_radius`: squared radius of the learnt sphere (float).\n",
       "\n",
       "- `sample`: sample of points in original space (iterable).\n",
       "\n",
       "- `x_to_sq_dist`: mapping of a point in original space into the\n",
       "  square distance of its image from the center of the learnt sphere\n",
       "  (function).\n",
       "\n",
       "- `return_profile` flag triggering the generation of the graph\n",
       "  of the fuzzifier to be returned alongside the fuzzifier itself\n",
       "  (bool, default=False).\n",
       "\n",
       "Returns:\n",
       "\n",
       "- if `return_profile` is `False`: membership function (function)\n",
       "- if `return_profile` is `True`: list containing the membership\n",
       "  function (function) and the salient coordinates of the graph of\n",
       "  the fuzzifier (list), respectively in first and\n",
       "  second position."
      ],
      "text/plain": [
       "<IPython.core.display.Markdown object>"
      ]
     },
     "metadata": {},
     "output_type": "display_data"
    }
   ],
   "source": [
    "show_doc(Fuzzifier.get_fuzzified_membership)"
   ]
  },
  {
   "cell_type": "code",
   "execution_count": null,
   "metadata": {},
   "outputs": [],
   "source": []
  }
 ],
 "metadata": {
  "kernelspec": {
   "display_name": "Python 3",
   "language": "python",
   "name": "python3"
  }
 },
 "nbformat": 4,
 "nbformat_minor": 4
}
