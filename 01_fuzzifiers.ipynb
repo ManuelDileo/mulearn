{
 "cells": [
  {
   "cell_type": "markdown",
   "metadata": {},
   "source": [
    "<h1>Table of Contents<span class=\"tocSkip\"></span></h1>\n",
    "<div class=\"toc\"><ul class=\"toc-item\"><li><span><a href=\"#The-mulearn.fuzzifier-module\" data-toc-modified-id=\"The-mulearn.fuzzifier-module-1\"><span class=\"toc-item-num\">1&nbsp;&nbsp;</span>The <code>mulearn.fuzzifier</code> module</a></span></li></ul></div>"
   ]
  },
  {
   "cell_type": "markdown",
   "metadata": {},
   "source": [
    "# The `mulearn.fuzzifier` module \n",
    "\n",
    "> The `mulearn.fuzzifier` module contains the implementations of fuzzifiers."
   ]
  },
  {
   "cell_type": "code",
   "execution_count": null,
   "metadata": {},
   "outputs": [],
   "source": [
    "# export\n",
    "\n",
    "import numpy as np\n",
    "import matplotlib.pyplot as plt\n",
    "import pytest\n",
    "from scipy.optimize import curve_fit"
   ]
  },
  {
   "cell_type": "code",
   "execution_count": null,
   "metadata": {},
   "outputs": [],
   "source": [
    "# default_exp fuzzifier"
   ]
  },
  {
   "cell_type": "code",
   "execution_count": null,
   "metadata": {},
   "outputs": [],
   "source": [
    "#hide\n",
    "from nbdev.showdoc import show_doc"
   ]
  },
  {
   "cell_type": "code",
   "execution_count": null,
   "metadata": {},
   "outputs": [],
   "source": [
    "# export\n",
    "\n",
    "class Fuzzifier:\n",
    "    def __init__(self, xs=None, mus=None):\n",
    "        self.xs = xs\n",
    "        self.mus = mus\n",
    "\n",
    "    def get_r_to_mu(self,\n",
    "                    sq_radius, # was SV_square_distance\n",
    "                    x_to_sq_dist): # was estimated_square_distance_from_center\n",
    "        '''Transforms the square distance between center of the learnt sphere\n",
    "        and the image of a point in original space into the membership degree\n",
    "        of the latter to the induced fuzzy set.\n",
    "        \n",
    "        Not implemented in the base fuzzifier class.\n",
    "        \n",
    "        - `sq_radius`: squared radius of the learnt sphere (float).\n",
    "        \n",
    "        - `x_to_sq_dist`: mapping of a point in original space into the\n",
    "          square distance of its image from the center of the learnt sphere\n",
    "          (function).\n",
    "        '''\n",
    "        \n",
    "        raise NotImplementedError(\n",
    "        'the base class does not implement get_r_to_mu method')\n",
    "\n",
    "    def get_fuzzified_membership(self,\n",
    "                                 sq_radius, # was SV_square_distance\n",
    "                                 x_to_sq_dist, # was estimated_square_distance_from_center\n",
    "                                 return_profile=False):\n",
    "        '''Return the induced membership function.\n",
    "        \n",
    "        - `sq_radius`: squared radius of the learnt sphere (float).\n",
    "        \n",
    "        - `x_to_sq_dist`: mapping of a point in original space into the\n",
    "          square distance of its image from the center of the learnt sphere\n",
    "          (function).\n",
    "        \n",
    "        - `return_profile` flag triggering the generation of the graph\n",
    "          of the fuzzifier to be returned alongside the fuzzifier itself\n",
    "          (bool, default=False).\n",
    "\n",
    "        Returns a list containing\n",
    "        \n",
    "        - the membership function if `return_profile` is `False`, and\n",
    "        - the membership function and the salient coordinates of the graph of\n",
    "          the fuzzifier if `return_profile` is `True`.\n",
    "        '''\n",
    "        r_to_mu = self.get_r_to_mu(sq_radius, x_to_sq_dist)\n",
    "        \n",
    "        def estimated_membership(x):\n",
    "            r = x_to_sq_dist(np.array(x))\n",
    "            return r_to_mu(r)\n",
    "\n",
    "        result = [estimated_membership]\n",
    "\n",
    "        if return_profile:\n",
    "            rdata = list(map(x_to_sq_dist, self.xs))\n",
    "            rdata_synth = np.linspace(0, max(rdata)*1.1, 200)\n",
    "            estimate = list(map(r_to_mu, rdata_synth))\n",
    "            result.append([rdata, rdata_synth, estimate])\n",
    "\n",
    "        return result\n",
    "    \n",
    "    def __str__(self):\n",
    "        return self.__repr__()\n",
    "\n",
    "    def __eq__(self, other):\n",
    "        return type(self) == type(other)\n",
    "\n",
    "    def __ne__(self, other):\n",
    "        return not self == other\n",
    "\n",
    "    def __hash__(self):\n",
    "        return hash(self.__repr__())\n",
    "\n",
    "    def __nonzero__(self):\n",
    "        return True"
   ]
  },
  {
   "cell_type": "markdown",
   "metadata": {},
   "source": [
    "The base class for fuzzifiers is `Fuzzifier`: it exposes a basic constructor\n",
    "which is called from the subclasses, and two methods `get_r_to_mu` returning\n",
    "a mapping that transforms a point from the original space onto the feature\n",
    "space, subsequently computing the distance of the image w.r.t. the center\n",
    "of the learnt sphere, and `get_fuzzified_membership` returning the membership\n",
    "function inferred from data, possibly alongside informations enabling to\n",
    "draw the graph of the fuzzifier."
   ]
  },
  {
   "cell_type": "code",
   "execution_count": null,
   "metadata": {},
   "outputs": [],
   "source": [
    "# export\n",
    "\n",
    "class CrispFuzzifier(Fuzzifier):\n",
    "    def __init__(self, xs=None, mus=None, profile='fixed'):\n",
    "        r'''Creates an instance of `CrispFuzzifier`\n",
    "        \n",
    "        - `xs`: objects in training set (iterable).\n",
    "        \n",
    "        - `ys`: degree memberships in training set (iterable).\n",
    "        \n",
    "        - `profile`: method to be used in order to fix the fuzzifier\n",
    "          threshold ('fixed' used the sphere radius, 'infer' fits using\n",
    "          data in `self.xs` and `self.mus`.\n",
    "        '''\n",
    "        \n",
    "        super().__init__(xs, mus)\n",
    "        self.profile = profile\n",
    "        if profile not in ['fixed', 'infer']:\n",
    "            raise ValueError(f\"'profile' parameter should be equal to \"\n",
    "                             \"'fixed' or 'infer' (provided value: {profile})\")\n",
    "            \n",
    "        if profile == 'infer' and (xs is None or mus is None):\n",
    "            raise ValueError(f\"all arguments to the constructor of \"\n",
    "                             \"CrispFuzzifier should be specified when \"\n",
    "                             \"profile='infer'\")\n",
    "\n",
    "        self.name = 'Crisp'\n",
    "        self.latex_name = '$\\\\hat\\\\mu_{\\\\text{crisp}}$'\n",
    "\n",
    "    def get_r_to_mu(self, sq_radius, x_to_sq_dist):\n",
    "        r'''Returns a function that transforms the square distance between\n",
    "        center of the learnt sphere and the image of a point in original\n",
    "        space into a crisp membership degree having the form\n",
    "        \n",
    "        $$ \\mu(r) = \\begin{cases}\n",
    "          1 & \\text{if $r \\leq r_\\text{crisp}$,} \\\\\n",
    "          0 & \\text{otherwise.}\n",
    "        \\end{cases}$$   \n",
    "        \n",
    "        The threshold is set to the learnt square radius of the sphere if the\n",
    "        `profile` attribute of the class have been set to `fixed`, and\n",
    "        induced via interpolation of the `xs` and `mus` attributes when it is\n",
    "        has been set to `infer`.\n",
    "        \n",
    "        **Note** This function is meant to be called internally by the\n",
    "        `get_fuzzified_membership` method in the base `Fuzzifier` class.\n",
    "        \n",
    "        - `sq_radius`: squared radius of the learnt sphere (float).\n",
    "        \n",
    "        - `x_to_sq_dist`: mapping of a point in original space into the\n",
    "          square distance of its image from the center of the learnt sphere\n",
    "          (function).\n",
    "        '''\n",
    "        \n",
    "        if self.profile == 'fixed':\n",
    "            return lambda r: 1 if r <= sq_radius else 0\n",
    "            \n",
    "        elif self.profile == 'infer':\n",
    "            rdata = np.fromiter(map(x_to_sq_dist, self.xs), dtype=float)\n",
    "\n",
    "            def r_to_mu_prototype(r, r_crisp):\n",
    "                result = np.ones(len(r))\n",
    "                result[r > r_crisp] = 0\n",
    "                return result\n",
    "\n",
    "\n",
    "            popt, _ = curve_fit(r_to_mu_prototype, rdata, self.mus)\n",
    "                                # bounds=((0,), (np.inf,)))\n",
    "\n",
    "            if popt[0] < 0:\n",
    "                raise ValueError('Profile fitting returned a negative parameter')\n",
    "            return lambda r: r_to_mu_prototype([r], *popt)[0]\n",
    "        else:\n",
    "            raise ('This should never happen. '\n",
    "                   'Check CrispFuzzifier constructor.')\n",
    "\n",
    "    def __repr__(self):\n",
    "        xs_repr = self.xs.__repr__()\n",
    "        mus_repr = self.mus.__repr__()\n",
    "        self_repr = f'CrispFuzzifier({xs_repr}, {mus_repr}'\n",
    "        if self.profile != 'fixed':\n",
    "            self_repr += f', profile={self.profile}'\n",
    "        self_repr += ')'\n",
    "        return self_repr"
   ]
  },
  {
   "cell_type": "markdown",
   "metadata": {},
   "source": [
    "Fuzzifier corresponding to a crisp (classical) set: membership is equal to 1\n",
    "within the learnt sphere and equal to 0 outside it."
   ]
  },
  {
   "cell_type": "code",
   "execution_count": null,
   "metadata": {},
   "outputs": [
    {
     "data": {
      "text/markdown": [
       "<h4 id=\"CrispFuzzifier.__init__\" class=\"doc_header\"><code>CrispFuzzifier.__init__</code><a href=\"__main__.py#L4\" class=\"source_link\" style=\"float:right\">[source]</a></h4>\n",
       "\n",
       "> <code>CrispFuzzifier.__init__</code>(**`xs`**=*`None`*, **`mus`**=*`None`*, **`profile`**=*`'fixed'`*)\n",
       "\n",
       "Creates an instance of [`CrispFuzzifier`](/mulearn/fuzzifiers#CrispFuzzifier)\n",
       "\n",
       "- `xs`: objects in training set (iterable).\n",
       "\n",
       "- `ys`: degree memberships in training set (iterable).\n",
       "\n",
       "- `profile`: method to be used in order to fix the fuzzifier\n",
       "  threshold ('fixed' used the sphere radius, 'infer' fits using\n",
       "  data in `self.xs` and `self.mus`."
      ],
      "text/plain": [
       "<IPython.core.display.Markdown object>"
      ]
     },
     "metadata": {},
     "output_type": "display_data"
    }
   ],
   "source": [
    "show_doc(CrispFuzzifier.__init__)"
   ]
  },
  {
   "cell_type": "markdown",
   "metadata": {},
   "source": [
    "A crisp fuzzifier can be created etiher without arguments or specifying\n",
    "objects and labels of a training set."
   ]
  },
  {
   "cell_type": "code",
   "execution_count": null,
   "metadata": {},
   "outputs": [],
   "source": [
    "cf_1 = CrispFuzzifier()\n",
    "cf_2 = CrispFuzzifier([1, 2, 5, 5.5, 7, 8, 9.5, 10],\n",
    "                      [1, 1, 1, 0.9, 0.4, 0.1, 0, 0])"
   ]
  },
  {
   "cell_type": "markdown",
   "metadata": {},
   "source": [
    "The optional parameter `profile` defines the procedure to be used in order\n",
    "to choose the thresholding value in the fuzzifier, it can either be set to\n",
    "`'fixed'` or `'infer'` (see the description of `get_r_to_mu` later on).\n",
    "Specifying a different value will raise an exception. The same will happen\n",
    "if `profile='infer'` and the training set has not been specified as argument\n",
    "to the constructor."
   ]
  },
  {
   "cell_type": "code",
   "execution_count": null,
   "metadata": {},
   "outputs": [
    {
     "data": {
      "text/markdown": [
       "<h4 id=\"CrispFuzzifier.get_r_to_mu\" class=\"doc_header\"><code>CrispFuzzifier.get_r_to_mu</code><a href=\"__main__.py#L30\" class=\"source_link\" style=\"float:right\">[source]</a></h4>\n",
       "\n",
       "> <code>CrispFuzzifier.get_r_to_mu</code>(**`sq_radius`**, **`x_to_sq_dist`**)\n",
       "\n",
       "Returns a function that transforms the square distance between\n",
       "center of the learnt sphere and the image of a point in original\n",
       "space into a crisp membership degree having the form\n",
       "\n",
       "$$ \\mu(r) = \\begin{cases}\n",
       "  1 & \\text{if $r \\leq r_\\text{crisp}$,} \\\\\n",
       "  0 & \\text{otherwise.}\n",
       "\\end{cases}$$   \n",
       "\n",
       "The threshold is set to the learnt square radius of the sphere if the\n",
       "`profile` attribute of the class have been set to `fixed`, and\n",
       "induced via interpolation of the `xs` and `mus` attributes when it is\n",
       "has been set to `infer`.\n",
       "\n",
       "**Note** This function is meant to be called internally by the\n",
       "`get_fuzzified_membership` method in the base [`Fuzzifier`](/mulearn/fuzzifiers#Fuzzifier) class.\n",
       "\n",
       "- `sq_radius`: squared radius of the learnt sphere (float).\n",
       "\n",
       "- `x_to_sq_dist`: mapping of a point in original space into the\n",
       "  square distance of its image from the center of the learnt sphere\n",
       "  (function)."
      ],
      "text/plain": [
       "<IPython.core.display.Markdown object>"
      ]
     },
     "metadata": {},
     "output_type": "display_data"
    }
   ],
   "source": [
    "show_doc(CrispFuzzifier.get_r_to_mu)"
   ]
  },
  {
   "cell_type": "markdown",
   "metadata": {},
   "source": [
    "In its basic version, the method returns a function associating a generic\n",
    "square distance from the learnt sphere center to a membership degree."
   ]
  },
  {
   "cell_type": "code",
   "execution_count": null,
   "metadata": {},
   "outputs": [
    {
     "data": {
      "image/png": "[encoded data removed]",
      "text/plain": [
       "<Figure size 432x288 with 1 Axes>"
      ]
     },
     "metadata": {
      "needs_background": "light"
     },
     "output_type": "display_data"
    }
   ],
   "source": [
    "cf = CrispFuzzifier([1, 2, 5, 5.5, 7, 8, 9.5, 10],\n",
    "                    [1, 1, 1, 0.9, 0.4, 0.1, 0, 0])\n",
    "mu = cf.get_r_to_mu(4, lambda x: x)\n",
    "\n",
    "r = np.linspace(0, 10, 20)\n",
    "plt.step(r, list(map(mu, r)))\n",
    "plt.show()"
   ]
  },
  {
   "cell_type": "code",
   "execution_count": null,
   "metadata": {},
   "outputs": [
    {
     "data": {
      "text/markdown": [
       "<h4 id=\"Fuzzifier.get_fuzzified_membership\" class=\"doc_header\"><code>Fuzzifier.get_fuzzified_membership</code><a href=\"__main__.py#L27\" class=\"source_link\" style=\"float:right\">[source]</a></h4>\n",
       "\n",
       "> <code>Fuzzifier.get_fuzzified_membership</code>(**`sq_radius`**, **`x_to_sq_dist`**, **`return_profile`**=*`False`*)\n",
       "\n",
       "Return the induced membership function.\n",
       "\n",
       "- `sq_radius`: squared radius of the learnt sphere (float).\n",
       "\n",
       "- `x_to_sq_dist`: mapping of a point in original space into the\n",
       "  square distance of its image from the center of the learnt sphere\n",
       "  (function).\n",
       "\n",
       "- `return_profile` flag triggering the generation of the graph\n",
       "  of the fuzzifier to be returned alongside the fuzzifier itself\n",
       "  (bool, default=False).\n",
       "\n",
       "Returns a list containing\n",
       "\n",
       "- the membership function if `return_profile` is `False`, and\n",
       "- the membership function and the salient coordinates of the graph of\n",
       "  the fuzzifier if `return_profile` is `True`."
      ],
      "text/plain": [
       "<IPython.core.display.Markdown object>"
      ]
     },
     "metadata": {},
     "output_type": "display_data"
    }
   ],
   "source": [
    "show_doc(CrispFuzzifier.get_fuzzified_membership)"
   ]
  },
  {
   "cell_type": "markdown",
   "metadata": {},
   "source": [
    "`CrispFuzzifier` implements this method in order to return a threshold\n",
    "function. The thresholding value is fixed by default using the radius of\n",
    "the learnt sphere."
   ]
  },
  {
   "cell_type": "code",
   "execution_count": null,
   "metadata": {},
   "outputs": [
    {
     "data": {
      "image/png": "[encoded data removed]",
      "text/plain": [
       "<Figure size 432x288 with 1 Axes>"
      ]
     },
     "metadata": {
      "needs_background": "light"
     },
     "output_type": "display_data"
    }
   ],
   "source": [
    "cf = CrispFuzzifier([1, 2, 5, 5.5, 7, 8, 9.5, 10],\n",
    "                    [1, 1, 1, 0.9, 0.4, 0.1, 0, 0])\n",
    "[mu] = cf.get_fuzzified_membership(1, lambda x: x/3)\n",
    "\n",
    "x = np.linspace(1, 10, 20)\n",
    "plt.step(x, list(map(mu, x)))\n",
    "plt.show()"
   ]
  },
  {
   "cell_type": "markdown",
   "metadata": {},
   "source": [
    "Setting `profile='infer'` will perform an interpolation process fitting\n",
    "the threshold to the training set passed to the constructor."
   ]
  },
  {
   "cell_type": "code",
   "execution_count": null,
   "metadata": {},
   "outputs": [
    {
     "name": "stderr",
     "output_type": "stream",
     "text": [
      "/home/malchiodi/anaconda3/lib/python3.7/site-packages/scipy/optimize/minpack.py:808: OptimizeWarning: Covariance of the parameters could not be estimated\n",
      "  category=OptimizeWarning)\n"
     ]
    },
    {
     "data": {
      "image/png": "[encoded data removed]",
      "text/plain": [
       "<Figure size 432x288 with 1 Axes>"
      ]
     },
     "metadata": {
      "needs_background": "light"
     },
     "output_type": "display_data"
    }
   ],
   "source": [
    "xs = [1, 2, 5, 5.5, 7, 8, 9.5, 10]\n",
    "mus = [1, 1, 1, 0.9, 0.4, 0.1, 0, 0]\n",
    "cf = CrispFuzzifier(xs,mus, profile='infer')\n",
    "[mu] = cf.get_fuzzified_membership(2, lambda x: x/3)\n",
    "\n",
    "x = np.linspace(1, 10, 20)\n",
    "plt.step(x, list(map(mu, x)))\n",
    "plt.plot(xs, mus, 'o')\n",
    "plt.show()"
   ]
  },
  {
   "cell_type": "markdown",
   "metadata": {},
   "source": [
    "The `return_profile` optional argument returns a further list that contains\n",
    "- a list of the squared distances between the images of points in the\n",
    "  training set and the center of the sphere;\n",
    "- a list of synthesized values for such distances (spanned uniformely\n",
    "  between the minimum and maximum values of the distances within the\n",
    "  training set);\n",
    "- a list of membership values associated to the values in previous point.\n",
    "\n",
    "This new information allow for drawing a profile of the membership function\n",
    "as a function of the distance in feature space."
   ]
  },
  {
   "cell_type": "code",
   "execution_count": null,
   "metadata": {},
   "outputs": [
    {
     "name": "stderr",
     "output_type": "stream",
     "text": [
      "/home/malchiodi/anaconda3/lib/python3.7/site-packages/scipy/optimize/minpack.py:808: OptimizeWarning: Covariance of the parameters could not be estimated\n",
      "  category=OptimizeWarning)\n"
     ]
    },
    {
     "data": {
      "image/png": "[encoded data removed]",
      "text/plain": [
       "<Figure size 432x288 with 1 Axes>"
      ]
     },
     "metadata": {
      "needs_background": "light"
     },
     "output_type": "display_data"
    }
   ],
   "source": [
    "[mu, [rdata, rdata_synth, estimate]] = \\\n",
    "      cf.get_fuzzified_membership(1, lambda x: x/3, return_profile=True)\n",
    "\n",
    "plt.plot(rdata_synth, estimate)\n",
    "plt.show()"
   ]
  },
  {
   "cell_type": "markdown",
   "metadata": {},
   "source": [
    "**Tests**"
   ]
  },
  {
   "cell_type": "code",
   "execution_count": null,
   "metadata": {},
   "outputs": [],
   "source": [
    "with pytest.raises(ValueError):\n",
    "    cf = CrispFuzzifier(profile='infer')\n",
    "    \n",
    "with pytest.raises(ValueError):\n",
    "    cr = CrispFuzzifier(profile='xxx')"
   ]
  },
  {
   "cell_type": "code",
   "execution_count": null,
   "metadata": {},
   "outputs": [],
   "source": [
    "#export\n",
    "\n",
    "class LinearFuzzifier(Fuzzifier):\n",
    "    def __init__(self, xs=None, mus=None, profile='infer'):\n",
    "        r'''Creates an instance of `LinearFuzzifier`\n",
    "        \n",
    "        - `xs`: objects in training set (iterable).\n",
    "        \n",
    "        - `ys`: degree memberships in training set (iterable).\n",
    "        \n",
    "        - `profile`: method to be used in order to fix the fuzzifier\n",
    "          threshold ('fixed' used the sphere radius, 'infer' fits using\n",
    "          data in `self.xs` and `self.mus`.\n",
    "        '''\n",
    "        \n",
    "        super().__init__(xs, mus)\n",
    "        \n",
    "        if profile not in ['fixed', 'infer']:\n",
    "            raise ValueError(f\"'profile' parameter should be equal to \"\n",
    "                             \"'fixed' or 'infer' (provided value: {profile})\")\n",
    "        self.profile = profile\n",
    "        \n",
    "        self.name = 'Linear'\n",
    "        self.latex_name = '$\\\\hat\\\\mu_{\\\\text{lin}}$'\n",
    "        \n",
    "\n",
    "    def get_r_to_mu(self,\n",
    "                    sq_radius, # was SV_square_distance\n",
    "                    x_to_sq_dist): #was estimated_square_distance_from_center\n",
    "        r'''Returns a function that transforms the square distance between\n",
    "        center of the learnt sphere and the image of a point in original\n",
    "        space into a crisp membership degree having the form\n",
    "        \n",
    "        $$ \\mu(r) = \\begin{cases}\n",
    "          1    & \\text{if $r \\leq r_\\text{crisp}$,} \\\\\n",
    "          l(r) & \\text{otherwise,}\n",
    "        \\end{cases}$$   \n",
    "        \n",
    "        where $l$ is a linear function decreasing from 1 to 0. The slope of\n",
    "        this linear function is chosen so that the latter contains the point\n",
    "        (sq_radius, 0.5) if the `profile` attribute of the class\n",
    "        have been set to `fixed`, and induced via interpolation of the `xs`\n",
    "        and `mus` attributes when it is has been set to `infer`.\n",
    "        \n",
    "        **Note** This function is meant to be called internally by the\n",
    "        `get_fuzzified_membership` method in the base `Fuzzifier` class.\n",
    "        \n",
    "        - `sq_radius`: squared radius of the learnt sphere (float).\n",
    "        \n",
    "        - `x_to_sq_dist`: mapping of a point in original space into the\n",
    "          square distance of its image from the center of the learnt sphere\n",
    "          (function).\n",
    "        '''\n",
    "\n",
    "\n",
    "        rdata = np.fromiter(map(x_to_sq_dist, self.xs), dtype=float)\n",
    "\n",
    "        r_1_guess = np.median([x_to_sq_dist(x)\n",
    "                               for x, mu in zip(self.xs, self.mus)\n",
    "                               if mu>=0.99])\n",
    "            \n",
    "        if self.profile == 'fixed':\n",
    "            def r_to_mu_prototype(r, r_1):\n",
    "                return [np.clip(1 - 0.5 * (rr-r_1) / (sq_radius - r_1), 0, 1)\n",
    "                        for rr in r]\n",
    "\n",
    "            popt, _ = curve_fit(r_to_mu_prototype,\n",
    "                                rdata, self.mus,\n",
    "                                p0=(r_1_guess,),\n",
    "                                bounds=((0,), (np.inf,)))\n",
    "            \n",
    "        elif self.profile == 'infer':\n",
    "            \n",
    "            def r_to_mu_prototype(r, r_1, r_0):\n",
    "                return [np.clip(1 - (r_1 - rr) / (r_1 - r_0), 0, 1)\n",
    "                        for rr in r]\n",
    "\n",
    "            popt, _ = curve_fit(r_to_mu_prototype,\n",
    "                                rdata, self.mus,\n",
    "                                p0=(r_1_guess, 10*sq_radius),\n",
    "                                bounds=((0, 0), (np.inf, np.inf,)))\n",
    "        else:\n",
    "            raise ValueError('This should never happen.'\n",
    "                             ' Check LinearFuzzifier constructor.')\n",
    "        if min(popt) < 0:\n",
    "            raise ValueError('Profile fitting returned a negative parameter')\n",
    "\n",
    "        return lambda r: r_to_mu_prototype([r], *popt)[0]\n",
    "\n",
    "\n",
    "    def __repr__(self):\n",
    "        xs_repr = self.xs.__repr__()\n",
    "        mus_repr = self.mus.__repr__()\n",
    "        self_repr = f'LinearFuzzifier({xs_repr}, {mus_repr}'\n",
    "        if self.profile != 'fixed':\n",
    "            self_repr += f', profile={self.profile}'\n",
    "        self_repr += ')'\n",
    "        return self_repr\n"
   ]
  },
  {
   "cell_type": "code",
   "execution_count": null,
   "metadata": {},
   "outputs": [],
   "source": []
  }
 ],
 "metadata": {
  "kernelspec": {
   "display_name": "Python 3",
   "language": "python",
   "name": "python3"
  }
 },
 "nbformat": 4,
 "nbformat_minor": 4
}
