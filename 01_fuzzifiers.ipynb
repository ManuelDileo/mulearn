{
 "cells": [
  {
   "cell_type": "markdown",
   "metadata": {},
   "source": [
    "<h1>Table of Contents<span class=\"tocSkip\"></span></h1>\n",
    "<div class=\"toc\"><ul class=\"toc-item\"><li><span><a href=\"#The-mulearn.fuzzifier-module\" data-toc-modified-id=\"The-mulearn.fuzzifier-module-1\"><span class=\"toc-item-num\">1&nbsp;&nbsp;</span>The <code>mulearn.fuzzifier</code> module</a></span></li></ul></div>"
   ]
  },
  {
   "cell_type": "markdown",
   "metadata": {},
   "source": [
    "# The `mulearn.fuzzifier` module \n",
    "\n",
    "> The `mulearn.fuzzifier` module contains the implementations of fuzzifiers."
   ]
  },
  {
   "cell_type": "code",
   "execution_count": null,
   "metadata": {},
   "outputs": [],
   "source": [
    "# export\n",
    "\n",
    "import numpy as np\n",
    "import matplotlib.pyplot as plt\n",
    "import pytest\n",
    "from scipy.optimize import curve_fit"
   ]
  },
  {
   "cell_type": "code",
   "execution_count": null,
   "metadata": {},
   "outputs": [],
   "source": [
    "# default_exp fuzzifier"
   ]
  },
  {
   "cell_type": "code",
   "execution_count": null,
   "metadata": {},
   "outputs": [],
   "source": [
    "#hide\n",
    "from nbdev.showdoc import show_doc"
   ]
  },
  {
   "cell_type": "code",
   "execution_count": null,
   "metadata": {},
   "outputs": [],
   "source": [
    "# export\n",
    "\n",
    "class Fuzzifier:\n",
    "    def __init__(self, xs=None, mus=None):\n",
    "        self.xs = xs\n",
    "        self.mus = mus\n",
    "\n",
    "    def get_r_to_mu(self,\n",
    "                    sq_radius, # was SV_square_distance\n",
    "                    x_to_sq_dist): # was estimated_square_distance_from_center\n",
    "        '''Transforms the square distance between center of the learnt sphere\n",
    "        and the image of a point in original space into the membership degree\n",
    "        of the latter to the induced fuzzy set.\n",
    "        \n",
    "        Not implemented in the base fuzzifier class.\n",
    "        \n",
    "        - `sq_radius`: squared radius of the learnt sphere (float).\n",
    "        \n",
    "        - `x_to_sq_dist`: mapping of a point in original space into the\n",
    "          square distance of its image from the center of the learnt sphere\n",
    "          (function).\n",
    "        '''\n",
    "        \n",
    "        raise NotImplementedError(\n",
    "        'the base class does not implement get_r_to_mu method')\n",
    "\n",
    "    def get_membership(self,\n",
    "                                 sq_radius, # was SV_square_distance\n",
    "                                 x_to_sq_dist, # was estimated_square_distance_from_center\n",
    "                                 return_profile=False):\n",
    "        '''Return the induced membership function.\n",
    "        \n",
    "        - `sq_radius`: squared radius of the learnt sphere (float).\n",
    "        \n",
    "        - `x_to_sq_dist`: mapping of a point in original space into the\n",
    "          square distance of its image from the center of the learnt sphere\n",
    "          (function).\n",
    "        \n",
    "        - `return_profile` flag triggering the generation of the graph\n",
    "          of the fuzzifier to be returned alongside the fuzzifier itself\n",
    "          (bool, default=False).\n",
    "\n",
    "        Returns a list containing\n",
    "        \n",
    "        - the membership function if `return_profile` is `False`, and\n",
    "        - the membership function and the salient coordinates of the graph of\n",
    "          the fuzzifier if `return_profile` is `True`.\n",
    "        '''\n",
    "        r_to_mu = self.get_r_to_mu(sq_radius, x_to_sq_dist)\n",
    "        \n",
    "        def estimated_membership(x):\n",
    "            r = x_to_sq_dist(np.array(x))\n",
    "            return r_to_mu(r)\n",
    "\n",
    "        result = [estimated_membership]\n",
    "\n",
    "        if return_profile:\n",
    "            rdata = list(map(x_to_sq_dist, self.xs))\n",
    "            rdata_synth = np.linspace(0, max(rdata)*1.1, 200)\n",
    "            estimate = list(map(r_to_mu, rdata_synth))\n",
    "            result.append([rdata, rdata_synth, estimate])\n",
    "\n",
    "        return result\n",
    "    \n",
    "    def __str__(self):\n",
    "        return self.__repr__()\n",
    "\n",
    "    def __eq__(self, other):\n",
    "        return type(self) == type(other)\n",
    "\n",
    "    def __ne__(self, other):\n",
    "        return not self == other\n",
    "\n",
    "    def __hash__(self):\n",
    "        return hash(self.__repr__())\n",
    "\n",
    "    def __nonzero__(self):\n",
    "        return True"
   ]
  },
  {
   "cell_type": "markdown",
   "metadata": {},
   "source": [
    "The base class for fuzzifiers is `Fuzzifier`: it exposes a basic constructor\n",
    "which is called from the subclasses, and two methods `get_r_to_mu` returning\n",
    "a mapping that transforms a point from the original space onto the feature\n",
    "space, subsequently computing the distance of the image w.r.t. the center\n",
    "of the learnt sphere, and `get_membership` returning the membership\n",
    "function inferred from data, possibly alongside informations enabling to\n",
    "draw the graph of the fuzzifier."
   ]
  },
  {
   "cell_type": "code",
   "execution_count": null,
   "metadata": {},
   "outputs": [],
   "source": [
    "# export\n",
    "\n",
    "class CrispFuzzifier(Fuzzifier):\n",
    "    def __init__(self, xs=None, mus=None, profile='fixed'):\n",
    "        r'''Creates an instance of `CrispFuzzifier`\n",
    "        \n",
    "        - `xs`: objects in training set (iterable).\n",
    "        \n",
    "        - `mus`: degree memberships in training set (iterable).\n",
    "        \n",
    "        - `profile`: method to be used in order to fix the fuzzifier\n",
    "          threshold ('fixed' used the sphere radius, 'infer' fits using\n",
    "          data in `self.xs` and `self.mus`).\n",
    "        '''\n",
    "        \n",
    "        super().__init__(xs, mus)\n",
    "        self.profile = profile\n",
    "        if profile not in ['fixed', 'infer']:\n",
    "            raise ValueError(f\"'profile' parameter should be equal to \"\n",
    "                             \"'fixed' or 'infer' (provided value: {profile})\")\n",
    "            \n",
    "        if profile == 'infer' and (xs is None or mus is None):\n",
    "            raise ValueError(f\"all arguments to the constructor of \"\n",
    "                             \"CrispFuzzifier should be specified when \"\n",
    "                             \"profile='infer'\")\n",
    "\n",
    "        self.name = 'Crisp'\n",
    "        self.latex_name = '$\\\\hat\\\\mu_{\\\\text{crisp}}$'\n",
    "\n",
    "    def get_r_to_mu(self, sq_radius, x_to_sq_dist):\n",
    "        r'''Returns a function that transforms the square distance between\n",
    "        center of the learnt sphere and the image of a point in original\n",
    "        space into a crisp membership degree having the form\n",
    "        \n",
    "        $$ \\mu(r) = \\begin{cases}\n",
    "          1 & \\text{if $r \\leq r_\\text{crisp}$,} \\\\\n",
    "          0 & \\text{otherwise.}\n",
    "        \\end{cases}$$   \n",
    "        \n",
    "        The threshold is set to the learnt square radius of the sphere if the\n",
    "        `profile` attribute of the class have been set to `fixed`, and\n",
    "        induced via interpolation of the `xs` and `mus` attributes when it is\n",
    "        has been set to `infer`.\n",
    "        \n",
    "        **Note** This function is meant to be called internally by the\n",
    "        `get_membership` method in the base `Fuzzifier` class.\n",
    "        \n",
    "        - `sq_radius`: squared radius of the learnt sphere (float).\n",
    "        \n",
    "        - `x_to_sq_dist`: mapping of a point in original space into the\n",
    "          square distance of its image from the center of the learnt sphere\n",
    "          (function).\n",
    "        '''\n",
    "        \n",
    "        if self.profile == 'fixed':\n",
    "            return lambda r: 1 if r <= sq_radius else 0\n",
    "            \n",
    "        elif self.profile == 'infer':\n",
    "            rdata = np.fromiter(map(x_to_sq_dist, self.xs), dtype=float)\n",
    "\n",
    "            def r_to_mu_prototype(r, r_crisp):\n",
    "                result = np.ones(len(r))\n",
    "                result[r > r_crisp] = 0\n",
    "                return result\n",
    "\n",
    "\n",
    "            popt, _ = curve_fit(r_to_mu_prototype, rdata, self.mus)\n",
    "                                # bounds=((0,), (np.inf,)))\n",
    "\n",
    "            if popt[0] < 0:\n",
    "                raise ValueError('Profile fitting returned a negative parameter')\n",
    "            return lambda r: r_to_mu_prototype([r], *popt)[0]\n",
    "        else:\n",
    "            raise ('This should never happen. '\n",
    "                   'Check CrispFuzzifier constructor.')\n",
    "\n",
    "    def __repr__(self):\n",
    "        xs_repr = self.xs.__repr__()\n",
    "        mus_repr = self.mus.__repr__()\n",
    "        self_repr = f'CrispFuzzifier({xs_repr}, {mus_repr}'\n",
    "        if self.profile != 'fixed':\n",
    "            self_repr += f', profile={self.profile}'\n",
    "        self_repr += ')'\n",
    "        return self_repr"
   ]
  },
  {
   "cell_type": "markdown",
   "metadata": {},
   "source": [
    "Fuzzifier corresponding to a crisp (classical) set: membership is equal to 1\n",
    "within the learnt sphere and equal to 0 outside it."
   ]
  },
  {
   "cell_type": "code",
   "execution_count": null,
   "metadata": {},
   "outputs": [
    {
     "data": {
      "text/markdown": [
       "<h4 id=\"CrispFuzzifier.__init__\" class=\"doc_header\"><code>CrispFuzzifier.__init__</code><a href=\"__main__.py#L4\" class=\"source_link\" style=\"float:right\">[source]</a></h4>\n",
       "\n",
       "> <code>CrispFuzzifier.__init__</code>(**`xs`**=*`None`*, **`mus`**=*`None`*, **`profile`**=*`'fixed'`*)\n",
       "\n",
       "Creates an instance of [`CrispFuzzifier`](/mulearn/fuzzifiers#CrispFuzzifier)\n",
       "\n",
       "- `xs`: objects in training set (iterable).\n",
       "\n",
       "- `mus`: degree memberships in training set (iterable).\n",
       "\n",
       "- `profile`: method to be used in order to fix the fuzzifier\n",
       "  threshold ('fixed' used the sphere radius, 'infer' fits using\n",
       "  data in `self.xs` and `self.mus`)."
      ],
      "text/plain": [
       "<IPython.core.display.Markdown object>"
      ]
     },
     "metadata": {},
     "output_type": "display_data"
    }
   ],
   "source": [
    "show_doc(CrispFuzzifier.__init__)"
   ]
  },
  {
   "cell_type": "markdown",
   "metadata": {},
   "source": [
    "A crisp fuzzifier can be created etiher without arguments or specifying\n",
    "objects and labels of a training set."
   ]
  },
  {
   "cell_type": "code",
   "execution_count": null,
   "metadata": {},
   "outputs": [],
   "source": [
    "cf_1 = CrispFuzzifier()\n",
    "cf_2 = CrispFuzzifier([1, 2, 5, 5.5, 7, 8, 9.5, 10],\n",
    "                      [1, 1, 1, 0.9, 0.4, 0.1, 0, 0])"
   ]
  },
  {
   "cell_type": "markdown",
   "metadata": {},
   "source": [
    "The optional parameter `profile` defines the procedure to be used in order\n",
    "to choose the thresholding value in the fuzzifier, it can either be set to\n",
    "`'fixed'` or `'infer'` (see the description of `get_r_to_mu` later on).\n",
    "Specifying a different value will raise an exception. The same will happen\n",
    "if `profile='infer'` and the training set has not been specified as argument\n",
    "to the constructor."
   ]
  },
  {
   "cell_type": "code",
   "execution_count": null,
   "metadata": {},
   "outputs": [
    {
     "data": {
      "text/markdown": [
       "<h4 id=\"CrispFuzzifier.get_r_to_mu\" class=\"doc_header\"><code>CrispFuzzifier.get_r_to_mu</code><a href=\"__main__.py#L30\" class=\"source_link\" style=\"float:right\">[source]</a></h4>\n",
       "\n",
       "> <code>CrispFuzzifier.get_r_to_mu</code>(**`sq_radius`**, **`x_to_sq_dist`**)\n",
       "\n",
       "Returns a function that transforms the square distance between\n",
       "center of the learnt sphere and the image of a point in original\n",
       "space into a crisp membership degree having the form\n",
       "\n",
       "$$ \\mu(r) = \\begin{cases}\n",
       "  1 & \\text{if $r \\leq r_\\text{crisp}$,} \\\\\n",
       "  0 & \\text{otherwise.}\n",
       "\\end{cases}$$   \n",
       "\n",
       "The threshold is set to the learnt square radius of the sphere if the\n",
       "`profile` attribute of the class have been set to `fixed`, and\n",
       "induced via interpolation of the `xs` and `mus` attributes when it is\n",
       "has been set to `infer`.\n",
       "\n",
       "**Note** This function is meant to be called internally by the\n",
       "`get_membership` method in the base [`Fuzzifier`](/mulearn/fuzzifiers#Fuzzifier) class.\n",
       "\n",
       "- `sq_radius`: squared radius of the learnt sphere (float).\n",
       "\n",
       "- `x_to_sq_dist`: mapping of a point in original space into the\n",
       "  square distance of its image from the center of the learnt sphere\n",
       "  (function)."
      ],
      "text/plain": [
       "<IPython.core.display.Markdown object>"
      ]
     },
     "metadata": {},
     "output_type": "display_data"
    }
   ],
   "source": [
    "show_doc(CrispFuzzifier.get_r_to_mu)"
   ]
  },
  {
   "cell_type": "code",
   "execution_count": null,
   "metadata": {},
   "outputs": [
    {
     "data": {
      "text/markdown": [
       "<h4 id=\"Fuzzifier.get_membership\" class=\"doc_header\"><code>Fuzzifier.get_membership</code><a href=\"__main__.py#L27\" class=\"source_link\" style=\"float:right\">[source]</a></h4>\n",
       "\n",
       "> <code>Fuzzifier.get_membership</code>(**`sq_radius`**, **`x_to_sq_dist`**, **`return_profile`**=*`False`*)\n",
       "\n",
       "Return the induced membership function.\n",
       "\n",
       "- `sq_radius`: squared radius of the learnt sphere (float).\n",
       "\n",
       "- `x_to_sq_dist`: mapping of a point in original space into the\n",
       "  square distance of its image from the center of the learnt sphere\n",
       "  (function).\n",
       "\n",
       "- `return_profile` flag triggering the generation of the graph\n",
       "  of the fuzzifier to be returned alongside the fuzzifier itself\n",
       "  (bool, default=False).\n",
       "\n",
       "Returns a list containing\n",
       "\n",
       "- the membership function if `return_profile` is `False`, and\n",
       "- the membership function and the salient coordinates of the graph of\n",
       "  the fuzzifier if `return_profile` is `True`."
      ],
      "text/plain": [
       "<IPython.core.display.Markdown object>"
      ]
     },
     "metadata": {},
     "output_type": "display_data"
    }
   ],
   "source": [
    "show_doc(CrispFuzzifier.get_membership)"
   ]
  },
  {
   "cell_type": "markdown",
   "metadata": {},
   "source": [
    "`CrispFuzzifier` implements this method in order to return a threshold\n",
    "function. The thresholding value is fixed by default using the radius of\n",
    "the learnt sphere."
   ]
  },
  {
   "cell_type": "code",
   "execution_count": null,
   "metadata": {},
   "outputs": [
    {
     "data": {
      "image/png": "[encoded data removed]",
      "text/plain": [
       "<Figure size 432x288 with 1 Axes>"
      ]
     },
     "metadata": {
      "needs_background": "light"
     },
     "output_type": "display_data"
    }
   ],
   "source": [
    "cf = CrispFuzzifier([1, 2, 5, 5.5, 7, 8, 9.5, 10],\n",
    "                    [1, 1, 1, 0.9, 0.4, 0.1, 0, 0])\n",
    "[mu] = cf.get_membership(1, lambda x: x/3)\n",
    "\n",
    "x = np.linspace(1, 10, 20)\n",
    "plt.step(x, list(map(mu, x)))\n",
    "plt.show()"
   ]
  },
  {
   "cell_type": "markdown",
   "metadata": {},
   "source": [
    "Setting `profile='infer'` will perform an interpolation process fitting\n",
    "the threshold to the training set passed to the constructor."
   ]
  },
  {
   "cell_type": "code",
   "execution_count": null,
   "metadata": {},
   "outputs": [
    {
     "name": "stderr",
     "output_type": "stream",
     "text": [
      "/home/malchiodi/anaconda3/lib/python3.7/site-packages/scipy/optimize/minpack.py:808: OptimizeWarning: Covariance of the parameters could not be estimated\n",
      "  category=OptimizeWarning)\n"
     ]
    },
    {
     "data": {
      "image/png": "[encoded data removed]",
      "text/plain": [
       "<Figure size 432x288 with 1 Axes>"
      ]
     },
     "metadata": {
      "needs_background": "light"
     },
     "output_type": "display_data"
    }
   ],
   "source": [
    "xs = [1, 2, 5, 5.5, 7, 8, 9.5, 10]\n",
    "mus = [1, 1, 1, 0.9, 0.4, 0.1, 0, 0]\n",
    "cf = CrispFuzzifier(xs,mus, profile='infer')\n",
    "[mu] = cf.get_membership(2, lambda x: x/3)\n",
    "\n",
    "x = np.linspace(1, 10, 20)\n",
    "plt.step(x, list(map(mu, x)))\n",
    "plt.plot(xs, mus, 'o')\n",
    "plt.show()"
   ]
  },
  {
   "cell_type": "markdown",
   "metadata": {},
   "source": [
    "The `return_profile` optional argument returns a further list that contains\n",
    "- a list of the squared distances between the images of points in the\n",
    "  training set and the center of the sphere;\n",
    "- a list of synthesized values for such distances (spanned uniformely\n",
    "  between the minimum and maximum values of the distances within the\n",
    "  training set);\n",
    "- a list of membership values associated to the values in previous point.\n",
    "\n",
    "This new information allow for drawing a profile of the membership function\n",
    "as a function of the distance in feature space."
   ]
  },
  {
   "cell_type": "code",
   "execution_count": null,
   "metadata": {},
   "outputs": [
    {
     "name": "stderr",
     "output_type": "stream",
     "text": [
      "/home/malchiodi/anaconda3/lib/python3.7/site-packages/scipy/optimize/minpack.py:808: OptimizeWarning: Covariance of the parameters could not be estimated\n",
      "  category=OptimizeWarning)\n"
     ]
    },
    {
     "data": {
      "image/png": "[encoded data removed]",
      "text/plain": [
       "<Figure size 432x288 with 1 Axes>"
      ]
     },
     "metadata": {
      "needs_background": "light"
     },
     "output_type": "display_data"
    }
   ],
   "source": [
    "[mu, [rdata, rdata_synth, estimate]] = \\\n",
    "      cf.get_membership(1, lambda x: x/3, return_profile=True)\n",
    "\n",
    "plt.plot(rdata_synth, estimate)\n",
    "plt.show()"
   ]
  },
  {
   "cell_type": "markdown",
   "metadata": {},
   "source": [
    "**Tests**"
   ]
  },
  {
   "cell_type": "code",
   "execution_count": null,
   "metadata": {},
   "outputs": [],
   "source": [
    "with pytest.raises(ValueError):\n",
    "    cf = CrispFuzzifier(profile='infer')\n",
    "    \n",
    "with pytest.raises(ValueError):\n",
    "    cr = CrispFuzzifier(profile='xxx')"
   ]
  },
  {
   "cell_type": "code",
   "execution_count": null,
   "metadata": {},
   "outputs": [],
   "source": [
    "#export\n",
    "\n",
    "class LinearFuzzifier(Fuzzifier):\n",
    "    def __init__(self, xs=None, mus=None, profile='fixed'):\n",
    "        r'''Creates an instance of `LinearFuzzifier`\n",
    "        \n",
    "        - `xs`: objects in training set (iterable).\n",
    "        \n",
    "        - `mus`: degree memberships in training set (iterable).\n",
    "        \n",
    "        - `profile`: method to be used in order to fix the fuzzifier\n",
    "          threshold ('fixed' used the sphere radius, 'infer' fits using\n",
    "          data in `self.xs` and `self.mus`).\n",
    "        '''\n",
    "        \n",
    "        super().__init__(xs, mus)\n",
    "        \n",
    "        if profile not in ['fixed', 'infer']:\n",
    "            raise ValueError(f\"'profile' parameter should be equal to \"\n",
    "                             \"'fixed' or 'infer' (provided value: {profile})\")\n",
    "            \n",
    "        if profile == 'infer' and (xs is None or mus is None):\n",
    "            raise ValueError(f\"all arguments to the constructor of \"\n",
    "                             \"LinearFuzzifier should be specified when \"\n",
    "                             \"profile='infer'\")\n",
    "            \n",
    "        self.profile = profile\n",
    "        \n",
    "        self.name = 'Linear'\n",
    "        self.latex_name = '$\\\\hat\\\\mu_{\\\\text{lin}}$'\n",
    "        \n",
    "\n",
    "    def get_r_to_mu(self,\n",
    "                    sq_radius, # was SV_square_distance\n",
    "                    x_to_sq_dist): #was estimated_square_distance_from_center\n",
    "        r'''Returns a function that transforms the square distance between\n",
    "        center of the learnt sphere and the image of a point in original\n",
    "        space into a membership degree having the form\n",
    "        \n",
    "        $$ \\mu(r) = \\begin{cases}\n",
    "          1    & \\text{if $r \\leq r_\\text{crisp}$,} \\\\\n",
    "          l(r) & \\text{otherwise,}\n",
    "        \\end{cases}$$   \n",
    "        \n",
    "        where $l$ is a linear function decreasing from 1 to 0. The slope of\n",
    "        this linear function is chosen so that the latter contains the point\n",
    "        (sq_radius, 0.5) if the `profile` attribute of the class\n",
    "        have been set to `fixed`, and induced via interpolation of the `xs`\n",
    "        and `mus` attributes when it is has been set to `infer`.\n",
    "        \n",
    "        **Note** This function is meant to be called internally by the\n",
    "        `get_membership` method in the base `Fuzzifier` class.\n",
    "        \n",
    "        - `sq_radius`: squared radius of the learnt sphere (float).\n",
    "        \n",
    "        - `x_to_sq_dist`: mapping of a point in original space into the\n",
    "          square distance of its image from the center of the learnt sphere\n",
    "          (function).\n",
    "        '''\n",
    "\n",
    "        rdata = np.fromiter(map(x_to_sq_dist, self.xs), dtype=float)\n",
    "\n",
    "        r_1_guess = np.median([x_to_sq_dist(x)\n",
    "                               for x, mu in zip(self.xs, self.mus)\n",
    "                               if mu>=0.99])\n",
    "            \n",
    "        if self.profile == 'fixed':\n",
    "            def r_to_mu_prototype(r, r_1):\n",
    "                return [np.clip(1 - 0.5 * (rr-r_1) / (sq_radius - r_1), 0, 1)\n",
    "                        for rr in r]\n",
    "\n",
    "            popt, _ = curve_fit(r_to_mu_prototype,\n",
    "                                rdata, self.mus,\n",
    "                                p0=(r_1_guess,),\n",
    "                                bounds=((0,), (np.inf,)))\n",
    "            \n",
    "        elif self.profile == 'infer':\n",
    "            \n",
    "            def r_to_mu_prototype(r, r_1, r_0):\n",
    "                return [np.clip(1 - (r_1 - rr) / (r_1 - r_0), 0, 1)\n",
    "                        for rr in r]\n",
    "\n",
    "            popt, _ = curve_fit(r_to_mu_prototype,\n",
    "                                rdata, self.mus,\n",
    "                                p0=(r_1_guess, 10*sq_radius),\n",
    "                                bounds=((0, 0), (np.inf, np.inf,)))\n",
    "        else:\n",
    "            raise ValueError('This should never happen.'\n",
    "                             ' Check LinearFuzzifier constructor.')\n",
    "        if min(popt) < 0:\n",
    "            raise ValueError('Profile fitting returned a negative parameter')\n",
    "\n",
    "        return lambda r: r_to_mu_prototype([r], *popt)[0]\n",
    "\n",
    "\n",
    "    def __repr__(self):\n",
    "        xs_repr = self.xs.__repr__()\n",
    "        mus_repr = self.mus.__repr__()\n",
    "        self_repr = f'LinearFuzzifier({xs_repr}, {mus_repr}'\n",
    "        if self.profile != 'fixed':\n",
    "            self_repr += f', profile={self.profile}'\n",
    "        self_repr += ')'\n",
    "        return self_repr\n"
   ]
  },
  {
   "cell_type": "markdown",
   "metadata": {},
   "source": [
    "Fuzzifier corresponding to a fuzzy set whose membership linearly decreases\n",
    "from 1 to 0."
   ]
  },
  {
   "cell_type": "code",
   "execution_count": null,
   "metadata": {},
   "outputs": [
    {
     "data": {
      "text/markdown": [
       "<h4 id=\"LinearFuzzifier.__init__\" class=\"doc_header\"><code>LinearFuzzifier.__init__</code><a href=\"__main__.py#L4\" class=\"source_link\" style=\"float:right\">[source]</a></h4>\n",
       "\n",
       "> <code>LinearFuzzifier.__init__</code>(**`xs`**=*`None`*, **`mus`**=*`None`*, **`profile`**=*`'fixed'`*)\n",
       "\n",
       "Creates an instance of [`LinearFuzzifier`](/mulearn/fuzzifiers#LinearFuzzifier)\n",
       "\n",
       "- `xs`: objects in training set (iterable).\n",
       "\n",
       "- `mus`: degree memberships in training set (iterable).\n",
       "\n",
       "- `profile`: method to be used in order to fix the fuzzifier\n",
       "  threshold ('fixed' used the sphere radius, 'infer' fits using\n",
       "  data in `self.xs` and `self.mus`)."
      ],
      "text/plain": [
       "<IPython.core.display.Markdown object>"
      ]
     },
     "metadata": {},
     "output_type": "display_data"
    }
   ],
   "source": [
    "show_doc(LinearFuzzifier.__init__)"
   ]
  },
  {
   "cell_type": "markdown",
   "metadata": {},
   "source": [
    "A linear fuzzifier can be created etiher without arguments or specifying\n",
    "objects and labels of a training set."
   ]
  },
  {
   "cell_type": "code",
   "execution_count": null,
   "metadata": {},
   "outputs": [],
   "source": [
    "lf_1 = LinearFuzzifier()\n",
    "lf_2 = LinearFuzzifier([1, 2, 5, 5.5, 7, 8, 9.5, 10],\n",
    "                      [1, 1, 1, 0.9, 0.4, 0.1, 0, 0])"
   ]
  },
  {
   "cell_type": "markdown",
   "metadata": {},
   "source": [
    "The optional parameter `profile` defines the procedure to be used in order\n",
    "to choose the thresholding value in the fuzzifier, it can either be set to\n",
    "`'fixed'` or `'infer'` (see the description of `get_r_to_mu` later on).\n",
    "Specifying a different value will raise an exception. The same will happen\n",
    "if `profile='infer'` and the training set has not been specified as argument\n",
    "to the constructor."
   ]
  },
  {
   "cell_type": "code",
   "execution_count": null,
   "metadata": {},
   "outputs": [
    {
     "data": {
      "text/markdown": [
       "<h4 id=\"LinearFuzzifier.get_r_to_mu\" class=\"doc_header\"><code>LinearFuzzifier.get_r_to_mu</code><a href=\"__main__.py#L33\" class=\"source_link\" style=\"float:right\">[source]</a></h4>\n",
       "\n",
       "> <code>LinearFuzzifier.get_r_to_mu</code>(**`sq_radius`**, **`x_to_sq_dist`**)\n",
       "\n",
       "Returns a function that transforms the square distance between\n",
       "center of the learnt sphere and the image of a point in original\n",
       "space into a membership degree having the form\n",
       "\n",
       "$$ \\mu(r) = \\begin{cases}\n",
       "  1    & \\text{if $r \\leq r_\\text{crisp}$,} \\\\\n",
       "  l(r) & \\text{otherwise,}\n",
       "\\end{cases}$$   \n",
       "\n",
       "where $l$ is a linear function decreasing from 1 to 0. The slope of\n",
       "this linear function is chosen so that the latter contains the point\n",
       "(sq_radius, 0.5) if the `profile` attribute of the class\n",
       "have been set to `fixed`, and induced via interpolation of the `xs`\n",
       "and `mus` attributes when it is has been set to `infer`.\n",
       "\n",
       "**Note** This function is meant to be called internally by the\n",
       "`get_membership` method in the base [`Fuzzifier`](/mulearn/fuzzifiers#Fuzzifier) class.\n",
       "\n",
       "- `sq_radius`: squared radius of the learnt sphere (float).\n",
       "\n",
       "- `x_to_sq_dist`: mapping of a point in original space into the\n",
       "  square distance of its image from the center of the learnt sphere\n",
       "  (function)."
      ],
      "text/plain": [
       "<IPython.core.display.Markdown object>"
      ]
     },
     "metadata": {},
     "output_type": "display_data"
    }
   ],
   "source": [
    "show_doc(LinearFuzzifier.get_r_to_mu)"
   ]
  },
  {
   "cell_type": "code",
   "execution_count": null,
   "metadata": {},
   "outputs": [
    {
     "data": {
      "text/markdown": [
       "<h4 id=\"Fuzzifier.get_membership\" class=\"doc_header\"><code>Fuzzifier.get_membership</code><a href=\"__main__.py#L27\" class=\"source_link\" style=\"float:right\">[source]</a></h4>\n",
       "\n",
       "> <code>Fuzzifier.get_membership</code>(**`sq_radius`**, **`x_to_sq_dist`**, **`return_profile`**=*`False`*)\n",
       "\n",
       "Return the induced membership function.\n",
       "\n",
       "- `sq_radius`: squared radius of the learnt sphere (float).\n",
       "\n",
       "- `x_to_sq_dist`: mapping of a point in original space into the\n",
       "  square distance of its image from the center of the learnt sphere\n",
       "  (function).\n",
       "\n",
       "- `return_profile` flag triggering the generation of the graph\n",
       "  of the fuzzifier to be returned alongside the fuzzifier itself\n",
       "  (bool, default=False).\n",
       "\n",
       "Returns a list containing\n",
       "\n",
       "- the membership function if `return_profile` is `False`, and\n",
       "- the membership function and the salient coordinates of the graph of\n",
       "  the fuzzifier if `return_profile` is `True`."
      ],
      "text/plain": [
       "<IPython.core.display.Markdown object>"
      ]
     },
     "metadata": {},
     "output_type": "display_data"
    }
   ],
   "source": [
    "show_doc(LinearFuzzifier.get_membership)"
   ]
  },
  {
   "cell_type": "markdown",
   "metadata": {},
   "source": [
    "`LinearFuzzifier` implements this method in order to return a linearly\n",
    "decreasing function, whose slope is fixed by default so that the membership\n",
    "value 0.5 corresponds to the radius of the learnt sphere."
   ]
  },
  {
   "cell_type": "code",
   "execution_count": null,
   "metadata": {},
   "outputs": [
    {
     "data": {
      "image/png": "[encoded data removed]",
      "text/plain": [
       "<Figure size 432x288 with 1 Axes>"
      ]
     },
     "metadata": {
      "needs_background": "light"
     },
     "output_type": "display_data"
    }
   ],
   "source": [
    "lf = LinearFuzzifier([1, 2, 5, 5.5, 7, 8, 9.5, 10],\n",
    "                    [1, 1, 1, 0.9, 0.4, 0.1, 0, 0])\n",
    "[mu] = lf.get_membership(1, lambda x: x/3)\n",
    "\n",
    "x = np.linspace(1, 10, 200)\n",
    "plt.plot(x, list(map(mu, x)))\n",
    "plt.show()"
   ]
  },
  {
   "cell_type": "markdown",
   "metadata": {},
   "source": [
    "Setting `profile='infer'` will perform an interpolation process fitting\n",
    "the membership slope to the training set passed to the constructor."
   ]
  },
  {
   "cell_type": "code",
   "execution_count": null,
   "metadata": {},
   "outputs": [
    {
     "data": {
      "image/png": "[encoded data removed]",
      "text/plain": [
       "<Figure size 432x288 with 1 Axes>"
      ]
     },
     "metadata": {
      "needs_background": "light"
     },
     "output_type": "display_data"
    }
   ],
   "source": [
    "xs = [1, 2, 5, 5.5, 7, 8, 9.5, 10]\n",
    "mus = [1, 1, 1, 0.9, 0.4, 0.1, 0, 0]\n",
    "lf = LinearFuzzifier(xs,mus, profile='infer')\n",
    "[mu] = lf.get_membership(2, lambda x: x/3)\n",
    "\n",
    "x = np.linspace(1, 10, 200)\n",
    "plt.plot(x, list(map(mu, x)))\n",
    "plt.plot(xs, mus, 'o')\n",
    "plt.show()"
   ]
  },
  {
   "cell_type": "markdown",
   "metadata": {},
   "source": [
    "The `return_profile` optional argument returns a further list that contains\n",
    "- a list of the squared distances between the images of points in the\n",
    "  training set and the center of the sphere;\n",
    "- a list of synthesized values for such distances (spanned uniformely\n",
    "  between the minimum and maximum values of the distances within the\n",
    "  training set);\n",
    "- a list of membership values associated to the values in previous point.\n",
    "\n",
    "This new information allow for drawing a profile of the membership function\n",
    "as a function of the distance in feature space."
   ]
  },
  {
   "cell_type": "code",
   "execution_count": null,
   "metadata": {},
   "outputs": [
    {
     "data": {
      "image/png": "[encoded data removed]",
      "text/plain": [
       "<Figure size 432x288 with 1 Axes>"
      ]
     },
     "metadata": {
      "needs_background": "light"
     },
     "output_type": "display_data"
    }
   ],
   "source": [
    "[mu, [rdata, rdata_synth, estimate]] = \\\n",
    "      lf.get_membership(1, lambda x: x/3, return_profile=True)\n",
    "\n",
    "plt.plot(rdata_synth, estimate)\n",
    "plt.plot(rdata, mus, 'o')\n",
    "plt.show()"
   ]
  },
  {
   "cell_type": "markdown",
   "metadata": {},
   "source": [
    "**Tests**"
   ]
  },
  {
   "cell_type": "code",
   "execution_count": null,
   "metadata": {},
   "outputs": [],
   "source": [
    "with pytest.raises(ValueError):\n",
    "    lf = LinearFuzzifier(profile='infer')\n",
    "    \n",
    "with pytest.raises(ValueError):\n",
    "    lr = LinearFuzzifier(profile='xxx')"
   ]
  },
  {
   "cell_type": "code",
   "execution_count": null,
   "metadata": {},
   "outputs": [],
   "source": [
    "#export\n",
    "class ExponentialFuzzifier(Fuzzifier):\n",
    "    def __init__(self, xs=None, mus=None,\n",
    "                 profile='fixed', alpha=None, sample=None):\n",
    "        r'''Creates an instance of `ExponentialFuzzifier`\n",
    "        \n",
    "        - `xs`: objects in training set (iterable).\n",
    "        \n",
    "        - `mus`: degree memberships in training set (iterable).\n",
    "        \n",
    "        - `profile`: method to be used in order to fix the exponential\n",
    "          decay ('fixed' used the sphere radius, 'infer' fits using\n",
    "          data in `self.xs` and `self.mus`, and `alpha` relies on a\n",
    "          manually set `alpha` parameter).\n",
    "          \n",
    "        - `alpha`: decaying degree of the exponential (float in (0, 1)).\n",
    "        '''\n",
    "        \n",
    "        super().__init__(xs, mus)\n",
    "        \n",
    "        if profile not in ['infer', 'fixed', 'alpha']:\n",
    "            raise ValueError(f\"'profile' parameter should be equal to \"\n",
    "                             \"'infer', 'fixed' or 'alpha' \"\n",
    "                             \"(provided value: {profile})\")\n",
    "            \n",
    "        if profile == 'infer' and (xs is None or mus is None):\n",
    "            raise ValueError(f\"arguments xs and mus to the constructor of \"\n",
    "                             \"ExponentialFuzzifier should be specified when \"\n",
    "                             \"profile='infer'\")\n",
    "        \n",
    "        if profile == 'alpha':\n",
    "            if alpha is None:\n",
    "                raise ValueError(\"alpha must be set to a float when\"\n",
    "                                 \"'profile' is 'alpha'\")\n",
    "            if alpha <= 0 or alpha >= 1:\n",
    "                raise ValueError(\"alpha must belong to (0, 1)\"\n",
    "                                 \"'profile' is 'alpha'\")\n",
    "            self.name = f'Exponential({alpha})'\n",
    "            self.latex_name = \\\n",
    "                      r'$\\hat\\mu_{{\\text{{exp}},{:.3f}}}$'.format(alpha)\n",
    "            \n",
    "            self.alpha = alpha\n",
    "        else:\n",
    "            self.name = 'Exponential'\n",
    "            self.latex_name = r'$\\hat\\mu_{\\text{nexp}}$'\n",
    "        \n",
    "        self.profile = profile\n",
    "        \n",
    "        self.sample = sample\n",
    "\n",
    "\n",
    "    def get_r_to_mu(self,\n",
    "                    sq_radius, # was SV_square_distance\n",
    "                    x_to_sq_dist): #was estimated_square_distance_from_center\n",
    "        r'''Returns a function that transforms the square distance between\n",
    "        center of the learnt sphere and the image of a point in original\n",
    "        space into a membership degree having the form\n",
    "        \n",
    "        $$ \\mu(r) = \\begin{cases}\n",
    "          1    & \\text{if $r \\leq r_\\text{crisp}$,} \\\\\n",
    "          e(r) & \\text{otherwise,}\n",
    "        \\end{cases}$$   \n",
    "        \n",
    "        where $e$ is an exponential function decreasing from 1 to 0. The\n",
    "        shape of this function is chosen so that the latter contains the\n",
    "        point (sq_radius, 0.5) if the `profile` attribute of the class\n",
    "        have been set to `fixed`, induced via interpolation of the `xs`\n",
    "        and `mus` attributes when it is has been set to `infer`, and\n",
    "        manually set via the `alpha` parameter of the constructor when\n",
    "        `profile='alpha'`.\n",
    "        \n",
    "        **Note** This function is meant to be called internally by the\n",
    "        `get_membership` method in the base `Fuzzifier` class.\n",
    "        \n",
    "        - `sq_radius`: squared radius of the learnt sphere (float).\n",
    "        \n",
    "        - `x_to_sq_dist`: mapping of a point in original space into the\n",
    "          square distance of its image from the center of the learnt sphere\n",
    "          (function).\n",
    "        '''\n",
    "\n",
    "        r_1_guess = np.median([x_to_sq_dist(x)\n",
    "                               for x, mu in zip(self.xs, self.mus)\n",
    "                               if mu>=0.99])\n",
    "        \n",
    "        s_guess = (sq_radius - r_1_guess) / np.log(2)\n",
    "\n",
    "        rdata = np.fromiter(map(x_to_sq_dist, self.xs), dtype=float)\n",
    "\n",
    "        if self.profile == 'fixed':\n",
    "            def r_to_mu_prototype(r, r_1):    \n",
    "                return [np.clip(np.exp(-(rr-r_1)/(sq_radius-r_1) * np.log(2)),\n",
    "                                0, 1) for rr in r]\n",
    "\n",
    "            popt, _ = curve_fit(r_to_mu_prototype, rdata, self.mus,\n",
    "                                p0=(r_1_guess,))\n",
    "                                #bounds=((0,), (np.inf,)))\n",
    "            return lambda r: r_to_mu_prototype([r], *popt)[0]\n",
    "\n",
    "        elif self.profile == 'infer':\n",
    "            def r_to_mu_prototype(r, r_1, s):\n",
    "                return [np.clip(np.exp(-(rr - r_1) / s), 0, 1) for rr in r]\n",
    "\n",
    "            popt, _ = curve_fit(r_to_mu_prototype, rdata, self.mus,\n",
    "                                #p0=(r_1_guess, s_guess),\n",
    "                                bounds=((0, 0), (np.inf, np.inf)))\n",
    "\n",
    "            return lambda r: r_to_mu_prototype([r], *popt)[0]\n",
    "\n",
    "        elif self.profile == 'alpha':\n",
    "            r_sample = map(x_to_sq_dist, self.sample \\\n",
    "                            if self.sample is not None else self.xs)\n",
    "\n",
    "            q = np.percentile([s - sq_radius for s in r_sample\n",
    "                                             if s > sq_radius],\n",
    "                              100*self.alpha)\n",
    "\n",
    "            return lambda r: np.clip(np.exp(np.log(self.alpha)/q * (r - sq_radius)),\n",
    "                           0, 1)\n",
    "        else:\n",
    "            raise ValueError('This should not happen. Check the constructor')\n",
    "    \n",
    "    def __repr__(self):\n",
    "        xs_repr = self.xs.__repr__()\n",
    "        mus_repr = self.mus.__repr__()\n",
    "        self_repr = f'ExponentialFuzzifier({xs_repr}, {mus_repr}'\n",
    "        if self.profile != 'fixed':\n",
    "            self_repr += f', profile={self.profile}'\n",
    "        if self.alpha is not None:\n",
    "            self_repr += f', alpha={self.alpha}'\n",
    "        if self.sample is not None:\n",
    "            self_repr += f', sample={self.sample.__repr__()}'\n",
    "        self_repr += ')'\n",
    "        return self_repr\n"
   ]
  },
  {
   "cell_type": "markdown",
   "metadata": {},
   "source": [
    "Fuzzifier corresponding to a fuzzy set whose membership exponentially\n",
    "decreases from 1 to 0."
   ]
  },
  {
   "cell_type": "code",
   "execution_count": null,
   "metadata": {},
   "outputs": [
    {
     "data": {
      "text/markdown": [
       "<h4 id=\"ExponentialFuzzifier.__init__\" class=\"doc_header\"><code>ExponentialFuzzifier.__init__</code><a href=\"__main__.py#L3\" class=\"source_link\" style=\"float:right\">[source]</a></h4>\n",
       "\n",
       "> <code>ExponentialFuzzifier.__init__</code>(**`xs`**=*`None`*, **`mus`**=*`None`*, **`profile`**=*`'fixed'`*, **`alpha`**=*`None`*, **`sample`**=*`None`*)\n",
       "\n",
       "Creates an instance of [`ExponentialFuzzifier`](/mulearn/fuzzifiers#ExponentialFuzzifier)\n",
       "\n",
       "- `xs`: objects in training set (iterable).\n",
       "\n",
       "- `mus`: degree memberships in training set (iterable).\n",
       "\n",
       "- `profile`: method to be used in order to fix the exponential\n",
       "  decay ('fixed' used the sphere radius, 'infer' fits using\n",
       "  data in `self.xs` and `self.mus`, and `alpha` relies on a\n",
       "  manually set `alpha` parameter).\n",
       "  \n",
       "- `alpha`: decaying degree of the exponential (float in (0, 1))."
      ],
      "text/plain": [
       "<IPython.core.display.Markdown object>"
      ]
     },
     "metadata": {},
     "output_type": "display_data"
    }
   ],
   "source": [
    "show_doc(ExponentialFuzzifier.__init__)"
   ]
  },
  {
   "cell_type": "markdown",
   "metadata": {},
   "source": [
    "Aa exponential fuzzifier can be created etiher without arguments or specifying\n",
    "objects and labels of a training set."
   ]
  },
  {
   "cell_type": "code",
   "execution_count": null,
   "metadata": {},
   "outputs": [],
   "source": [
    "ef_1 = ExponentialFuzzifier()\n",
    "ef_2 = ExponentialFuzzifier([1, 2, 5, 5.5, 7, 8, 9.5, 10],\n",
    "                      [1, 1, 1, 0.9, 0.4, 0.1, 0, 0])"
   ]
  },
  {
   "cell_type": "markdown",
   "metadata": {},
   "source": [
    "The optional parameter `profile` defines the procedure to be used in order\n",
    "to choose the thresholding value in the fuzzifier, it can either be set to\n",
    "`'fixed'`, `'infer'`, or `'alpha'` (see the description of\n",
    "`get_membership` later on).\n",
    "Specifying a different value will raise an exception. The same will happen\n",
    "if `profile='infer'` and the training set has not been specified as argument\n",
    "to the constructor, or if `profile='alpha'` and the `alpha` parameter has not\n",
    "been specified, or if a value not belonging to (0, 1) has been specified."
   ]
  },
  {
   "cell_type": "code",
   "execution_count": null,
   "metadata": {},
   "outputs": [
    {
     "data": {
      "text/markdown": [
       "<h4 id=\"ExponentialFuzzifier.get_r_to_mu\" class=\"doc_header\"><code>ExponentialFuzzifier.get_r_to_mu</code><a href=\"__main__.py#L52\" class=\"source_link\" style=\"float:right\">[source]</a></h4>\n",
       "\n",
       "> <code>ExponentialFuzzifier.get_r_to_mu</code>(**`sq_radius`**, **`x_to_sq_dist`**)\n",
       "\n",
       "Returns a function that transforms the square distance between\n",
       "center of the learnt sphere and the image of a point in original\n",
       "space into a membership degree having the form\n",
       "\n",
       "$$ \\mu(r) = \\begin{cases}\n",
       "  1    & \\text{if $r \\leq r_\\text{crisp}$,} \\\\\n",
       "  e(r) & \\text{otherwise,}\n",
       "\\end{cases}$$   \n",
       "\n",
       "where $e$ is an exponential function decreasing from 1 to 0. The\n",
       "shape of this function is chosen so that the latter contains the\n",
       "point (sq_radius, 0.5) if the `profile` attribute of the class\n",
       "have been set to `fixed`, induced via interpolation of the `xs`\n",
       "and `mus` attributes when it is has been set to `infer`, and\n",
       "manually set via the `alpha` parameter of the constructor when\n",
       "`profile='alpha'`.\n",
       "\n",
       "**Note** This function is meant to be called internally by the\n",
       "`get_membership` method in the base [`Fuzzifier`](/mulearn/fuzzifiers#Fuzzifier) class.\n",
       "\n",
       "- `sq_radius`: squared radius of the learnt sphere (float).\n",
       "\n",
       "- `x_to_sq_dist`: mapping of a point in original space into the\n",
       "  square distance of its image from the center of the learnt sphere\n",
       "  (function)."
      ],
      "text/plain": [
       "<IPython.core.display.Markdown object>"
      ]
     },
     "metadata": {},
     "output_type": "display_data"
    }
   ],
   "source": [
    "show_doc(ExponentialFuzzifier.get_r_to_mu)"
   ]
  },
  {
   "cell_type": "code",
   "execution_count": null,
   "metadata": {},
   "outputs": [
    {
     "data": {
      "text/markdown": [
       "<h4 id=\"Fuzzifier.get_membership\" class=\"doc_header\"><code>Fuzzifier.get_membership</code><a href=\"__main__.py#L27\" class=\"source_link\" style=\"float:right\">[source]</a></h4>\n",
       "\n",
       "> <code>Fuzzifier.get_membership</code>(**`sq_radius`**, **`x_to_sq_dist`**, **`return_profile`**=*`False`*)\n",
       "\n",
       "Return the induced membership function.\n",
       "\n",
       "- `sq_radius`: squared radius of the learnt sphere (float).\n",
       "\n",
       "- `x_to_sq_dist`: mapping of a point in original space into the\n",
       "  square distance of its image from the center of the learnt sphere\n",
       "  (function).\n",
       "\n",
       "- `return_profile` flag triggering the generation of the graph\n",
       "  of the fuzzifier to be returned alongside the fuzzifier itself\n",
       "  (bool, default=False).\n",
       "\n",
       "Returns a list containing\n",
       "\n",
       "- the membership function if `return_profile` is `False`, and\n",
       "- the membership function and the salient coordinates of the graph of\n",
       "  the fuzzifier if `return_profile` is `True`."
      ],
      "text/plain": [
       "<IPython.core.display.Markdown object>"
      ]
     },
     "metadata": {},
     "output_type": "display_data"
    }
   ],
   "source": [
    "show_doc(ExponentialFuzzifier.get_membership)"
   ]
  },
  {
   "cell_type": "markdown",
   "metadata": {},
   "source": [
    "`ExponentialFuzzifier` implements this method in order to return an\n",
    "exponentially decreasing function, whose slope is fixed by default so that\n",
    "the membership value 0.5 corresponds to the radius of the learnt sphere."
   ]
  },
  {
   "cell_type": "code",
   "execution_count": null,
   "metadata": {},
   "outputs": [
    {
     "data": {
      "image/png": "[encoded data removed]",
      "text/plain": [
       "<Figure size 432x288 with 1 Axes>"
      ]
     },
     "metadata": {
      "needs_background": "light"
     },
     "output_type": "display_data"
    }
   ],
   "source": [
    "xs = [1, 2, 5, 5.5, 7, 8, 9.5, 10]\n",
    "mus = [1, 1, 1, 0.9, 0.4, 0.1, 0, 0]\n",
    "\n",
    "f = ExponentialFuzzifier(xs, mus)\n",
    "[mu] = f.get_membership(1, lambda x: x/3)\n",
    "\n",
    "x = np.linspace(1, 10, 200)\n",
    "plt.plot(x, list(map(mu, x)))\n",
    "plt.show()"
   ]
  },
  {
   "cell_type": "markdown",
   "metadata": {},
   "source": [
    "Setting `profile='infer'` will perform an interpolation process fitting\n",
    "the membership slope to the training set passed to the constructor."
   ]
  },
  {
   "cell_type": "code",
   "execution_count": null,
   "metadata": {},
   "outputs": [
    {
     "data": {
      "image/png": "[encoded data removed]",
      "text/plain": [
       "<Figure size 432x288 with 1 Axes>"
      ]
     },
     "metadata": {
      "needs_background": "light"
     },
     "output_type": "display_data"
    }
   ],
   "source": [
    "f = ExponentialFuzzifier(xs,mus, profile='infer')\n",
    "[mu] = f.get_membership(2, lambda x: x/3)\n",
    "\n",
    "plt.plot(x, list(map(mu, x)))\n",
    "plt.plot(xs, mus, 'o')\n",
    "plt.show()"
   ]
  },
  {
   "cell_type": "markdown",
   "metadata": {},
   "source": [
    "Setting `profile='alpha'` allows to manually define the decay rate using\n",
    "the `alpha` argument, which is \n",
    "\n",
    "$$\n",
    "\\hat\\mu_{\\text{exp},\\alpha}(x) = \\begin{cases}\n",
    "                                   1 & \\text{if $R(x) \\leq R_1$} \\\\\n",
    "                                   \\mathrm{exp}\\left( \\frac{\\ln \\alpha}{q_{\\alpha}}\n",
    "                                   \\left(r - R_1\\right) \\right) & \\text{otherwise},\n",
    "                                 \\end{cases}\n",
    "$$\n",
    "\n",
    "being $q_\\alpha$ the $\\alpha$-quantile of the observed data."
   ]
  },
  {
   "cell_type": "code",
   "execution_count": null,
   "metadata": {},
   "outputs": [
    {
     "data": {
      "image/png": "[encoded data removed]",
      "text/plain": [
       "<Figure size 432x288 with 1 Axes>"
      ]
     },
     "metadata": {
      "needs_background": "light"
     },
     "output_type": "display_data"
    }
   ],
   "source": [
    "for alpha in (0.1, 0.3, 0.4):\n",
    "    f = ExponentialFuzzifier(xs,mus, profile='alpha', alpha=alpha)\n",
    "    [mu] = f.get_membership(2, lambda x: x/3)\n",
    "    plt.plot(x, list(map(mu, x)), label=fr'$\\alpha = {alpha}$')\n",
    "\n",
    "plt.plot(xs, mus, 'o')\n",
    "plt.legend()\n",
    "plt.show()"
   ]
  },
  {
   "cell_type": "code",
   "execution_count": null,
   "metadata": {},
   "outputs": [
    {
     "data": {
      "image/png": "[encoded data removed]",
      "text/plain": [
       "<Figure size 432x288 with 1 Axes>"
      ]
     },
     "metadata": {
      "needs_background": "light"
     },
     "output_type": "display_data"
    }
   ],
   "source": [
    "s = np.random.uniform(0, 10, size=100)\n",
    "\n",
    "f = ExponentialFuzzifier(xs,mus, profile='alpha', alpha=alpha, sample=s)\n",
    "[mu] = f.get_membership(2, lambda x: x/3)\n",
    "plt.plot(x, list(map(mu, x)), label=fr'$\\alpha = {alpha}$')\n",
    "plt.plot(xs, mus, 'o')\n",
    "plt.show()"
   ]
  },
  {
   "cell_type": "markdown",
   "metadata": {},
   "source": [
    "The `return_profile` optional argument returns a further list that contains\n",
    "- a list of the squared distances between the images of points in the\n",
    "  training set and the center of the sphere;\n",
    "- a list of synthesized values for such distances (spanned uniformely\n",
    "  between the minimum and maximum values of the distances within the\n",
    "  training set);\n",
    "- a list of membership values associated to the values in previous point.\n",
    "\n",
    "This new information allow for drawing a profile of the membership function\n",
    "as a function of the distance in feature space."
   ]
  },
  {
   "cell_type": "code",
   "execution_count": null,
   "metadata": {},
   "outputs": [
    {
     "data": {
      "image/png": "[encoded data removed]",
      "text/plain": [
       "<Figure size 432x288 with 1 Axes>"
      ]
     },
     "metadata": {
      "needs_background": "light"
     },
     "output_type": "display_data"
    }
   ],
   "source": [
    "f = ExponentialFuzzifier(xs,mus, profile='infer')\n",
    "\n",
    "[mu, [rdata, rdata_synth, estimate]] = \\\n",
    "      f.get_membership(1, lambda x: x/3, return_profile=True)\n",
    "\n",
    "plt.plot(rdata_synth, estimate)\n",
    "plt.plot(rdata, mus, 'o')\n",
    "plt.show()"
   ]
  },
  {
   "cell_type": "markdown",
   "metadata": {},
   "source": [
    "**Tests**"
   ]
  },
  {
   "cell_type": "code",
   "execution_count": null,
   "metadata": {},
   "outputs": [],
   "source": [
    "with pytest.raises(ValueError):\n",
    "    f = ExponentialFuzzifier(profile='infer')\n",
    "    \n",
    "with pytest.raises(ValueError):\n",
    "    r = ExponentialFuzzifier(profile='xxx')"
   ]
  },
  {
   "cell_type": "code",
   "execution_count": null,
   "metadata": {},
   "outputs": [],
   "source": [
    "#export\n",
    "\n",
    "class QuantileConstantPiecewiseFuzzifier(Fuzzifier):\n",
    "    def __init__(self, xs=None, mus=None, sample=None):\n",
    "        r'''Creates an instance of `QuantileConstantPiecewiseFuzzifier`\n",
    "        \n",
    "        - `xs`: objects in training set (iterable).\n",
    "        \n",
    "        - `mus`: degree memberships in training set (iterable).\n",
    "          \n",
    "        - `sample`: sample to be used in order to build quantile instead of\n",
    "          training set.\n",
    "        '''\n",
    "        \n",
    "        super().__init__(xs, mus)\n",
    "        \n",
    "        if sample is None and xs is None:\n",
    "            raise ValueError(f\"either the xs or sample argument of the \"\n",
    "                             \"constructor of \"\n",
    "                             \"QuantileConstantPiecewiseFuzzifier should be \"\n",
    "                             \"specified\")\n",
    "        \n",
    "        self.sample = sample\n",
    "        \n",
    "        self.name = 'QuantileConstPiecewise'\n",
    "        self.latex_name = '$\\\\hat\\\\mu_{\\\\text{qconst}}$'\n",
    "        \n",
    "        \n",
    "    def get_r_to_mu(self,\n",
    "                    sq_radius, # was SV_square_distance\n",
    "                    x_to_sq_dist): #was estimated_square_distance_from_center\n",
    "        r'''Returns a function that transforms the square distance between\n",
    "        center of the learnt sphere and the image of a point in original\n",
    "        space into a constant piecewise membership degree whose steps\n",
    "        are chosen according to the quartiles of square distances between\n",
    "        images of points and center of the learnt sphere.\n",
    "        \n",
    "        **Note** This function is meant to be called internally by the\n",
    "        `get_membership` method in the base `Fuzzifier` class.\n",
    "        \n",
    "        - `sq_radius`: squared radius of the learnt sphere (float).\n",
    "        \n",
    "        - `x_to_sq_dist`: mapping of a point in original space into the\n",
    "          square distance of its image from the center of the learnt sphere\n",
    "          (function).\n",
    "        '''\n",
    "        \n",
    "        r_sample = np.fromiter(map(x_to_sq_dist, self.sample \\\n",
    "                      if self.sample is not None else self.xs), dtype=float)\n",
    "        external_dist = [s-sq_radius\n",
    "                         for s in r_sample if s > sq_radius]\n",
    "        \n",
    "        if external_dist:\n",
    "            m = np.median(external_dist)\n",
    "            q1 = np.percentile(external_dist, 25)\n",
    "            q3 = np.percentile(external_dist, 75)\n",
    "        else:\n",
    "            m = q1 = q3 = 0\n",
    "\n",
    "        def r_to_mu(r):\n",
    "            return 1 if r <= sq_radius \\\n",
    "                     else 0.75 if r <= sq_radius + q1 \\\n",
    "                     else 0.5 if r <= sq_radius + m \\\n",
    "                     else 0.25 if r <= sq_radius + q3 \\\n",
    "                     else 0\n",
    "\n",
    "        return r_to_mu\n",
    "\n",
    "    def __repr__(self):\n",
    "        return 'QuantileConstantPiecewiseFuzzifier({}, {})'.format(self.xs, self.mus)\n",
    "        self_repr = 'QuantileConstantPiecewiseFuzzifier('\n",
    "        xs_repr = self.xs.__repr__()\n",
    "        mus_repr = self.mus.__repr__()\n",
    "        self_repr += f'{xs_repr}, {mus_repr}'\n",
    "        if self.sample is not None:\n",
    "            self_repr += f', sample={self.sample.__repr__()}'\n",
    "        self_repr += ')'\n",
    "        return self_repr"
   ]
  },
  {
   "cell_type": "markdown",
   "metadata": {},
   "source": [
    "Fuzzifier corresponding to a fuzzy set with a piecewise constant membership\n",
    "function, whose steps are defined according to the quartiles of the squared\n",
    "distances between images of points and center of the learng sphere."
   ]
  },
  {
   "cell_type": "code",
   "execution_count": null,
   "metadata": {},
   "outputs": [
    {
     "data": {
      "text/markdown": [
       "<h4 id=\"QuantileConstantPiecewiseFuzzifier.__init__\" class=\"doc_header\"><code>QuantileConstantPiecewiseFuzzifier.__init__</code><a href=\"__main__.py#L4\" class=\"source_link\" style=\"float:right\">[source]</a></h4>\n",
       "\n",
       "> <code>QuantileConstantPiecewiseFuzzifier.__init__</code>(**`xs`**=*`None`*, **`mus`**=*`None`*, **`sample`**=*`None`*)\n",
       "\n",
       "Creates an instance of [`QuantileConstantPiecewiseFuzzifier`](/mulearn/fuzzifiers#QuantileConstantPiecewiseFuzzifier)\n",
       "\n",
       "- `xs`: objects in training set (iterable).\n",
       "\n",
       "- `mus`: degree memberships in training set (iterable).\n",
       "  \n",
       "- `sample`: sample to be used in order to build quantile instead of\n",
       "  training set."
      ],
      "text/plain": [
       "<IPython.core.display.Markdown object>"
      ]
     },
     "metadata": {},
     "output_type": "display_data"
    }
   ],
   "source": [
    "show_doc(QuantileConstantPiecewiseFuzzifier.__init__)"
   ]
  },
  {
   "cell_type": "markdown",
   "metadata": {},
   "source": [
    "A piecewise constant fuzzifier can be created specifying either\n",
    "objects and labels of a training set or a sample of objects."
   ]
  },
  {
   "cell_type": "code",
   "execution_count": null,
   "metadata": {},
   "outputs": [],
   "source": [
    "f = QuantileConstantPiecewiseFuzzifier([1, 2, 5, 5.5, 7, 8, 9.5, 10],\n",
    "                                       [1, 1, 1, 0.9, 0.4, 0.1, 0, 0])\n",
    "f = QuantileConstantPiecewiseFuzzifier(sample=[1, 2, 5, 5.5, 7, 8, 9.5, 10])"
   ]
  },
  {
   "cell_type": "markdown",
   "metadata": {},
   "source": [
    "The optional parameter `sample` defines the data to be used in order\n",
    "to compute quartiles defining the steps of the piecewise membership, as an\n",
    "alternative to the ones in the training set."
   ]
  },
  {
   "cell_type": "code",
   "execution_count": null,
   "metadata": {},
   "outputs": [
    {
     "data": {
      "text/markdown": [
       "<h4 id=\"QuantileConstantPiecewiseFuzzifier.get_r_to_mu\" class=\"doc_header\"><code>QuantileConstantPiecewiseFuzzifier.get_r_to_mu</code><a href=\"__main__.py#L29\" class=\"source_link\" style=\"float:right\">[source]</a></h4>\n",
       "\n",
       "> <code>QuantileConstantPiecewiseFuzzifier.get_r_to_mu</code>(**`sq_radius`**, **`x_to_sq_dist`**)\n",
       "\n",
       "Returns a function that transforms the square distance between\n",
       "center of the learnt sphere and the image of a point in original\n",
       "space into a constance piecewise membership degree whose steps\n",
       "are chosen according to the quartiles of square distances between\n",
       "images of points and center of the learnt sphere.\n",
       "\n",
       "**Note** This function is meant to be called internally by the\n",
       "`get_membership` method in the base [`Fuzzifier`](/mulearn/fuzzifiers#Fuzzifier) class.\n",
       "\n",
       "- `sq_radius`: squared radius of the learnt sphere (float).\n",
       "\n",
       "- `x_to_sq_dist`: mapping of a point in original space into the\n",
       "  square distance of its image from the center of the learnt sphere\n",
       "  (function)."
      ],
      "text/plain": [
       "<IPython.core.display.Markdown object>"
      ]
     },
     "metadata": {},
     "output_type": "display_data"
    }
   ],
   "source": [
    "show_doc(QuantileConstantPiecewiseFuzzifier.get_r_to_mu)"
   ]
  },
  {
   "cell_type": "code",
   "execution_count": null,
   "metadata": {},
   "outputs": [
    {
     "data": {
      "text/markdown": [
       "<h4 id=\"Fuzzifier.get_membership\" class=\"doc_header\"><code>Fuzzifier.get_membership</code><a href=\"__main__.py#L27\" class=\"source_link\" style=\"float:right\">[source]</a></h4>\n",
       "\n",
       "> <code>Fuzzifier.get_membership</code>(**`sq_radius`**, **`x_to_sq_dist`**, **`return_profile`**=*`False`*)\n",
       "\n",
       "Return the induced membership function.\n",
       "\n",
       "- `sq_radius`: squared radius of the learnt sphere (float).\n",
       "\n",
       "- `x_to_sq_dist`: mapping of a point in original space into the\n",
       "  square distance of its image from the center of the learnt sphere\n",
       "  (function).\n",
       "\n",
       "- `return_profile` flag triggering the generation of the graph\n",
       "  of the fuzzifier to be returned alongside the fuzzifier itself\n",
       "  (bool, default=False).\n",
       "\n",
       "Returns a list containing\n",
       "\n",
       "- the membership function if `return_profile` is `False`, and\n",
       "- the membership function and the salient coordinates of the graph of\n",
       "  the fuzzifier if `return_profile` is `True`."
      ],
      "text/plain": [
       "<IPython.core.display.Markdown object>"
      ]
     },
     "metadata": {},
     "output_type": "display_data"
    }
   ],
   "source": [
    "show_doc(QuantileConstantPiecewiseFuzzifier.get_membership)"
   ]
  },
  {
   "cell_type": "markdown",
   "metadata": {},
   "source": [
    "`QuantileConstantPiecewiseFuzzifier` implements this method in order to\n",
    "return a piecewise constant decreasing function, whose steps are fixed\n",
    "according to the quartiles of the distances between the images of points\n",
    "and the center of the learnt sphere."
   ]
  },
  {
   "cell_type": "code",
   "execution_count": null,
   "metadata": {},
   "outputs": [
    {
     "data": {
      "image/png": "[encoded data removed]",
      "text/plain": [
       "<Figure size 432x288 with 1 Axes>"
      ]
     },
     "metadata": {
      "needs_background": "light"
     },
     "output_type": "display_data"
    }
   ],
   "source": [
    "xs = [1, 2, 5, 5.5, 7, 8, 9.5, 10]\n",
    "mus = [1, 1, 1, 0.9, 0.4, 0.1, 0, 0]\n",
    "\n",
    "f = QuantileConstantPiecewiseFuzzifier(xs, mus)\n",
    "[mu] = f.get_membership(1, lambda x: x/3)\n",
    "\n",
    "x = np.linspace(1, 10, 200)\n",
    "plt.plot(x, list(map(mu, x)))\n",
    "plt.show()"
   ]
  },
  {
   "cell_type": "markdown",
   "metadata": {},
   "source": [
    "The `sample` argument of the constructor allow to specify a different sample\n",
    "in order to compute quartile."
   ]
  },
  {
   "cell_type": "code",
   "execution_count": null,
   "metadata": {},
   "outputs": [
    {
     "data": {
      "image/png": "[encoded data removed]",
      "text/plain": [
       "<Figure size 432x288 with 1 Axes>"
      ]
     },
     "metadata": {
      "needs_background": "light"
     },
     "output_type": "display_data"
    }
   ],
   "source": [
    "f = QuantileConstantPiecewiseFuzzifier(sample=np.random.uniform(0, 10,\n",
    "                                                                size=100))\n",
    "[mu] = f.get_membership(1, lambda x: x/3)\n",
    "\n",
    "plt.plot(x, list(map(mu, x)))\n",
    "plt.show()"
   ]
  },
  {
   "cell_type": "markdown",
   "metadata": {},
   "source": [
    "The `return_profile` optional argument returns a further list that contains\n",
    "- a list of the squared distances between the images of points in the\n",
    "  training set and the center of the sphere;\n",
    "- a list of synthesized values for such distances (spanned uniformely\n",
    "  between the minimum and maximum values of the distances within the\n",
    "  training set);\n",
    "- a list of membership values associated to the values in previous point.\n",
    "\n",
    "This new information allow for drawing a profile of the membership function\n",
    "as a function of the distance in feature space."
   ]
  },
  {
   "cell_type": "code",
   "execution_count": null,
   "metadata": {},
   "outputs": [
    {
     "data": {
      "image/png": "[encoded data removed]",
      "text/plain": [
       "<Figure size 432x288 with 1 Axes>"
      ]
     },
     "metadata": {
      "needs_background": "light"
     },
     "output_type": "display_data"
    }
   ],
   "source": [
    "f = QuantileConstantPiecewiseFuzzifier(xs,mus)\n",
    "\n",
    "[mu, [rdata, rdata_synth, estimate]] = \\\n",
    "      f.get_membership(1, lambda x: x/3, return_profile=True)\n",
    "\n",
    "plt.plot(rdata_synth, estimate)\n",
    "plt.plot(rdata, mus, 'o')\n",
    "plt.show()"
   ]
  },
  {
   "cell_type": "markdown",
   "metadata": {},
   "source": [
    "**Tests**"
   ]
  },
  {
   "cell_type": "code",
   "execution_count": null,
   "metadata": {},
   "outputs": [],
   "source": [
    "with pytest.raises(ValueError):\n",
    "    f = QuantileConstantPiecewiseFuzzifier()"
   ]
  },
  {
   "cell_type": "code",
   "execution_count": null,
   "metadata": {},
   "outputs": [],
   "source": [
    "#export\n",
    "\n",
    "class QuantileLinearPiecewiseFuzzifier(Fuzzifier):\n",
    "    def __init__(self, xs=None, mus=None, sample=None):\n",
    "        r'''Creates an instance of `QuantileLinearPiecewiseFuzzifier`\n",
    "        \n",
    "        - `xs`: objects in training set (iterable).\n",
    "        \n",
    "        - `mus`: degree memberships in training set (iterable).\n",
    "          \n",
    "        - `sample`: sample to be used in order to build quantile instead of\n",
    "          training set.\n",
    "        '''\n",
    "        \n",
    "        super().__init__(xs, mus)\n",
    "        \n",
    "        if sample is None and xs is None:\n",
    "            raise ValueError(f\"either the xs or sample argument of the \"\n",
    "                             \"constructor of \"\n",
    "                             \"QuantileLinearPiecewiseFuzzifier should be \"\n",
    "                             \"specified\")\n",
    "            \n",
    "        self.sample = sample\n",
    "        \n",
    "        self.name = 'QuantileLinPiecewise'\n",
    "        self.latex_name = '$\\\\hat\\\\mu_{\\\\text{qlin}}$'\n",
    "\n",
    "\n",
    "    def get_r_to_mu(self,\n",
    "                    sq_radius, # was SV_square_distance\n",
    "                    x_to_sq_dist): #was estimated_square_distance_from_center\n",
    "        r'''Returns a function that transforms the square distance between\n",
    "        center of the learnt sphere and the image of a point in original\n",
    "        space into a linear piecewise membership degree whose steps\n",
    "        are chosen according to the quartiles of square distances between\n",
    "        images of points and center of the learnt sphere.\n",
    "        \n",
    "        **Note** This function is meant to be called internally by the\n",
    "        `get_membership` method in the base `Fuzzifier` class.\n",
    "        \n",
    "        - `sq_radius`: squared radius of the learnt sphere (float).\n",
    "        \n",
    "        - `x_to_sq_dist`: mapping of a point in original space into the\n",
    "          square distance of its image from the center of the learnt sphere\n",
    "          (function).\n",
    "        '''\n",
    "        \n",
    "        r_sample = np.fromiter(map(x_to_sq_dist, self.sample \\\n",
    "                      if self.sample is not None else self.xs), dtype=float)\n",
    "        \n",
    "        external_dist = [s-sq_radius\n",
    "                         for s in r_sample if s > sq_radius]\n",
    "        if external_dist:\n",
    "            m = np.median(external_dist)\n",
    "            q1 = np.percentile(external_dist, 25)\n",
    "            q3 = np.percentile(external_dist, 75)\n",
    "            mx = np.max(r_sample) - sq_radius\n",
    "        else:\n",
    "            m = q1 = q3 = mx = 0\n",
    "\n",
    "        def r_to_mu(r):\n",
    "            ssd = sq_radius\n",
    "            return 1 if r <= ssd \\\n",
    "                 else (-r + ssd)/(4*q1) + 1 if r <= ssd + q1 \\\n",
    "                 else (-r + ssd + q1)/(4*(m-q1)) + 3.0/4 if r <= ssd + m \\\n",
    "                 else (-r + ssd + m)/(4*(q3-m)) + 1./2 if r <= ssd + q3 \\\n",
    "                 else (-r + ssd + q3)/(4*(mx-q3)) + 1./4 if r <= ssd+mx \\\n",
    "                 else 0\n",
    "\n",
    "        return r_to_mu\n",
    "\n",
    "    def __repr__(self):\n",
    "        return 'QuantileLinearPiecewiseFuzzifier({}, {})'.format(self.xs, self.mus)\n"
   ]
  },
  {
   "cell_type": "markdown",
   "metadata": {},
   "source": [
    "Fuzzifier corresponding to a fuzzy set with a linear constant membership\n",
    "function, whose steps are defined according to the quartiles of the squared\n",
    "distances between images of points and center of the learng sphere."
   ]
  },
  {
   "cell_type": "code",
   "execution_count": null,
   "metadata": {},
   "outputs": [
    {
     "data": {
      "text/markdown": [
       "<h4 id=\"QuantileLinearPiecewiseFuzzifier.__init__\" class=\"doc_header\"><code>QuantileLinearPiecewiseFuzzifier.__init__</code><a href=\"__main__.py#L4\" class=\"source_link\" style=\"float:right\">[source]</a></h4>\n",
       "\n",
       "> <code>QuantileLinearPiecewiseFuzzifier.__init__</code>(**`xs`**=*`None`*, **`mus`**=*`None`*, **`sample`**=*`None`*)\n",
       "\n",
       "Creates an instance of `QuantileLinearPiecewiseFuzzifier`\n",
       "\n",
       "- `xs`: objects in training set (iterable).\n",
       "\n",
       "- `mus`: degree memberships in training set (iterable).\n",
       "  \n",
       "- `sample`: sample to be used in order to build quantile instead of\n",
       "  training set."
      ],
      "text/plain": [
       "<IPython.core.display.Markdown object>"
      ]
     },
     "metadata": {},
     "output_type": "display_data"
    }
   ],
   "source": [
    "show_doc(QuantileLinearPiecewiseFuzzifier.__init__)"
   ]
  },
  {
   "cell_type": "markdown",
   "metadata": {},
   "source": [
    "A linear constant fuzzifier can be created specifying either\n",
    "objects and labels of a training set or a sample of objects."
   ]
  },
  {
   "cell_type": "code",
   "execution_count": null,
   "metadata": {},
   "outputs": [],
   "source": [
    "f = QuantileLinearPiecewiseFuzzifier([1, 2, 5, 5.5, 7, 8, 9.5, 10],\n",
    "                                       [1, 1, 1, 0.9, 0.4, 0.1, 0, 0])\n",
    "f = QuantileLinearPiecewiseFuzzifier(sample=[1, 2, 5, 5.5, 7, 8, 9.5, 10])"
   ]
  },
  {
   "cell_type": "markdown",
   "metadata": {},
   "source": [
    "The optional parameter `sample` defines the data to be used in order\n",
    "to compute quartiles defining the steps of the piecewise membership, as an\n",
    "alternative to the ones in the training set."
   ]
  },
  {
   "cell_type": "code",
   "execution_count": null,
   "metadata": {},
   "outputs": [
    {
     "data": {
      "text/markdown": [
       "<h4 id=\"QuantileLinearPiecewiseFuzzifier.get_r_to_mu\" class=\"doc_header\"><code>QuantileLinearPiecewiseFuzzifier.get_r_to_mu</code><a href=\"__main__.py#L29\" class=\"source_link\" style=\"float:right\">[source]</a></h4>\n",
       "\n",
       "> <code>QuantileLinearPiecewiseFuzzifier.get_r_to_mu</code>(**`sq_radius`**, **`x_to_sq_dist`**)\n",
       "\n",
       "Returns a function that transforms the square distance between\n",
       "center of the learnt sphere and the image of a point in original\n",
       "space into a linear piecewise membership degree whose steps\n",
       "are chosen according to the quartiles of square distances between\n",
       "images of points and center of the learnt sphere.\n",
       "\n",
       "**Note** This function is meant to be called internally by the\n",
       "`get_membership` method in the base [`Fuzzifier`](/mulearn/fuzzifiers#Fuzzifier) class.\n",
       "\n",
       "- `sq_radius`: squared radius of the learnt sphere (float).\n",
       "\n",
       "- `x_to_sq_dist`: mapping of a point in original space into the\n",
       "  square distance of its image from the center of the learnt sphere\n",
       "  (function)."
      ],
      "text/plain": [
       "<IPython.core.display.Markdown object>"
      ]
     },
     "metadata": {},
     "output_type": "display_data"
    }
   ],
   "source": [
    "show_doc(QuantileLinearPiecewiseFuzzifier.get_r_to_mu)"
   ]
  },
  {
   "cell_type": "code",
   "execution_count": null,
   "metadata": {},
   "outputs": [
    {
     "data": {
      "text/markdown": [
       "<h4 id=\"Fuzzifier.get_membership\" class=\"doc_header\"><code>Fuzzifier.get_membership</code><a href=\"__main__.py#L27\" class=\"source_link\" style=\"float:right\">[source]</a></h4>\n",
       "\n",
       "> <code>Fuzzifier.get_membership</code>(**`sq_radius`**, **`x_to_sq_dist`**, **`return_profile`**=*`False`*)\n",
       "\n",
       "Return the induced membership function.\n",
       "\n",
       "- `sq_radius`: squared radius of the learnt sphere (float).\n",
       "\n",
       "- `x_to_sq_dist`: mapping of a point in original space into the\n",
       "  square distance of its image from the center of the learnt sphere\n",
       "  (function).\n",
       "\n",
       "- `return_profile` flag triggering the generation of the graph\n",
       "  of the fuzzifier to be returned alongside the fuzzifier itself\n",
       "  (bool, default=False).\n",
       "\n",
       "Returns a list containing\n",
       "\n",
       "- the membership function if `return_profile` is `False`, and\n",
       "- the membership function and the salient coordinates of the graph of\n",
       "  the fuzzifier if `return_profile` is `True`."
      ],
      "text/plain": [
       "<IPython.core.display.Markdown object>"
      ]
     },
     "metadata": {},
     "output_type": "display_data"
    }
   ],
   "source": [
    "show_doc(QuantileLinearPiecewiseFuzzifier.get_membership)"
   ]
  },
  {
   "cell_type": "markdown",
   "metadata": {},
   "source": [
    "`QuantileLinearPiecewiseFuzzifier` implements this method in order to\n",
    "return a piecewise linear decreasing function, whose steps are fixed\n",
    "according to the quartiles of the distances between the images of points\n",
    "and the center of the learnt sphere."
   ]
  },
  {
   "cell_type": "code",
   "execution_count": null,
   "metadata": {},
   "outputs": [
    {
     "data": {
      "image/png": "[encoded data removed]",
      "text/plain": [
       "<Figure size 432x288 with 1 Axes>"
      ]
     },
     "metadata": {
      "needs_background": "light"
     },
     "output_type": "display_data"
    }
   ],
   "source": [
    "xs = [1, 2, 5, 5.5, 7, 8, 9.5, 10]\n",
    "mus = [1, 1, 1, 0.9, 0.4, 0.1, 0, 0]\n",
    "\n",
    "f = QuantileLinearPiecewiseFuzzifier(xs, mus)\n",
    "[mu] = f.get_membership(1, lambda x: x/3)\n",
    "\n",
    "x = np.linspace(1, 10, 200)\n",
    "plt.plot(x, list(map(mu, x)))\n",
    "plt.show()"
   ]
  },
  {
   "cell_type": "markdown",
   "metadata": {},
   "source": [
    "The `sample` argument of the constructor allow to specify a different sample\n",
    "in order to compute quartile."
   ]
  },
  {
   "cell_type": "code",
   "execution_count": null,
   "metadata": {},
   "outputs": [
    {
     "data": {
      "image/png": "[encoded data removed]",
      "text/plain": [
       "<Figure size 432x288 with 1 Axes>"
      ]
     },
     "metadata": {
      "needs_background": "light"
     },
     "output_type": "display_data"
    }
   ],
   "source": [
    "f = QuantileLinearPiecewiseFuzzifier(sample=np.random.uniform(0, 10,\n",
    "                                                              size=100))\n",
    "[mu] = f.get_membership(1, lambda x: x/3)\n",
    "\n",
    "plt.plot(x, list(map(mu, x)))\n",
    "plt.show()"
   ]
  },
  {
   "cell_type": "markdown",
   "metadata": {},
   "source": [
    "The `return_profile` optional argument returns a further list that contains\n",
    "- a list of the squared distances between the images of points in the\n",
    "  training set and the center of the sphere;\n",
    "- a list of synthesized values for such distances (spanned uniformely\n",
    "  between the minimum and maximum values of the distances within the\n",
    "  training set);\n",
    "- a list of membership values associated to the values in previous point.\n",
    "\n",
    "This new information allow for drawing a profile of the membership function\n",
    "as a function of the distance in feature space."
   ]
  },
  {
   "cell_type": "code",
   "execution_count": null,
   "metadata": {},
   "outputs": [
    {
     "data": {
      "image/png": "[encoded data removed]",
      "text/plain": [
       "<Figure size 432x288 with 1 Axes>"
      ]
     },
     "metadata": {
      "needs_background": "light"
     },
     "output_type": "display_data"
    }
   ],
   "source": [
    "f = QuantileLinearPiecewiseFuzzifier(xs,mus)\n",
    "\n",
    "[mu, [rdata, rdata_synth, estimate]] = \\\n",
    "      f.get_membership(1, lambda x: x/3, return_profile=True)\n",
    "\n",
    "plt.plot(rdata_synth, estimate)\n",
    "plt.plot(rdata, mus, 'o')\n",
    "plt.show()"
   ]
  },
  {
   "cell_type": "markdown",
   "metadata": {},
   "source": [
    "**Tests**"
   ]
  },
  {
   "cell_type": "code",
   "execution_count": null,
   "metadata": {},
   "outputs": [],
   "source": [
    "with pytest.raises(ValueError):\n",
    "    f = QuantileLinearPiecewiseFuzzifier()"
   ]
  },
  {
   "cell_type": "code",
   "execution_count": null,
   "metadata": {},
   "outputs": [],
   "source": []
  }
 ],
 "metadata": {
  "kernelspec": {
   "display_name": "Python 3",
   "language": "python",
   "name": "python3"
  }
 },
 "nbformat": 4,
 "nbformat_minor": 4
}
