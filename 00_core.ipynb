{
 "cells": [
  {
   "cell_type": "markdown",
   "metadata": {},
   "source": [
    "<h1>Table of Contents<span class=\"tocSkip\"></span></h1>\n",
    "<div class=\"toc\"><ul class=\"toc-item\"><li><span><a href=\"#kernel\" data-toc-modified-id=\"kernel-1\"><span class=\"toc-item-num\">1&nbsp;&nbsp;</span>kernel</a></span></li><li><span><a href=\"#Kernel-module\" data-toc-modified-id=\"Kernel-module-2\"><span class=\"toc-item-num\">2&nbsp;&nbsp;</span>Kernel module</a></span><ul class=\"toc-item\"><li><span><a href=\"#Base-class\" data-toc-modified-id=\"Base-class-2.1\"><span class=\"toc-item-num\">2.1&nbsp;&nbsp;</span>Base class</a></span></li><li><span><a href=\"#Linear-kernel\" data-toc-modified-id=\"Linear-kernel-2.2\"><span class=\"toc-item-num\">2.2&nbsp;&nbsp;</span>Linear kernel</a></span></li></ul></li></ul></div>"
   ]
  },
  {
   "cell_type": "code",
   "execution_count": null,
   "metadata": {},
   "outputs": [],
   "source": [
    "# default_exp kernel"
   ]
  },
  {
   "cell_type": "markdown",
   "metadata": {},
   "source": [
    "# kernel\n",
    "\n",
    "The `kernel` module contains the implementations of kernels"
   ]
  },
  {
   "cell_type": "code",
   "execution_count": null,
   "metadata": {},
   "outputs": [],
   "source": [
    "#hide\n",
    "from nbdev.showdoc import *\n",
    "import numpy as np\n",
    "import pytest"
   ]
  },
  {
   "cell_type": "markdown",
   "metadata": {},
   "source": [
    "## Base class\n",
    "\n",
    "The base class for kernels is `Kernel`: it exposes a generic constructor and a base `compute` method, which is only callable by subclasses. The class method `get_default` returns a default kernel subclass."
   ]
  },
  {
   "cell_type": "code",
   "execution_count": null,
   "metadata": {},
   "outputs": [],
   "source": [
    "#export\n",
    "\n",
    "class Kernel(object):\n",
    "    \n",
    "\n",
    "    def __init__(self):\n",
    "\n",
    "        self.precomputed = False\n",
    "\n",
    "    def compute(self, arg_1, arg_2):\n",
    "\n",
    "        raise NotImplementedError(\n",
    "            'this class does not implement compute method')\n",
    "\n",
    "    @classmethod\n",
    "    def get_default(cls):\n",
    "\n",
    "        return LinearKernel()\n"
   ]
  },
  {
   "cell_type": "markdown",
   "metadata": {},
   "source": [
    "**Examples**"
   ]
  },
  {
   "cell_type": "code",
   "execution_count": null,
   "metadata": {},
   "outputs": [
    {
     "data": {
      "text/plain": [
       "LinearKernel()"
      ]
     },
     "execution_count": null,
     "metadata": {},
     "output_type": "execute_result"
    }
   ],
   "source": [
    "from mulearn.kernel import Kernel\n",
    "Kernel.get_default()"
   ]
  },
  {
   "cell_type": "markdown",
   "metadata": {},
   "source": [
    "**Tests**"
   ]
  },
  {
   "cell_type": "code",
   "execution_count": null,
   "metadata": {},
   "outputs": [],
   "source": [
    "from mulearn.kernel import LinearKernel\n",
    "assert(Kernel.get_default() == LinearKernel())"
   ]
  },
  {
   "cell_type": "markdown",
   "metadata": {},
   "source": [
    "## Linear kernel\n",
    "\n",
    "Linear kernel corresponding to dot product in the original space."
   ]
  },
  {
   "cell_type": "code",
   "execution_count": null,
   "metadata": {},
   "outputs": [],
   "source": [
    "#export\n",
    "\n",
    "class LinearKernel(Kernel):\n",
    "    \n",
    "\n",
    "    def compute(self, arg_1, arg_2):\n",
    "        r\"\"\"\n",
    "        Compute the dot product between `arg_1` and `arg_2`, where the\n",
    "        dot product $x \\cdot y$ is intended as the quantity\n",
    "        $\\sum_{i=1}^n x_i y_i$, $n$ being the dimension of both\n",
    "        $x$ and $y$.\n",
    "\n",
    "        :param arg_1: first dot product argument.\n",
    "\n",
    "        :type arg_1: iterable\n",
    "\n",
    "        :param arg_2: second dot product argument.\n",
    "\n",
    "        :type arg_2: iterable\n",
    "\n",
    "        :returns: kernel value.\n",
    "\n",
    "        :rtype: float\"\"\"\n",
    "\n",
    "        return float(np.dot(arg_1, arg_2))\n",
    "\n",
    "    def __repr__(self):\n",
    "        return 'LinearKernel()'\n",
    "\n",
    "    def __str__(self):\n",
    "        return self.__repr__()\n",
    "\n",
    "    def __eq__(self, other):\n",
    "        return type(self) == type(other)\n",
    "\n",
    "    def __ne__(self, other):\n",
    "        return not self == other\n",
    "\n",
    "    def __hash__(self):\n",
    "        return hash('LinearKernel')\n",
    "\n",
    "    def __nonzero__(self):\n",
    "        return True"
   ]
  },
  {
   "cell_type": "markdown",
   "metadata": {},
   "source": [
    "**Examples**\n",
    "\n",
    " Arguments of a dot product are numeric list or tuples having the same\n",
    " length, expressed as arguments of method `compute`:"
   ]
  },
  {
   "cell_type": "code",
   "execution_count": null,
   "metadata": {},
   "outputs": [
    {
     "data": {
      "text/plain": [
       "9.0"
      ]
     },
     "execution_count": null,
     "metadata": {},
     "output_type": "execute_result"
    }
   ],
   "source": [
    "k = LinearKernel()\n",
    "k.compute((1, 0, 2), (-1, 2, 5))"
   ]
  },
  {
   "cell_type": "code",
   "execution_count": null,
   "metadata": {},
   "outputs": [
    {
     "data": {
      "text/plain": [
       "3.3200000000000003"
      ]
     },
     "execution_count": null,
     "metadata": {},
     "output_type": "execute_result"
    }
   ],
   "source": [
    "k.compute([1.2, -0.4, -2], [4, 1.2, .5])"
   ]
  },
  {
   "cell_type": "markdown",
   "metadata": {},
   "source": [
    "List and tuples can intertwine as arguments:"
   ]
  },
  {
   "cell_type": "code",
   "execution_count": null,
   "metadata": {},
   "outputs": [
    {
     "data": {
      "text/plain": [
       "3.3200000000000003"
      ]
     },
     "execution_count": null,
     "metadata": {},
     "output_type": "execute_result"
    }
   ],
   "source": [
    "k.compute((1.2, -0.4, -2), [4, 1.2, .5])"
   ]
  },
  {
   "cell_type": "markdown",
   "metadata": {},
   "source": [
    "Specification of iterables having unequal length causes a `ValueError` to be thrown."
   ]
  },
  {
   "cell_type": "markdown",
   "metadata": {},
   "source": [
    "**Tests**"
   ]
  },
  {
   "cell_type": "code",
   "execution_count": null,
   "metadata": {},
   "outputs": [],
   "source": [
    "assert(k.compute((1, 0, 2), (-1, 2, 5)) == 9)\n",
    "assert(k.compute([1.2, -0.4, -2], [4, 1.2, .5]) == pytest.approx(3.32))\n",
    "assert(k.compute((1.2, -0.4, -2), [4, 1.2, .5]) == pytest.approx(3.32))\n",
    "with pytest.raises(ValueError):\n",
    "    k.compute((1, 0, 2), (-1, 2))"
   ]
  },
  {
   "cell_type": "code",
   "execution_count": null,
   "metadata": {},
   "outputs": [],
   "source": []
  },
  {
   "cell_type": "code",
   "execution_count": null,
   "metadata": {},
   "outputs": [],
   "source": []
  }
 ],
 "metadata": {
  "kernelspec": {
   "display_name": "Python 3",
   "language": "python",
   "name": "python3"
  }
 },
 "nbformat": 4,
 "nbformat_minor": 2
}
