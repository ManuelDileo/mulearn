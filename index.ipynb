{
 "cells": [
  {
   "cell_type": "markdown",
   "metadata": {},
   "source": [
    "<h1>Table of Contents<span class=\"tocSkip\"></span></h1>\n",
    "<div class=\"toc\"><ul class=\"toc-item\"><li><span><a href=\"#mulearn\" data-toc-modified-id=\"mulearn-1\"><span class=\"toc-item-num\">1&nbsp;&nbsp;</span>mulearn</a></span><ul class=\"toc-item\"><li><span><a href=\"#Install\" data-toc-modified-id=\"Install-1.1\"><span class=\"toc-item-num\">1.1&nbsp;&nbsp;</span>Install</a></span></li><li><span><a href=\"#How-to-use\" data-toc-modified-id=\"How-to-use-1.2\"><span class=\"toc-item-num\">1.2&nbsp;&nbsp;</span>How to use</a></span></li></ul></li></ul></div>"
   ]
  },
  {
   "cell_type": "code",
   "execution_count": null,
   "metadata": {},
   "outputs": [],
   "source": [
    "from mulearn import kernel, FuzzyInductor\n",
    "\n",
    "from mulearn.fuzzifier import LinearFuzzifier\n",
    "from mulearn.fuzzifier import ExponentialFuzzifier\n",
    "from mulearn.kernel import GaussianKernel\n",
    "\n",
    "from mulearn.optimization import solve_optimization_gurobi\n",
    "from mulearn.optimization import solve_optimization_tensorflow"
   ]
  },
  {
   "cell_type": "markdown",
   "metadata": {},
   "source": [
    "# mulearn\n",
    "\n",
    "mulearn is a python package implementing the data-driven induction of fuzzy sets described in\n",
    "\n",
    "- D. Malchiodi and W. Pedrycz, _Learning Membership Functions for Fuzzy Sets through Modified Support Vector Clustering_, in F. Masulli, G. Pasi e R. Yager (Eds.), Fuzzy Logic and Applications. 10th International Workshop, WILF 2013, Genoa, Italy, November 19–22, 2013. Proceedings., Vol. 8256, Springer International Publishing, Switzerland, Lecture Notes on Artificial Intelligence."
   ]
  },
  {
   "cell_type": "markdown",
   "metadata": {},
   "source": [
    "## Install"
   ]
  },
  {
   "cell_type": "markdown",
   "metadata": {},
   "source": [
    "`pip install mulearn`"
   ]
  },
  {
   "cell_type": "markdown",
   "metadata": {},
   "source": [
    "## How to use"
   ]
  },
  {
   "cell_type": "markdown",
   "metadata": {},
   "source": [
    "Fill me in please! Don't forget code examples:"
   ]
  },
  {
   "cell_type": "code",
   "execution_count": null,
   "metadata": {},
   "outputs": [],
   "source": [
    "%matplotlib inline\n",
    "import matplotlib.pyplot as plt\n",
    "import pandas as pd\n",
    "import numpy as np\n",
    "from sklearn.decomposition import PCA\n",
    "\n",
    "source = 'https://archive.ics.uci.edu/ml/machine-learning-databases/iris/iris.data'\n",
    "\n",
    "iris_df = pd.read_csv(source, header=None)\n",
    "iris_df.columns=['sepal_length', 'sepal_width', 'petal_length', 'petal_width', 'class']\n",
    "\n",
    "iris_values = iris_df.iloc[:,0:4].values\n",
    "iris_labels = iris_df.iloc[:,4].values\n",
    "\n",
    "pca_2d = PCA(n_components=2)\n",
    "iris_values_2d = pca_2d.fit_transform(iris_values)"
   ]
  },
  {
   "cell_type": "code",
   "execution_count": null,
   "metadata": {},
   "outputs": [
    {
     "data": {
      "image/png": "[encoded data removed]",
      "text/plain": [
       "<Figure size 432x288 with 1 Axes>"
      ]
     },
     "metadata": {
      "needs_background": "light"
     },
     "output_type": "display_data"
    }
   ],
   "source": [
    "def gr_dataset(): \n",
    "    for lab, col in zip(('Iris-setosa', 'Iris-versicolor', 'Iris-virginica'),\n",
    "                        ('blue', 'green', 'red')):\n",
    "        plt.scatter(iris_values_2d[iris_labels==lab, 0],\n",
    "                    iris_values_2d[iris_labels==lab, 1],\n",
    "                    label=lab,\n",
    "                    c=col)\n",
    "\n",
    "gr_dataset()"
   ]
  },
  {
   "cell_type": "code",
   "execution_count": null,
   "metadata": {},
   "outputs": [],
   "source": [
    "def to_membership_values(labels, target):\n",
    "    return [1 if l==target else 0 for l in labels]\n",
    "\n",
    "mu = {}\n",
    "for target in ('Iris-setosa', 'Iris-versicolor', 'Iris-virginica'):\n",
    "    mu[target] = to_membership_values(iris_labels, target)"
   ]
  },
  {
   "cell_type": "code",
   "execution_count": null,
   "metadata": {},
   "outputs": [],
   "source": [
    "def gr_membership_contour(estimated_membership):\n",
    "    x = np.linspace(-4, 4, 50)\n",
    "    y = np.linspace(-4, 4, 50)\n",
    "    X, Y = np.meshgrid(x, y)\n",
    "    zs = np.array([estimated_membership((x, y))\n",
    "                   for x,y in zip(np.ravel(X), np.ravel(Y))])\n",
    "    Z = zs.reshape(X.shape)\n",
    "    membership_contour = plt.contour(X, Y, Z,\n",
    "                                     levels=(.1, .3, .5, .95), colors='k')\n",
    "    plt.clabel(membership_contour, inline=1)\n",
    "    "
   ]
  },
  {
   "cell_type": "code",
   "execution_count": null,
   "metadata": {},
   "outputs": [
    {
     "name": "stdout",
     "output_type": "stream",
     "text": [
      "fitting 1, GaussianKernel(1), (<class 'mulearn.fuzzifier.LinearFuzzifier'>, {})\n"
     ]
    },
    {
     "name": "stderr",
     "output_type": "stream",
     "text": [
      "\r",
      "  0%|          | 0/100 [00:00<?, ?it/s]"
     ]
    },
    {
     "name": "stdout",
     "output_type": "stream",
     "text": [
      "WARNING:tensorflow:From /home/malchiodi/anaconda3/lib/python3.7/site-packages/tensorflow_core/python/ops/math_grad.py:1430: where (from tensorflow.python.ops.array_ops) is deprecated and will be removed in a future version.\n",
      "Instructions for updating:\n",
      "Use tf.where in 2.0, which has the same broadcast rule as np.where\n"
     ]
    },
    {
     "name": "stderr",
     "output_type": "stream",
     "text": [
      "100%|██████████| 100/100 [00:16<00:00,  5.94it/s]\n"
     ]
    },
    {
     "data": {
      "image/png": "[encoded data removed]",
      "text/plain": [
       "<Figure size 432x288 with 1 Axes>"
      ]
     },
     "metadata": {
      "needs_background": "light"
     },
     "output_type": "display_data"
    }
   ],
   "source": [
    "f = FuzzyInductor(fuzzifier=(LinearFuzzifier, {}))\n",
    "f.fit(iris_values_2d, mu['Iris-virginica'])\n",
    "\n",
    "gr_dataset()\n",
    "gr_membership_contour(f.estimated_membership_)\n",
    "plt.show()"
   ]
  },
  {
   "cell_type": "code",
   "execution_count": null,
   "metadata": {},
   "outputs": [
    {
     "name": "stdout",
     "output_type": "stream",
     "text": [
      "fitting 1, GaussianKernel(1), (<class 'mulearn.fuzzifier.ExponentialFuzzifier'>, {})\n"
     ]
    },
    {
     "name": "stderr",
     "output_type": "stream",
     "text": [
      "100%|██████████| 100/100 [00:18<00:00,  5.40it/s]\n"
     ]
    },
    {
     "data": {
      "image/png": "[encoded data removed]",
      "text/plain": [
       "<Figure size 432x288 with 1 Axes>"
      ]
     },
     "metadata": {
      "needs_background": "light"
     },
     "output_type": "display_data"
    }
   ],
   "source": [
    "f = FuzzyInductor()\n",
    "f.fit(iris_values_2d, mu['Iris-virginica'])\n",
    "gr_dataset()\n",
    "gr_membership_contour(f.estimated_membership_)\n",
    "plt.show()"
   ]
  },
  {
   "cell_type": "code",
   "execution_count": null,
   "metadata": {},
   "outputs": [
    {
     "name": "stdout",
     "output_type": "stream",
     "text": [
      "fitting 1, GaussianKernel(1), (<class 'mulearn.fuzzifier.ExponentialFuzzifier'>, {'profile': 'alpha', 'alpha': 0.25})\n"
     ]
    },
    {
     "name": "stderr",
     "output_type": "stream",
     "text": [
      "100%|██████████| 100/100 [00:19<00:00,  5.12it/s]\n"
     ]
    },
    {
     "data": {
      "image/png": "[encoded data removed]",
      "text/plain": [
       "<Figure size 432x288 with 1 Axes>"
      ]
     },
     "metadata": {
      "needs_background": "light"
     },
     "output_type": "display_data"
    }
   ],
   "source": [
    "f = FuzzyInductor(fuzzifier=(ExponentialFuzzifier,\n",
    "                             {'profile': 'alpha', 'alpha': 0.25}))\n",
    "f.fit(iris_values_2d, mu['Iris-virginica'])\n",
    "\n",
    "gr_dataset()\n",
    "gr_membership_contour(f.estimated_membership_)\n",
    "plt.show()"
   ]
  },
  {
   "cell_type": "code",
   "execution_count": null,
   "metadata": {},
   "outputs": [
    {
     "name": "stdout",
     "output_type": "stream",
     "text": [
      "fitting 1, GaussianKernel(0.3), (<class 'mulearn.fuzzifier.ExponentialFuzzifier'>, {})\n"
     ]
    },
    {
     "name": "stderr",
     "output_type": "stream",
     "text": [
      "100%|██████████| 100/100 [00:20<00:00,  4.92it/s]\n"
     ]
    },
    {
     "data": {
      "image/png": "[encoded data removed]",
      "text/plain": [
       "<Figure size 432x288 with 1 Axes>"
      ]
     },
     "metadata": {
      "needs_background": "light"
     },
     "output_type": "display_data"
    }
   ],
   "source": [
    "f = FuzzyInductor(k=GaussianKernel(.3))\n",
    "f.fit(iris_values_2d, mu['Iris-virginica'])\n",
    "\n",
    "gr_dataset()\n",
    "gr_membership_contour(f.estimated_membership_)\n",
    "plt.show()"
   ]
  },
  {
   "cell_type": "code",
   "execution_count": null,
   "metadata": {},
   "outputs": [
    {
     "name": "stdout",
     "output_type": "stream",
     "text": [
      "fitting 1, GaussianKernel(1), (<class 'mulearn.fuzzifier.ExponentialFuzzifier'>, {})\n",
      "Academic license - for non-commercial use only\n"
     ]
    },
    {
     "data": {
      "image/png": "[encoded data removed]",
      "text/plain": [
       "<Figure size 432x288 with 1 Axes>"
      ]
     },
     "metadata": {
      "needs_background": "light"
     },
     "output_type": "display_data"
    }
   ],
   "source": [
    "try:\n",
    "    f = FuzzyInductor(solve_strategy=(solve_optimization_gurobi, {}))\n",
    "    f.fit(iris_values_2d, mu['Iris-virginica'])\n",
    "\n",
    "    gr_dataset()\n",
    "    gr_membership_contour(f.estimated_membership_)\n",
    "    plt.show()\n",
    "except (ModuleNotFoundError, ValueError):\n",
    "    print('Gurobi not available')"
   ]
  },
  {
   "cell_type": "code",
   "execution_count": null,
   "metadata": {},
   "outputs": [
    {
     "name": "stdout",
     "output_type": "stream",
     "text": [
      "fitting 1, GaussianKernel(1.5), (<class 'mulearn.fuzzifier.ExponentialFuzzifier'>, {'profile': 'alpha', 'alpha': 0.15})\n"
     ]
    },
    {
     "name": "stderr",
     "output_type": "stream",
     "text": [
      "100%|██████████| 20/20 [00:04<00:00,  4.37it/s]\n"
     ]
    },
    {
     "data": {
      "image/png": "[encoded data removed]",
      "text/plain": [
       "<Figure size 432x288 with 1 Axes>"
      ]
     },
     "metadata": {
      "needs_background": "light"
     },
     "output_type": "display_data"
    }
   ],
   "source": [
    "f = FuzzyInductor(fuzzifier=(ExponentialFuzzifier,\n",
    "                             {'profile': 'alpha', 'alpha': 0.15}),\n",
    "                  k=GaussianKernel(1.5),\n",
    "                  solve_strategy=(solve_optimization_tensorflow,\n",
    "                                  {'n_iter': 20}),\n",
    "                  return_profile=True)\n",
    "f.fit(iris_values_2d, mu['Iris-virginica'])\n",
    "\n",
    "gr_dataset()\n",
    "gr_membership_contour(f.estimated_membership_)\n",
    "plt.show()"
   ]
  },
  {
   "cell_type": "code",
   "execution_count": null,
   "metadata": {},
   "outputs": [
    {
     "data": {
      "image/png": "[encoded data removed]",
      "text/plain": [
       "<Figure size 432x288 with 1 Axes>"
      ]
     },
     "metadata": {
      "needs_background": "light"
     },
     "output_type": "display_data"
    }
   ],
   "source": [
    "plt.plot(f.profile_[0], mu['Iris-virginica'], '.')\n",
    "plt.plot(f.profile_[1], f.profile_[2])\n",
    "plt.ylim((-0.1, 1.1))\n",
    "plt.show()"
   ]
  },
  {
   "cell_type": "code",
   "execution_count": null,
   "metadata": {},
   "outputs": [],
   "source": [
    "sigmas = [.225,.5]\n",
    "parameters = {'c': [1,10,100],\n",
    "              'k': [GaussianKernel(i) for i in sigmas]}"
   ]
  },
  {
   "cell_type": "code",
   "execution_count": null,
   "metadata": {},
   "outputs": [
    {
     "name": "stderr",
     "output_type": "stream",
     "text": [
      "\n",
      "  0%|          | 0/100 [00:00<?, ?it/s]\u001b[A"
     ]
    },
    {
     "name": "stdout",
     "output_type": "stream",
     "text": [
      "fitting 1, GaussianKernel(0.225), (<class 'mulearn.fuzzifier.ExponentialFuzzifier'>, {})\n"
     ]
    },
    {
     "name": "stderr",
     "output_type": "stream",
     "text": [
      "\n",
      "  1%|          | 1/100 [00:00<00:22,  4.36it/s]\u001b[A\n",
      "  3%|▎         | 3/100 [00:00<00:18,  5.35it/s]\u001b[A\n",
      "  5%|▌         | 5/100 [00:00<00:14,  6.38it/s]\u001b[A\n",
      "  7%|▋         | 7/100 [00:00<00:12,  7.38it/s]\u001b[A\n",
      "  9%|▉         | 9/100 [00:00<00:11,  8.16it/s]\u001b[A\n",
      " 10%|█         | 10/100 [00:01<00:11,  7.96it/s]\u001b[A\n",
      " 11%|█         | 11/100 [00:01<00:10,  8.47it/s]\u001b[A\n",
      " 13%|█▎        | 13/100 [00:01<00:09,  9.15it/s]\u001b[A\n",
      " 15%|█▌        | 15/100 [00:01<00:08,  9.80it/s]\u001b[A\n",
      " 17%|█▋        | 17/100 [00:01<00:08, 10.26it/s]\u001b[A\n",
      " 19%|█▉        | 19/100 [00:01<00:07, 10.64it/s]\u001b[A\n",
      " 21%|██        | 21/100 [00:02<00:07, 10.82it/s]\u001b[A\n",
      " 23%|██▎       | 23/100 [00:02<00:06, 11.01it/s]\u001b[A\n",
      " 25%|██▌       | 25/100 [00:02<00:06, 11.10it/s]\u001b[A\n",
      " 27%|██▋       | 27/100 [00:02<00:06, 11.21it/s]\u001b[A\n",
      " 29%|██▉       | 29/100 [00:02<00:06, 11.26it/s]\u001b[A\n",
      " 31%|███       | 31/100 [00:02<00:06, 11.23it/s]\u001b[A\n",
      " 33%|███▎      | 33/100 [00:03<00:05, 11.32it/s]\u001b[A\n",
      " 35%|███▌      | 35/100 [00:03<00:05, 11.33it/s]\u001b[A\n",
      " 37%|███▋      | 37/100 [00:03<00:05, 11.32it/s]\u001b[A\n",
      " 39%|███▉      | 39/100 [00:03<00:05, 11.29it/s]\u001b[A\n",
      " 41%|████      | 41/100 [00:03<00:05, 11.30it/s]\u001b[A\n",
      " 43%|████▎     | 43/100 [00:03<00:05, 11.18it/s]\u001b[A\n",
      " 45%|████▌     | 45/100 [00:04<00:04, 11.14it/s]\u001b[A\n",
      " 47%|████▋     | 47/100 [00:04<00:04, 11.14it/s]\u001b[A\n",
      " 49%|████▉     | 49/100 [00:04<00:04, 11.32it/s]\u001b[A\n",
      " 51%|█████     | 51/100 [00:04<00:04, 11.46it/s]\u001b[A\n",
      " 53%|█████▎    | 53/100 [00:04<00:04, 11.38it/s]\u001b[A\n",
      " 55%|█████▌    | 55/100 [00:05<00:03, 11.39it/s]\u001b[A\n",
      " 57%|█████▋    | 57/100 [00:05<00:03, 11.51it/s]\u001b[A\n",
      " 59%|█████▉    | 59/100 [00:05<00:03, 11.56it/s]\u001b[A\n",
      " 61%|██████    | 61/100 [00:05<00:03, 11.57it/s]\u001b[A\n",
      " 63%|██████▎   | 63/100 [00:05<00:03, 11.60it/s]\u001b[A\n",
      " 65%|██████▌   | 65/100 [00:05<00:03, 11.58it/s]\u001b[A\n",
      " 67%|██████▋   | 67/100 [00:06<00:02, 11.58it/s]\u001b[A\n",
      " 69%|██████▉   | 69/100 [00:06<00:02, 11.38it/s]\u001b[A\n",
      " 71%|███████   | 71/100 [00:06<00:02, 11.28it/s]\u001b[A\n",
      " 73%|███████▎  | 73/100 [00:06<00:02, 11.18it/s]\u001b[A\n",
      " 75%|███████▌  | 75/100 [00:06<00:02, 11.23it/s]\u001b[A\n",
      " 77%|███████▋  | 77/100 [00:06<00:02, 11.01it/s]\u001b[A\n",
      " 79%|███████▉  | 79/100 [00:07<00:01, 11.05it/s]\u001b[A\n",
      " 81%|████████  | 81/100 [00:07<00:01, 11.03it/s]\u001b[A\n",
      " 83%|████████▎ | 83/100 [00:07<00:01, 11.09it/s]\u001b[A\n",
      " 85%|████████▌ | 85/100 [00:07<00:01, 11.18it/s]\u001b[A\n",
      " 87%|████████▋ | 87/100 [00:07<00:01, 10.99it/s]\u001b[A\n",
      " 89%|████████▉ | 89/100 [00:08<00:01,  9.75it/s]\u001b[A\n",
      " 91%|█████████ | 91/100 [00:08<00:00, 10.00it/s]\u001b[A\n",
      " 93%|█████████▎| 93/100 [00:08<00:00, 10.29it/s]\u001b[A\n",
      " 95%|█████████▌| 95/100 [00:08<00:00, 10.39it/s]\u001b[A\n",
      " 97%|█████████▋| 97/100 [00:08<00:00, 10.22it/s]\u001b[A\n",
      "100%|██████████| 100/100 [00:09<00:00, 10.89it/s][A\n",
      "\n",
      "  0%|          | 0/100 [00:00<?, ?it/s]\u001b[A"
     ]
    },
    {
     "name": "stdout",
     "output_type": "stream",
     "text": [
      "fitting 1, GaussianKernel(0.225), (<class 'mulearn.fuzzifier.ExponentialFuzzifier'>, {})\n"
     ]
    },
    {
     "name": "stderr",
     "output_type": "stream",
     "text": [
      "\n",
      "  1%|          | 1/100 [00:00<00:25,  3.91it/s]\u001b[A\n",
      "  2%|▏         | 2/100 [00:00<00:21,  4.57it/s]\u001b[A\n",
      "  3%|▎         | 3/100 [00:00<00:18,  5.21it/s]\u001b[A\n",
      "  4%|▍         | 4/100 [00:00<00:15,  6.01it/s]\u001b[A\n",
      "  6%|▌         | 6/100 [00:00<00:13,  6.78it/s]\u001b[A\n",
      "  7%|▋         | 7/100 [00:00<00:13,  6.87it/s]\u001b[A\n",
      "  9%|▉         | 9/100 [00:01<00:11,  7.72it/s]\u001b[A\n",
      " 11%|█         | 11/100 [00:01<00:10,  8.46it/s]\u001b[A\n",
      " 12%|█▏        | 12/100 [00:01<00:10,  8.77it/s]\u001b[A\n",
      " 13%|█▎        | 13/100 [00:01<00:10,  8.30it/s]\u001b[A\n",
      " 14%|█▍        | 14/100 [00:01<00:10,  8.23it/s]\u001b[A\n",
      " 16%|█▌        | 16/100 [00:01<00:09,  8.95it/s]\u001b[A\n",
      " 18%|█▊        | 18/100 [00:02<00:08,  9.56it/s]\u001b[A\n",
      " 20%|██        | 20/100 [00:02<00:07, 10.02it/s]\u001b[A\n",
      " 22%|██▏       | 22/100 [00:02<00:07, 10.37it/s]\u001b[A\n",
      " 24%|██▍       | 24/100 [00:02<00:07, 10.52it/s]\u001b[A\n",
      " 26%|██▌       | 26/100 [00:02<00:06, 10.68it/s]\u001b[A\n",
      " 28%|██▊       | 28/100 [00:02<00:06, 10.84it/s]\u001b[A\n",
      " 30%|███       | 30/100 [00:03<00:06, 10.92it/s]\u001b[A\n",
      " 32%|███▏      | 32/100 [00:03<00:06, 10.83it/s]\u001b[A\n",
      " 34%|███▍      | 34/100 [00:03<00:06, 10.78it/s]\u001b[A\n",
      " 36%|███▌      | 36/100 [00:03<00:06, 10.42it/s]\u001b[A\n",
      " 38%|███▊      | 38/100 [00:03<00:06,  9.81it/s]\u001b[A\n",
      " 40%|████      | 40/100 [00:04<00:05, 10.10it/s]\u001b[A\n",
      " 42%|████▏     | 42/100 [00:04<00:05, 10.27it/s]\u001b[A\n",
      " 44%|████▍     | 44/100 [00:04<00:05, 10.35it/s]\u001b[A\n",
      " 46%|████▌     | 46/100 [00:04<00:05, 10.55it/s]\u001b[A\n",
      " 48%|████▊     | 48/100 [00:04<00:04, 10.59it/s]\u001b[A\n",
      " 50%|█████     | 50/100 [00:05<00:04, 10.59it/s]\u001b[A\n",
      " 52%|█████▏    | 52/100 [00:05<00:04, 10.55it/s]\u001b[A\n",
      " 54%|█████▍    | 54/100 [00:05<00:04, 10.65it/s]\u001b[A\n",
      " 56%|█████▌    | 56/100 [00:05<00:04, 10.49it/s]\u001b[A\n",
      " 58%|█████▊    | 58/100 [00:05<00:03, 10.59it/s]\u001b[A\n",
      " 60%|██████    | 60/100 [00:05<00:03, 10.83it/s]\u001b[A\n",
      " 62%|██████▏   | 62/100 [00:06<00:03, 10.92it/s]\u001b[A\n",
      " 64%|██████▍   | 64/100 [00:06<00:03, 10.90it/s]\u001b[A\n",
      " 66%|██████▌   | 66/100 [00:06<00:03, 10.80it/s]\u001b[A\n",
      " 68%|██████▊   | 68/100 [00:06<00:02, 10.72it/s]\u001b[A\n",
      " 70%|███████   | 70/100 [00:06<00:02, 10.78it/s]\u001b[A\n",
      " 72%|███████▏  | 72/100 [00:07<00:02, 10.83it/s]\u001b[A\n",
      " 74%|███████▍  | 74/100 [00:07<00:02, 10.87it/s]\u001b[A\n",
      " 76%|███████▌  | 76/100 [00:07<00:02, 10.86it/s]\u001b[A\n",
      " 78%|███████▊  | 78/100 [00:07<00:02,  9.33it/s]\u001b[A\n",
      " 80%|████████  | 80/100 [00:07<00:02,  9.86it/s]\u001b[A\n",
      " 82%|████████▏ | 82/100 [00:08<00:01, 10.04it/s]\u001b[A\n",
      " 84%|████████▍ | 84/100 [00:08<00:01, 10.25it/s]\u001b[A\n",
      " 86%|████████▌ | 86/100 [00:08<00:01, 10.44it/s]\u001b[A\n",
      " 88%|████████▊ | 88/100 [00:08<00:01, 10.57it/s]\u001b[A\n",
      " 90%|█████████ | 90/100 [00:08<00:00, 10.63it/s]\u001b[A\n",
      " 92%|█████████▏| 92/100 [00:09<00:00, 10.71it/s]\u001b[A\n",
      " 94%|█████████▍| 94/100 [00:09<00:00, 10.71it/s]\u001b[A\n",
      " 96%|█████████▌| 96/100 [00:09<00:00, 10.76it/s]\u001b[A\n",
      " 98%|█████████▊| 98/100 [00:09<00:00, 10.82it/s]\u001b[A\n",
      "100%|██████████| 100/100 [00:09<00:00, 10.22it/s]\u001b[A\n",
      "/home/malchiodi/repo/web/mulearn/mulearn/__init__.py:98: UserWarning: No support vectors found\n",
      "  warn('No support vectors found')\n",
      "/home/malchiodi/anaconda3/lib/python3.7/site-packages/sklearn/model_selection/_validation.py:536: FitFailedWarning: Estimator fit failed. The score on this train-test partition for these parameters will be set to nan. Details: \n",
      "TypeError: 'NoneType' object is not callable\n",
      "\n",
      "  FitFailedWarning)\n",
      "\n",
      "  0%|          | 0/100 [00:00<?, ?it/s]\u001b[A"
     ]
    },
    {
     "name": "stdout",
     "output_type": "stream",
     "text": [
      "fitting 1, GaussianKernel(0.5), (<class 'mulearn.fuzzifier.ExponentialFuzzifier'>, {})\n"
     ]
    },
    {
     "name": "stderr",
     "output_type": "stream",
     "text": [
      "\n",
      "  1%|          | 1/100 [00:00<00:23,  4.15it/s]\u001b[A\n",
      "  3%|▎         | 3/100 [00:00<00:19,  5.10it/s]\u001b[A\n",
      "  5%|▌         | 5/100 [00:00<00:15,  6.12it/s]\u001b[A\n",
      "  7%|▋         | 7/100 [00:00<00:13,  7.08it/s]\u001b[A\n",
      "  9%|▉         | 9/100 [00:00<00:11,  7.95it/s]\u001b[A\n",
      " 11%|█         | 11/100 [00:01<00:10,  8.75it/s]\u001b[A\n",
      " 13%|█▎        | 13/100 [00:01<00:09,  9.15it/s]\u001b[A\n",
      " 15%|█▌        | 15/100 [00:01<00:08,  9.61it/s]\u001b[A\n",
      " 17%|█▋        | 17/100 [00:01<00:08,  9.93it/s]\u001b[A\n",
      " 19%|█▉        | 19/100 [00:01<00:07, 10.30it/s]\u001b[A\n",
      " 21%|██        | 21/100 [00:02<00:07, 10.57it/s]\u001b[A\n",
      " 23%|██▎       | 23/100 [00:02<00:07, 10.71it/s]\u001b[A\n",
      " 25%|██▌       | 25/100 [00:02<00:06, 10.78it/s]\u001b[A\n",
      " 27%|██▋       | 27/100 [00:02<00:06, 10.85it/s]\u001b[A\n",
      " 29%|██▉       | 29/100 [00:02<00:06, 10.89it/s]\u001b[A\n",
      " 31%|███       | 31/100 [00:02<00:06, 10.94it/s]\u001b[A\n",
      " 33%|███▎      | 33/100 [00:03<00:06, 10.99it/s]\u001b[A\n",
      " 35%|███▌      | 35/100 [00:03<00:05, 10.99it/s]\u001b[A\n",
      " 37%|███▋      | 37/100 [00:03<00:05, 11.08it/s]\u001b[A\n",
      " 39%|███▉      | 39/100 [00:03<00:05, 10.99it/s]\u001b[A\n",
      " 41%|████      | 41/100 [00:03<00:05, 10.93it/s]\u001b[A\n",
      " 43%|████▎     | 43/100 [00:04<00:05, 10.71it/s]\u001b[A\n",
      " 45%|████▌     | 45/100 [00:04<00:05, 10.72it/s]\u001b[A\n",
      " 47%|████▋     | 47/100 [00:04<00:04, 10.78it/s]\u001b[A\n",
      " 49%|████▉     | 49/100 [00:04<00:04, 10.83it/s]\u001b[A\n",
      " 51%|█████     | 51/100 [00:04<00:04, 10.88it/s]\u001b[A\n",
      " 53%|█████▎    | 53/100 [00:04<00:04, 10.98it/s]\u001b[A\n",
      " 55%|█████▌    | 55/100 [00:05<00:04, 11.07it/s]\u001b[A\n",
      " 57%|█████▋    | 57/100 [00:05<00:03, 10.93it/s]\u001b[A\n",
      " 59%|█████▉    | 59/100 [00:05<00:03, 10.94it/s]\u001b[A\n",
      " 61%|██████    | 61/100 [00:05<00:03, 10.96it/s]\u001b[A\n",
      " 63%|██████▎   | 63/100 [00:05<00:03, 10.95it/s]\u001b[A\n",
      " 65%|██████▌   | 65/100 [00:06<00:03, 10.95it/s]\u001b[A\n",
      " 67%|██████▋   | 67/100 [00:06<00:03, 10.88it/s]\u001b[A\n",
      " 69%|██████▉   | 69/100 [00:06<00:02, 10.91it/s]\u001b[A\n",
      " 71%|███████   | 71/100 [00:06<00:02, 10.93it/s]\u001b[A\n",
      " 73%|███████▎  | 73/100 [00:06<00:02, 10.95it/s]\u001b[A\n",
      " 75%|███████▌  | 75/100 [00:06<00:02, 10.94it/s]\u001b[A\n",
      " 77%|███████▋  | 77/100 [00:07<00:02, 11.04it/s]\u001b[A\n",
      " 79%|███████▉  | 79/100 [00:07<00:01, 11.17it/s]\u001b[A\n",
      " 81%|████████  | 81/100 [00:07<00:01, 11.17it/s]\u001b[A\n",
      " 83%|████████▎ | 83/100 [00:07<00:01, 11.23it/s]\u001b[A\n",
      " 85%|████████▌ | 85/100 [00:07<00:01, 11.18it/s]\u001b[A\n",
      " 87%|████████▋ | 87/100 [00:08<00:01, 11.09it/s]\u001b[A\n",
      " 89%|████████▉ | 89/100 [00:08<00:00, 11.01it/s]\u001b[A\n",
      " 91%|█████████ | 91/100 [00:08<00:00, 11.13it/s]\u001b[A\n",
      " 93%|█████████▎| 93/100 [00:08<00:00, 11.19it/s]\u001b[A\n",
      " 95%|█████████▌| 95/100 [00:08<00:00, 11.23it/s]\u001b[A\n",
      " 97%|█████████▋| 97/100 [00:08<00:00, 11.27it/s]\u001b[A\n",
      "100%|██████████| 100/100 [00:09<00:00, 10.85it/s][A\n",
      "\n",
      "  0%|          | 0/100 [00:00<?, ?it/s]\u001b[A"
     ]
    },
    {
     "name": "stdout",
     "output_type": "stream",
     "text": [
      "fitting 1, GaussianKernel(0.5), (<class 'mulearn.fuzzifier.ExponentialFuzzifier'>, {})\n"
     ]
    },
    {
     "name": "stderr",
     "output_type": "stream",
     "text": [
      "\n",
      "  1%|          | 1/100 [00:00<00:22,  4.36it/s]\u001b[A\n",
      "  3%|▎         | 3/100 [00:00<00:18,  5.35it/s]\u001b[A\n",
      "  5%|▌         | 5/100 [00:00<00:15,  6.29it/s]\u001b[A\n",
      "  7%|▋         | 7/100 [00:00<00:12,  7.23it/s]\u001b[A\n",
      "  9%|▉         | 9/100 [00:00<00:11,  8.03it/s]\u001b[A\n",
      " 11%|█         | 11/100 [00:01<00:10,  8.71it/s]\u001b[A\n",
      " 13%|█▎        | 13/100 [00:01<00:09,  9.24it/s]\u001b[A\n",
      " 15%|█▌        | 15/100 [00:01<00:08,  9.64it/s]\u001b[A\n",
      " 17%|█▋        | 17/100 [00:01<00:08, 10.15it/s]\u001b[A\n",
      " 19%|█▉        | 19/100 [00:01<00:07, 10.42it/s]\u001b[A\n",
      " 21%|██        | 21/100 [00:02<00:07, 10.58it/s]\u001b[A\n",
      " 23%|██▎       | 23/100 [00:02<00:07, 10.68it/s]\u001b[A\n",
      " 25%|██▌       | 25/100 [00:02<00:06, 10.75it/s]\u001b[A\n",
      " 27%|██▋       | 27/100 [00:02<00:06, 10.69it/s]\u001b[A\n",
      " 29%|██▉       | 29/100 [00:02<00:06, 10.83it/s]\u001b[A\n",
      " 31%|███       | 31/100 [00:02<00:06, 11.01it/s]\u001b[A\n",
      " 33%|███▎      | 33/100 [00:03<00:06, 11.06it/s]\u001b[A\n",
      " 35%|███▌      | 35/100 [00:03<00:05, 11.06it/s]\u001b[A\n",
      " 37%|███▋      | 37/100 [00:03<00:05, 11.04it/s]\u001b[A\n",
      " 39%|███▉      | 39/100 [00:03<00:05, 10.98it/s]\u001b[A\n",
      " 41%|████      | 41/100 [00:03<00:05, 11.12it/s]\u001b[A\n",
      " 43%|████▎     | 43/100 [00:04<00:05, 11.21it/s]\u001b[A\n",
      " 45%|████▌     | 45/100 [00:04<00:04, 11.27it/s]\u001b[A\n",
      " 47%|████▋     | 47/100 [00:04<00:04, 11.32it/s]\u001b[A\n",
      " 49%|████▉     | 49/100 [00:04<00:04, 11.33it/s]\u001b[A\n",
      " 51%|█████     | 51/100 [00:04<00:04, 11.35it/s]\u001b[A\n",
      " 53%|█████▎    | 53/100 [00:04<00:04, 11.15it/s]\u001b[A\n",
      " 55%|█████▌    | 55/100 [00:05<00:04, 11.08it/s]\u001b[A\n",
      " 57%|█████▋    | 57/100 [00:05<00:03, 10.94it/s]\u001b[A\n",
      " 59%|█████▉    | 59/100 [00:05<00:03, 10.91it/s]\u001b[A\n",
      " 61%|██████    | 61/100 [00:05<00:03, 10.87it/s]\u001b[A\n",
      " 63%|██████▎   | 63/100 [00:05<00:03, 10.86it/s]\u001b[A\n",
      " 65%|██████▌   | 65/100 [00:06<00:03, 10.98it/s]\u001b[A\n",
      " 67%|██████▋   | 67/100 [00:06<00:03, 10.95it/s]\u001b[A\n",
      " 69%|██████▉   | 69/100 [00:06<00:02, 10.91it/s]\u001b[A\n",
      " 71%|███████   | 71/100 [00:06<00:02, 10.97it/s]\u001b[A\n",
      " 73%|███████▎  | 73/100 [00:06<00:02, 10.91it/s]\u001b[A\n",
      " 75%|███████▌  | 75/100 [00:06<00:02, 10.89it/s]\u001b[A\n",
      " 77%|███████▋  | 77/100 [00:07<00:02, 10.91it/s]\u001b[A\n",
      " 79%|███████▉  | 79/100 [00:07<00:01, 10.88it/s]\u001b[A\n",
      " 81%|████████  | 81/100 [00:07<00:01, 10.99it/s]\u001b[A\n",
      " 83%|████████▎ | 83/100 [00:07<00:01, 11.00it/s]\u001b[A\n",
      " 85%|████████▌ | 85/100 [00:07<00:01, 11.05it/s]\u001b[A\n",
      " 87%|████████▋ | 87/100 [00:08<00:01, 11.09it/s]\u001b[A\n",
      " 89%|████████▉ | 89/100 [00:08<00:00, 11.10it/s]\u001b[A\n",
      " 91%|█████████ | 91/100 [00:08<00:00, 11.13it/s]\u001b[A\n",
      " 93%|█████████▎| 93/100 [00:08<00:00, 11.15it/s]\u001b[A\n",
      " 95%|█████████▌| 95/100 [00:08<00:00, 11.20it/s]\u001b[A\n",
      " 97%|█████████▋| 97/100 [00:08<00:00, 11.21it/s]\u001b[A\n",
      "100%|██████████| 100/100 [00:09<00:00, 10.88it/s][A\n",
      "/home/malchiodi/repo/web/mulearn/mulearn/__init__.py:98: UserWarning: No support vectors found\n",
      "  warn('No support vectors found')\n",
      "/home/malchiodi/anaconda3/lib/python3.7/site-packages/sklearn/model_selection/_validation.py:536: FitFailedWarning: Estimator fit failed. The score on this train-test partition for these parameters will be set to nan. Details: \n",
      "TypeError: 'NoneType' object is not callable\n",
      "\n",
      "  FitFailedWarning)\n",
      "\n",
      "  0%|          | 0/100 [00:00<?, ?it/s]\u001b[A"
     ]
    },
    {
     "name": "stdout",
     "output_type": "stream",
     "text": [
      "fitting 10, GaussianKernel(0.225), (<class 'mulearn.fuzzifier.ExponentialFuzzifier'>, {})\n"
     ]
    },
    {
     "name": "stderr",
     "output_type": "stream",
     "text": [
      "\n",
      "  1%|          | 1/100 [00:00<00:24,  4.02it/s]\u001b[A\n",
      "  2%|▏         | 2/100 [00:00<00:20,  4.89it/s]\u001b[A\n",
      "  4%|▍         | 4/100 [00:00<00:16,  5.84it/s]\u001b[A\n",
      "  5%|▌         | 5/100 [00:00<00:14,  6.39it/s]\u001b[A\n",
      "  7%|▋         | 7/100 [00:00<00:12,  7.29it/s]\u001b[A\n",
      "  9%|▉         | 9/100 [00:01<00:11,  8.09it/s]\u001b[A\n",
      " 11%|█         | 11/100 [00:01<00:10,  8.75it/s]\u001b[A\n",
      " 13%|█▎        | 13/100 [00:01<00:09,  9.29it/s]\u001b[A\n",
      " 15%|█▌        | 15/100 [00:01<00:08,  9.69it/s]\u001b[A\n",
      " 17%|█▋        | 17/100 [00:01<00:08, 10.00it/s]\u001b[A\n",
      " 19%|█▉        | 19/100 [00:01<00:07, 10.24it/s]\u001b[A\n",
      " 21%|██        | 21/100 [00:02<00:07, 10.38it/s]\u001b[A\n",
      " 23%|██▎       | 23/100 [00:02<00:07, 10.52it/s]\u001b[A\n",
      " 25%|██▌       | 25/100 [00:02<00:07, 10.63it/s]\u001b[A\n",
      " 27%|██▋       | 27/100 [00:02<00:06, 10.74it/s]\u001b[A\n",
      " 29%|██▉       | 29/100 [00:02<00:06, 10.79it/s]\u001b[A\n",
      " 31%|███       | 31/100 [00:03<00:06, 10.84it/s]\u001b[A\n",
      " 33%|███▎      | 33/100 [00:03<00:06, 10.84it/s]\u001b[A\n",
      " 35%|███▌      | 35/100 [00:03<00:06,  9.32it/s]\u001b[A\n",
      " 37%|███▋      | 37/100 [00:03<00:06,  9.74it/s]\u001b[A\n",
      " 39%|███▉      | 39/100 [00:03<00:06, 10.07it/s]\u001b[A\n",
      " 41%|████      | 41/100 [00:04<00:05, 10.28it/s]\u001b[A\n",
      " 43%|████▎     | 43/100 [00:04<00:05, 10.42it/s]\u001b[A\n",
      " 45%|████▌     | 45/100 [00:04<00:05, 10.58it/s]\u001b[A\n",
      " 47%|████▋     | 47/100 [00:04<00:04, 10.68it/s]\u001b[A\n",
      " 49%|████▉     | 49/100 [00:04<00:04, 10.76it/s]\u001b[A\n",
      " 51%|█████     | 51/100 [00:04<00:04, 10.84it/s]\u001b[A\n",
      " 53%|█████▎    | 53/100 [00:05<00:04, 10.95it/s]\u001b[A\n",
      " 55%|█████▌    | 55/100 [00:05<00:04, 11.03it/s]\u001b[A\n",
      " 57%|█████▋    | 57/100 [00:05<00:03, 11.08it/s]\u001b[A\n",
      " 59%|█████▉    | 59/100 [00:05<00:03, 11.01it/s]\u001b[A\n",
      " 61%|██████    | 61/100 [00:05<00:03, 10.92it/s]\u001b[A\n",
      " 63%|██████▎   | 63/100 [00:06<00:03, 10.87it/s]\u001b[A\n",
      " 65%|██████▌   | 65/100 [00:06<00:03, 10.77it/s]\u001b[A\n",
      " 67%|██████▋   | 67/100 [00:06<00:03, 10.75it/s]\u001b[A\n",
      " 69%|██████▉   | 69/100 [00:06<00:02, 10.78it/s]\u001b[A\n",
      " 71%|███████   | 71/100 [00:06<00:02, 11.04it/s]\u001b[A\n",
      " 73%|███████▎  | 73/100 [00:07<00:02, 10.93it/s]\u001b[A\n",
      " 75%|███████▌  | 75/100 [00:07<00:02, 10.90it/s]\u001b[A\n",
      " 77%|███████▋  | 77/100 [00:07<00:02, 10.90it/s]\u001b[A\n",
      " 79%|███████▉  | 79/100 [00:07<00:01, 10.90it/s]\u001b[A\n",
      " 81%|████████  | 81/100 [00:07<00:01, 10.90it/s]\u001b[A\n",
      " 83%|████████▎ | 83/100 [00:07<00:01, 10.90it/s]\u001b[A\n",
      " 85%|████████▌ | 85/100 [00:08<00:01, 10.89it/s]\u001b[A\n",
      " 87%|████████▋ | 87/100 [00:08<00:01, 10.80it/s]\u001b[A\n",
      " 89%|████████▉ | 89/100 [00:08<00:01, 10.85it/s]\u001b[A\n",
      " 91%|█████████ | 91/100 [00:08<00:00, 10.89it/s]\u001b[A\n",
      " 93%|█████████▎| 93/100 [00:08<00:00, 10.92it/s]\u001b[A\n",
      " 95%|█████████▌| 95/100 [00:09<00:00, 10.93it/s]\u001b[A\n",
      " 97%|█████████▋| 97/100 [00:09<00:00, 10.90it/s]\u001b[A\n",
      "100%|██████████| 100/100 [00:09<00:00, 10.54it/s][A\n",
      "\n",
      "  0%|          | 0/100 [00:00<?, ?it/s]\u001b[A"
     ]
    },
    {
     "name": "stdout",
     "output_type": "stream",
     "text": [
      "fitting 10, GaussianKernel(0.225), (<class 'mulearn.fuzzifier.ExponentialFuzzifier'>, {})\n"
     ]
    },
    {
     "name": "stderr",
     "output_type": "stream",
     "text": [
      "\n",
      "  1%|          | 1/100 [00:00<00:23,  4.14it/s]\u001b[A\n",
      "  3%|▎         | 3/100 [00:00<00:19,  5.09it/s]\u001b[A\n",
      "  5%|▌         | 5/100 [00:00<00:15,  6.12it/s]\u001b[A\n",
      "  7%|▋         | 7/100 [00:00<00:13,  7.08it/s]\u001b[A\n",
      "  9%|▉         | 9/100 [00:00<00:11,  7.94it/s]\u001b[A\n",
      " 11%|█         | 11/100 [00:01<00:10,  8.62it/s]\u001b[A\n",
      " 13%|█▎        | 13/100 [00:01<00:09,  9.20it/s]\u001b[A\n",
      " 15%|█▌        | 15/100 [00:01<00:08,  9.64it/s]\u001b[A\n",
      " 17%|█▋        | 17/100 [00:01<00:08,  9.97it/s]\u001b[A\n",
      " 19%|█▉        | 19/100 [00:01<00:07, 10.22it/s]\u001b[A\n",
      " 21%|██        | 21/100 [00:02<00:07, 10.41it/s]\u001b[A\n",
      " 23%|██▎       | 23/100 [00:02<00:07, 10.53it/s]\u001b[A\n",
      " 25%|██▌       | 25/100 [00:02<00:07, 10.66it/s]\u001b[A\n",
      " 27%|██▋       | 27/100 [00:02<00:06, 10.73it/s]\u001b[A\n",
      " 29%|██▉       | 29/100 [00:02<00:06, 10.77it/s]\u001b[A\n",
      " 31%|███       | 31/100 [00:02<00:06, 10.94it/s]\u001b[A\n",
      " 33%|███▎      | 33/100 [00:03<00:06, 10.98it/s]\u001b[A\n",
      " 35%|███▌      | 35/100 [00:03<00:05, 11.00it/s]\u001b[A\n",
      " 37%|███▋      | 37/100 [00:03<00:05, 11.05it/s]\u001b[A\n",
      " 39%|███▉      | 39/100 [00:03<00:05, 11.18it/s]\u001b[A\n",
      " 41%|████      | 41/100 [00:03<00:05, 11.26it/s]\u001b[A\n",
      " 43%|████▎     | 43/100 [00:04<00:05, 11.28it/s]\u001b[A\n",
      " 45%|████▌     | 45/100 [00:04<00:04, 11.18it/s]\u001b[A\n",
      " 47%|████▋     | 47/100 [00:04<00:04, 11.11it/s]\u001b[A\n",
      " 49%|████▉     | 49/100 [00:04<00:04, 11.03it/s]\u001b[A\n",
      " 51%|█████     | 51/100 [00:04<00:04, 10.95it/s]\u001b[A\n",
      " 53%|█████▎    | 53/100 [00:04<00:04, 10.93it/s]\u001b[A\n",
      " 55%|█████▌    | 55/100 [00:05<00:04, 10.87it/s]\u001b[A\n",
      " 57%|█████▋    | 57/100 [00:05<00:03, 10.88it/s]\u001b[A\n",
      " 59%|█████▉    | 59/100 [00:05<00:03, 11.02it/s]\u001b[A\n",
      " 61%|██████    | 61/100 [00:05<00:03, 11.09it/s]\u001b[A\n",
      " 63%|██████▎   | 63/100 [00:05<00:03, 11.11it/s]\u001b[A\n",
      " 65%|██████▌   | 65/100 [00:06<00:03, 11.13it/s]\u001b[A\n",
      " 67%|██████▋   | 67/100 [00:06<00:02, 11.02it/s]\u001b[A\n",
      " 69%|██████▉   | 69/100 [00:06<00:02, 10.96it/s]\u001b[A\n",
      " 71%|███████   | 71/100 [00:06<00:02, 11.00it/s]\u001b[A\n",
      " 73%|███████▎  | 73/100 [00:06<00:02, 11.02it/s]\u001b[A\n",
      " 75%|███████▌  | 75/100 [00:06<00:02, 11.03it/s]\u001b[A\n",
      " 77%|███████▋  | 77/100 [00:07<00:02, 10.97it/s]\u001b[A\n",
      " 79%|███████▉  | 79/100 [00:07<00:01, 10.85it/s]\u001b[A\n",
      " 81%|████████  | 81/100 [00:07<00:01, 10.90it/s]\u001b[A\n",
      " 83%|████████▎ | 83/100 [00:07<00:01, 10.94it/s]\u001b[A\n",
      " 85%|████████▌ | 85/100 [00:07<00:01, 10.91it/s]\u001b[A\n",
      " 87%|████████▋ | 87/100 [00:08<00:01, 10.90it/s]\u001b[A\n",
      " 89%|████████▉ | 89/100 [00:08<00:01, 10.86it/s]\u001b[A\n",
      " 91%|█████████ | 91/100 [00:08<00:00, 10.89it/s]\u001b[A\n",
      " 93%|█████████▎| 93/100 [00:08<00:00, 10.91it/s]\u001b[A\n",
      " 95%|█████████▌| 95/100 [00:08<00:00, 10.95it/s]\u001b[A\n",
      " 97%|█████████▋| 97/100 [00:08<00:00, 10.97it/s]\u001b[A\n",
      "100%|██████████| 100/100 [00:09<00:00, 10.80it/s][A\n",
      "/home/malchiodi/repo/web/mulearn/mulearn/__init__.py:98: UserWarning: No support vectors found\n",
      "  warn('No support vectors found')\n",
      "/home/malchiodi/anaconda3/lib/python3.7/site-packages/sklearn/model_selection/_validation.py:536: FitFailedWarning: Estimator fit failed. The score on this train-test partition for these parameters will be set to nan. Details: \n",
      "TypeError: 'NoneType' object is not callable\n",
      "\n",
      "  FitFailedWarning)\n",
      "\n",
      "  0%|          | 0/100 [00:00<?, ?it/s]\u001b[A"
     ]
    },
    {
     "name": "stdout",
     "output_type": "stream",
     "text": [
      "fitting 10, GaussianKernel(0.5), (<class 'mulearn.fuzzifier.ExponentialFuzzifier'>, {})\n"
     ]
    },
    {
     "name": "stderr",
     "output_type": "stream",
     "text": [
      "\n",
      "  1%|          | 1/100 [00:00<00:23,  4.25it/s]\u001b[A\n",
      "  3%|▎         | 3/100 [00:00<00:18,  5.22it/s]\u001b[A\n",
      "  5%|▌         | 5/100 [00:00<00:15,  6.17it/s]\u001b[A\n",
      "  7%|▋         | 7/100 [00:00<00:12,  7.16it/s]\u001b[A\n",
      "  9%|▉         | 9/100 [00:00<00:11,  8.05it/s]\u001b[A\n",
      " 11%|█         | 11/100 [00:01<00:10,  8.81it/s]\u001b[A\n",
      " 13%|█▎        | 13/100 [00:01<00:09,  9.44it/s]\u001b[A\n",
      " 15%|█▌        | 15/100 [00:01<00:08,  9.94it/s]\u001b[A\n",
      " 17%|█▋        | 17/100 [00:01<00:08, 10.29it/s]\u001b[A\n",
      " 19%|█▉        | 19/100 [00:01<00:07, 10.55it/s]\u001b[A\n",
      " 21%|██        | 21/100 [00:02<00:07, 10.78it/s]\u001b[A\n",
      " 23%|██▎       | 23/100 [00:02<00:07, 10.95it/s]\u001b[A\n",
      " 25%|██▌       | 25/100 [00:02<00:06, 11.10it/s]\u001b[A\n",
      " 27%|██▋       | 27/100 [00:02<00:06, 11.15it/s]\u001b[A\n",
      " 29%|██▉       | 29/100 [00:02<00:06, 11.07it/s]\u001b[A\n",
      " 31%|███       | 31/100 [00:02<00:06, 11.04it/s]\u001b[A\n",
      " 33%|███▎      | 33/100 [00:03<00:06, 11.01it/s]\u001b[A\n",
      " 35%|███▌      | 35/100 [00:03<00:05, 11.03it/s]\u001b[A\n",
      " 37%|███▋      | 37/100 [00:03<00:05, 11.10it/s]\u001b[A\n",
      " 39%|███▉      | 39/100 [00:03<00:05, 11.01it/s]\u001b[A\n",
      " 41%|████      | 41/100 [00:03<00:05, 10.93it/s]\u001b[A\n",
      " 43%|████▎     | 43/100 [00:04<00:05, 10.91it/s]\u001b[A\n",
      " 45%|████▌     | 45/100 [00:04<00:05, 10.87it/s]\u001b[A\n",
      " 47%|████▋     | 47/100 [00:04<00:04, 11.13it/s]\u001b[A\n",
      " 49%|████▉     | 49/100 [00:04<00:04, 11.15it/s]\u001b[A\n",
      " 51%|█████     | 51/100 [00:04<00:04, 11.09it/s]\u001b[A\n",
      " 53%|█████▎    | 53/100 [00:04<00:04, 11.10it/s]\u001b[A\n",
      " 55%|█████▌    | 55/100 [00:05<00:04, 10.90it/s]\u001b[A\n",
      " 57%|█████▋    | 57/100 [00:05<00:03, 10.78it/s]\u001b[A\n",
      " 59%|█████▉    | 59/100 [00:05<00:03, 10.65it/s]\u001b[A\n",
      " 61%|██████    | 61/100 [00:05<00:03, 10.48it/s]\u001b[A\n",
      " 63%|██████▎   | 63/100 [00:05<00:03, 10.64it/s]\u001b[A\n",
      " 65%|██████▌   | 65/100 [00:06<00:03, 10.70it/s]\u001b[A\n",
      " 67%|██████▋   | 67/100 [00:06<00:03, 10.79it/s]\u001b[A\n",
      " 69%|██████▉   | 69/100 [00:06<00:02, 10.82it/s]\u001b[A\n",
      " 71%|███████   | 71/100 [00:06<00:02, 10.86it/s]\u001b[A\n",
      " 73%|███████▎  | 73/100 [00:06<00:02, 10.84it/s]\u001b[A\n",
      " 75%|███████▌  | 75/100 [00:06<00:02, 10.90it/s]\u001b[A\n",
      " 77%|███████▋  | 77/100 [00:07<00:02, 10.90it/s]\u001b[A\n",
      " 79%|███████▉  | 79/100 [00:07<00:01, 10.85it/s]\u001b[A\n",
      " 81%|████████  | 81/100 [00:07<00:01, 10.56it/s]\u001b[A\n",
      " 83%|████████▎ | 83/100 [00:07<00:01, 10.60it/s]\u001b[A\n",
      " 85%|████████▌ | 85/100 [00:07<00:01, 10.69it/s]\u001b[A\n",
      " 87%|████████▋ | 87/100 [00:08<00:01, 10.89it/s]\u001b[A\n",
      " 89%|████████▉ | 89/100 [00:08<00:01, 10.97it/s]\u001b[A\n",
      " 91%|█████████ | 91/100 [00:08<00:00, 10.91it/s]\u001b[A\n",
      " 93%|█████████▎| 93/100 [00:08<00:00, 10.87it/s]\u001b[A\n",
      " 95%|█████████▌| 95/100 [00:08<00:00, 10.82it/s]\u001b[A\n",
      " 97%|█████████▋| 97/100 [00:08<00:00, 10.86it/s]\u001b[A\n",
      "100%|██████████| 100/100 [00:09<00:00, 10.79it/s][A\n",
      "\n",
      "  0%|          | 0/100 [00:00<?, ?it/s]\u001b[A"
     ]
    },
    {
     "name": "stdout",
     "output_type": "stream",
     "text": [
      "fitting 10, GaussianKernel(0.5), (<class 'mulearn.fuzzifier.ExponentialFuzzifier'>, {})\n"
     ]
    },
    {
     "name": "stderr",
     "output_type": "stream",
     "text": [
      "\n",
      "  1%|          | 1/100 [00:00<00:22,  4.40it/s]\u001b[A\n",
      "  3%|▎         | 3/100 [00:00<00:17,  5.39it/s]\u001b[A\n",
      "  5%|▌         | 5/100 [00:00<00:14,  6.40it/s]\u001b[A\n",
      "  7%|▋         | 7/100 [00:00<00:12,  7.35it/s]\u001b[A\n",
      "  9%|▉         | 9/100 [00:00<00:11,  8.21it/s]\u001b[A\n",
      " 11%|█         | 11/100 [00:01<00:09,  8.95it/s]\u001b[A\n",
      " 12%|█▏        | 12/100 [00:01<00:12,  7.27it/s]\u001b[A\n",
      " 14%|█▍        | 14/100 [00:01<00:10,  8.13it/s]\u001b[A\n",
      " 16%|█▌        | 16/100 [00:01<00:09,  8.80it/s]\u001b[A\n",
      " 18%|█▊        | 18/100 [00:01<00:08,  9.27it/s]\u001b[A\n",
      " 19%|█▉        | 19/100 [00:01<00:08,  9.43it/s]\u001b[A\n",
      " 21%|██        | 21/100 [00:02<00:08,  9.83it/s]\u001b[A\n",
      " 23%|██▎       | 23/100 [00:02<00:07, 10.15it/s]\u001b[A\n",
      " 25%|██▌       | 25/100 [00:02<00:07, 10.36it/s]\u001b[A\n",
      " 27%|██▋       | 27/100 [00:02<00:06, 10.53it/s]\u001b[A\n",
      " 29%|██▉       | 29/100 [00:02<00:06, 10.64it/s]\u001b[A\n",
      " 31%|███       | 31/100 [00:03<00:06, 10.68it/s]\u001b[A\n",
      " 33%|███▎      | 33/100 [00:03<00:06, 10.61it/s]\u001b[A\n",
      " 35%|███▌      | 35/100 [00:03<00:06, 10.68it/s]\u001b[A\n",
      " 37%|███▋      | 37/100 [00:03<00:05, 10.74it/s]\u001b[A\n",
      " 39%|███▉      | 39/100 [00:03<00:05, 10.77it/s]\u001b[A\n",
      " 41%|████      | 41/100 [00:04<00:05, 10.61it/s]\u001b[A\n",
      " 43%|████▎     | 43/100 [00:04<00:05, 10.66it/s]\u001b[A\n",
      " 45%|████▌     | 45/100 [00:04<00:05, 10.74it/s]\u001b[A\n",
      " 47%|████▋     | 47/100 [00:04<00:04, 10.77it/s]\u001b[A\n",
      " 49%|████▉     | 49/100 [00:04<00:04, 10.80it/s]\u001b[A\n",
      " 51%|█████     | 51/100 [00:04<00:04, 10.88it/s]\u001b[A\n",
      " 53%|█████▎    | 53/100 [00:05<00:04, 10.85it/s]\u001b[A\n",
      " 55%|█████▌    | 55/100 [00:05<00:04, 10.83it/s]\u001b[A\n",
      " 57%|█████▋    | 57/100 [00:05<00:03, 10.83it/s]\u001b[A\n",
      " 59%|█████▉    | 59/100 [00:05<00:03, 10.80it/s]\u001b[A\n",
      " 61%|██████    | 61/100 [00:05<00:03, 10.76it/s]\u001b[A\n",
      " 63%|██████▎   | 63/100 [00:06<00:03, 10.64it/s]\u001b[A\n",
      " 65%|██████▌   | 65/100 [00:06<00:03, 10.58it/s]\u001b[A\n",
      " 67%|██████▋   | 67/100 [00:06<00:03, 10.66it/s]\u001b[A\n",
      " 69%|██████▉   | 69/100 [00:06<00:02, 10.71it/s]\u001b[A\n",
      " 71%|███████   | 71/100 [00:06<00:02, 10.77it/s]\u001b[A\n",
      " 73%|███████▎  | 73/100 [00:06<00:02, 10.70it/s]\u001b[A\n",
      " 75%|███████▌  | 75/100 [00:07<00:02, 10.73it/s]\u001b[A\n",
      " 77%|███████▋  | 77/100 [00:07<00:02, 10.75it/s]\u001b[A\n",
      " 79%|███████▉  | 79/100 [00:07<00:01, 10.78it/s]\u001b[A\n",
      " 81%|████████  | 81/100 [00:07<00:01, 10.79it/s]\u001b[A\n",
      " 83%|████████▎ | 83/100 [00:07<00:01, 10.75it/s]\u001b[A\n",
      " 85%|████████▌ | 85/100 [00:08<00:01, 10.81it/s]\u001b[A\n",
      " 87%|████████▋ | 87/100 [00:08<00:01, 10.91it/s]\u001b[A\n",
      " 89%|████████▉ | 89/100 [00:08<00:01, 10.99it/s]\u001b[A\n",
      " 91%|█████████ | 91/100 [00:08<00:00, 11.00it/s]\u001b[A\n",
      " 93%|█████████▎| 93/100 [00:08<00:00, 11.06it/s]\u001b[A\n",
      " 95%|█████████▌| 95/100 [00:08<00:00, 11.03it/s]\u001b[A\n",
      " 97%|█████████▋| 97/100 [00:09<00:00, 11.05it/s]\u001b[A\n",
      "100%|██████████| 100/100 [00:09<00:00, 10.60it/s][A\n",
      "/home/malchiodi/repo/web/mulearn/mulearn/__init__.py:98: UserWarning: No support vectors found\n",
      "  warn('No support vectors found')\n",
      "/home/malchiodi/anaconda3/lib/python3.7/site-packages/sklearn/model_selection/_validation.py:536: FitFailedWarning: Estimator fit failed. The score on this train-test partition for these parameters will be set to nan. Details: \n",
      "TypeError: 'NoneType' object is not callable\n",
      "\n",
      "  FitFailedWarning)\n",
      "\n",
      "  0%|          | 0/100 [00:00<?, ?it/s]\u001b[A"
     ]
    },
    {
     "name": "stdout",
     "output_type": "stream",
     "text": [
      "fitting 100, GaussianKernel(0.225), (<class 'mulearn.fuzzifier.ExponentialFuzzifier'>, {})\n"
     ]
    },
    {
     "name": "stderr",
     "output_type": "stream",
     "text": [
      "\n",
      "  1%|          | 1/100 [00:00<00:23,  4.18it/s]\u001b[A\n",
      "  3%|▎         | 3/100 [00:00<00:18,  5.11it/s]\u001b[A\n",
      "  5%|▌         | 5/100 [00:00<00:15,  6.13it/s]\u001b[A\n",
      "  7%|▋         | 7/100 [00:00<00:13,  7.12it/s]\u001b[A\n",
      "  9%|▉         | 9/100 [00:00<00:11,  8.02it/s]\u001b[A\n",
      " 11%|█         | 11/100 [00:01<00:10,  8.80it/s]\u001b[A\n",
      " 13%|█▎        | 13/100 [00:01<00:09,  9.30it/s]\u001b[A\n",
      " 15%|█▌        | 15/100 [00:01<00:08,  9.85it/s]\u001b[A\n",
      " 17%|█▋        | 17/100 [00:01<00:08, 10.29it/s]\u001b[A\n",
      " 19%|█▉        | 19/100 [00:01<00:07, 10.59it/s]\u001b[A\n",
      " 21%|██        | 21/100 [00:02<00:07, 10.75it/s]\u001b[A\n",
      " 23%|██▎       | 23/100 [00:02<00:07, 10.82it/s]\u001b[A\n",
      " 25%|██▌       | 25/100 [00:02<00:06, 10.81it/s]\u001b[A\n",
      " 27%|██▋       | 27/100 [00:02<00:06, 10.83it/s]\u001b[A\n",
      " 29%|██▉       | 29/100 [00:02<00:06, 10.86it/s]\u001b[A\n",
      " 31%|███       | 31/100 [00:02<00:06, 10.87it/s]\u001b[A\n",
      " 33%|███▎      | 33/100 [00:03<00:06, 10.87it/s]\u001b[A\n",
      " 35%|███▌      | 35/100 [00:03<00:05, 10.86it/s]\u001b[A\n",
      " 37%|███▋      | 37/100 [00:03<00:05, 10.86it/s]\u001b[A\n",
      " 39%|███▉      | 39/100 [00:03<00:05, 10.87it/s]\u001b[A\n",
      " 41%|████      | 41/100 [00:03<00:05, 10.86it/s]\u001b[A\n",
      " 43%|████▎     | 43/100 [00:04<00:05, 10.87it/s]\u001b[A\n",
      " 45%|████▌     | 45/100 [00:04<00:05, 10.88it/s]\u001b[A\n",
      " 47%|████▋     | 47/100 [00:04<00:04, 11.00it/s]\u001b[A\n",
      " 49%|████▉     | 49/100 [00:04<00:04, 11.07it/s]\u001b[A\n",
      " 51%|█████     | 51/100 [00:04<00:04, 11.12it/s]\u001b[A\n",
      " 53%|█████▎    | 53/100 [00:04<00:04, 11.17it/s]\u001b[A\n",
      " 55%|█████▌    | 55/100 [00:05<00:04, 11.15it/s]\u001b[A\n",
      " 57%|█████▋    | 57/100 [00:05<00:03, 10.80it/s]\u001b[A\n",
      " 59%|█████▉    | 59/100 [00:05<00:03, 10.81it/s]\u001b[A\n",
      " 61%|██████    | 61/100 [00:05<00:03, 10.91it/s]\u001b[A\n",
      " 63%|██████▎   | 63/100 [00:05<00:03, 10.99it/s]\u001b[A\n",
      " 65%|██████▌   | 65/100 [00:06<00:03, 10.83it/s]\u001b[A\n",
      " 67%|██████▋   | 67/100 [00:06<00:03, 10.91it/s]\u001b[A\n",
      " 69%|██████▉   | 69/100 [00:06<00:02, 10.88it/s]\u001b[A\n",
      " 71%|███████   | 71/100 [00:06<00:02, 10.93it/s]\u001b[A\n",
      " 73%|███████▎  | 73/100 [00:06<00:02, 10.96it/s]\u001b[A\n",
      " 75%|███████▌  | 75/100 [00:06<00:02, 10.94it/s]\u001b[A\n",
      " 77%|███████▋  | 77/100 [00:07<00:02, 10.97it/s]\u001b[A\n",
      " 79%|███████▉  | 79/100 [00:07<00:01, 10.94it/s]\u001b[A\n",
      " 81%|████████  | 81/100 [00:07<00:01, 10.98it/s]\u001b[A\n",
      " 83%|████████▎ | 83/100 [00:07<00:01, 11.04it/s]\u001b[A\n",
      " 85%|████████▌ | 85/100 [00:07<00:01, 10.84it/s]\u001b[A\n",
      " 87%|████████▋ | 87/100 [00:08<00:01, 10.96it/s]\u001b[A\n",
      " 89%|████████▉ | 89/100 [00:08<00:00, 11.08it/s]\u001b[A\n",
      " 91%|█████████ | 91/100 [00:08<00:00, 10.69it/s]\u001b[A\n",
      " 93%|█████████▎| 93/100 [00:08<00:00, 10.87it/s]\u001b[A\n",
      " 95%|█████████▌| 95/100 [00:08<00:00, 10.91it/s]\u001b[A\n",
      " 97%|█████████▋| 97/100 [00:08<00:00, 10.91it/s]\u001b[A\n",
      "100%|██████████| 100/100 [00:09<00:00, 10.81it/s][A\n",
      "\n",
      "  0%|          | 0/100 [00:00<?, ?it/s]\u001b[A"
     ]
    },
    {
     "name": "stdout",
     "output_type": "stream",
     "text": [
      "fitting 100, GaussianKernel(0.225), (<class 'mulearn.fuzzifier.ExponentialFuzzifier'>, {})\n"
     ]
    },
    {
     "name": "stderr",
     "output_type": "stream",
     "text": [
      "\n",
      "  1%|          | 1/100 [00:00<00:22,  4.32it/s]\u001b[A\n",
      "  3%|▎         | 3/100 [00:00<00:18,  5.30it/s]\u001b[A\n",
      "  5%|▌         | 5/100 [00:00<00:15,  6.29it/s]\u001b[A\n",
      "  7%|▋         | 7/100 [00:00<00:12,  7.24it/s]\u001b[A\n",
      "  9%|▉         | 9/100 [00:00<00:11,  8.10it/s]\u001b[A\n",
      " 11%|█         | 11/100 [00:01<00:10,  8.86it/s]\u001b[A\n",
      " 13%|█▎        | 13/100 [00:01<00:09,  9.44it/s]\u001b[A\n",
      " 15%|█▌        | 15/100 [00:01<00:08,  9.84it/s]\u001b[A\n",
      " 17%|█▋        | 17/100 [00:01<00:08, 10.12it/s]\u001b[A\n",
      " 19%|█▉        | 19/100 [00:01<00:07, 10.34it/s]\u001b[A\n",
      " 21%|██        | 21/100 [00:02<00:07, 10.54it/s]\u001b[A\n",
      " 23%|██▎       | 23/100 [00:02<00:07, 10.64it/s]\u001b[A\n",
      " 25%|██▌       | 25/100 [00:02<00:06, 10.72it/s]\u001b[A\n",
      " 27%|██▋       | 27/100 [00:02<00:06, 10.74it/s]\u001b[A\n",
      " 29%|██▉       | 29/100 [00:02<00:06, 10.80it/s]\u001b[A\n",
      " 31%|███       | 31/100 [00:02<00:06, 10.84it/s]\u001b[A\n",
      " 33%|███▎      | 33/100 [00:03<00:06, 10.88it/s]\u001b[A\n",
      " 35%|███▌      | 35/100 [00:03<00:06, 10.66it/s]\u001b[A\n",
      " 37%|███▋      | 37/100 [00:03<00:05, 10.82it/s]\u001b[A\n",
      " 39%|███▉      | 39/100 [00:03<00:05, 10.83it/s]\u001b[A\n",
      " 41%|████      | 41/100 [00:03<00:05, 10.95it/s]\u001b[A\n",
      " 43%|████▎     | 43/100 [00:04<00:05, 10.97it/s]\u001b[A\n",
      " 45%|████▌     | 45/100 [00:04<00:05, 10.92it/s]\u001b[A\n",
      " 47%|████▋     | 47/100 [00:04<00:04, 10.98it/s]\u001b[A\n",
      " 49%|████▉     | 49/100 [00:04<00:04, 11.08it/s]\u001b[A\n",
      " 51%|█████     | 51/100 [00:04<00:04, 11.13it/s]\u001b[A\n",
      " 53%|█████▎    | 53/100 [00:04<00:04, 11.19it/s]\u001b[A\n",
      " 55%|█████▌    | 55/100 [00:05<00:04, 11.17it/s]\u001b[A\n",
      " 57%|█████▋    | 57/100 [00:05<00:03, 11.14it/s]\u001b[A\n",
      " 59%|█████▉    | 59/100 [00:05<00:03, 11.01it/s]\u001b[A\n",
      " 61%|██████    | 61/100 [00:05<00:03, 10.85it/s]\u001b[A\n",
      " 63%|██████▎   | 63/100 [00:05<00:03, 10.78it/s]\u001b[A\n",
      " 65%|██████▌   | 65/100 [00:06<00:03, 10.75it/s]\u001b[A\n",
      " 67%|██████▋   | 67/100 [00:06<00:03, 10.74it/s]\u001b[A\n",
      " 69%|██████▉   | 69/100 [00:06<00:02, 10.85it/s]\u001b[A\n",
      " 71%|███████   | 71/100 [00:06<00:02, 10.85it/s]\u001b[A\n",
      " 73%|███████▎  | 73/100 [00:06<00:02, 10.76it/s]\u001b[A\n",
      " 75%|███████▌  | 75/100 [00:06<00:02, 10.76it/s]\u001b[A\n",
      " 77%|███████▋  | 77/100 [00:07<00:02, 10.79it/s]\u001b[A\n",
      " 79%|███████▉  | 79/100 [00:07<00:01, 10.82it/s]\u001b[A\n",
      " 81%|████████  | 81/100 [00:07<00:01, 10.80it/s]\u001b[A\n",
      " 83%|████████▎ | 83/100 [00:07<00:01, 10.78it/s]\u001b[A\n",
      " 85%|████████▌ | 85/100 [00:07<00:01, 10.78it/s]\u001b[A\n",
      " 87%|████████▋ | 87/100 [00:08<00:01, 10.87it/s]\u001b[A\n",
      " 89%|████████▉ | 89/100 [00:08<00:01, 10.91it/s]\u001b[A\n",
      " 91%|█████████ | 91/100 [00:08<00:00,  9.30it/s]\u001b[A\n",
      " 92%|█████████▏| 92/100 [00:08<00:00,  9.49it/s]\u001b[A\n",
      " 94%|█████████▍| 94/100 [00:08<00:00,  9.90it/s]\u001b[A\n",
      " 96%|█████████▌| 96/100 [00:09<00:00, 10.19it/s]\u001b[A\n",
      " 98%|█████████▊| 98/100 [00:09<00:00, 10.38it/s]\u001b[A\n",
      "100%|██████████| 100/100 [00:09<00:00, 10.64it/s]\u001b[A\n",
      "/home/malchiodi/repo/web/mulearn/mulearn/__init__.py:98: UserWarning: No support vectors found\n",
      "  warn('No support vectors found')\n",
      "/home/malchiodi/anaconda3/lib/python3.7/site-packages/sklearn/model_selection/_validation.py:536: FitFailedWarning: Estimator fit failed. The score on this train-test partition for these parameters will be set to nan. Details: \n",
      "TypeError: 'NoneType' object is not callable\n",
      "\n",
      "  FitFailedWarning)\n",
      "\n",
      "  0%|          | 0/100 [00:00<?, ?it/s]\u001b[A"
     ]
    },
    {
     "name": "stdout",
     "output_type": "stream",
     "text": [
      "fitting 100, GaussianKernel(0.5), (<class 'mulearn.fuzzifier.ExponentialFuzzifier'>, {})\n"
     ]
    },
    {
     "name": "stderr",
     "output_type": "stream",
     "text": [
      "\n",
      "  1%|          | 1/100 [00:00<00:22,  4.40it/s]\u001b[A\n",
      "  3%|▎         | 3/100 [00:00<00:18,  5.37it/s]\u001b[A\n",
      "  5%|▌         | 5/100 [00:00<00:14,  6.36it/s]\u001b[A\n",
      "  7%|▋         | 7/100 [00:00<00:12,  7.27it/s]\u001b[A\n",
      "  9%|▉         | 9/100 [00:00<00:11,  8.06it/s]\u001b[A\n",
      " 11%|█         | 11/100 [00:01<00:10,  8.74it/s]\u001b[A\n",
      " 13%|█▎        | 13/100 [00:01<00:09,  9.29it/s]\u001b[A\n",
      " 15%|█▌        | 15/100 [00:01<00:08,  9.72it/s]\u001b[A\n",
      " 17%|█▋        | 17/100 [00:01<00:08, 10.05it/s]\u001b[A\n",
      " 19%|█▉        | 19/100 [00:01<00:07, 10.30it/s]\u001b[A\n",
      " 21%|██        | 21/100 [00:02<00:07, 10.46it/s]\u001b[A\n",
      " 23%|██▎       | 23/100 [00:02<00:07, 10.50it/s]\u001b[A\n",
      " 25%|██▌       | 25/100 [00:02<00:07, 10.60it/s]\u001b[A\n",
      " 27%|██▋       | 27/100 [00:02<00:06, 10.71it/s]\u001b[A\n",
      " 29%|██▉       | 29/100 [00:02<00:06, 10.73it/s]\u001b[A\n",
      " 31%|███       | 31/100 [00:02<00:06, 10.68it/s]\u001b[A\n",
      " 33%|███▎      | 33/100 [00:03<00:06, 10.67it/s]\u001b[A\n",
      " 35%|███▌      | 35/100 [00:03<00:06, 10.71it/s]\u001b[A\n",
      " 37%|███▋      | 37/100 [00:03<00:05, 10.72it/s]\u001b[A\n",
      " 39%|███▉      | 39/100 [00:03<00:05, 10.73it/s]\u001b[A\n",
      " 41%|████      | 41/100 [00:03<00:05, 10.74it/s]\u001b[A\n",
      " 43%|████▎     | 43/100 [00:04<00:05, 10.68it/s]\u001b[A\n",
      " 45%|████▌     | 45/100 [00:04<00:05, 10.71it/s]\u001b[A\n",
      " 47%|████▋     | 47/100 [00:04<00:04, 10.72it/s]\u001b[A\n",
      " 49%|████▉     | 49/100 [00:04<00:04, 10.73it/s]\u001b[A\n",
      " 51%|█████     | 51/100 [00:04<00:04, 10.72it/s]\u001b[A\n",
      " 53%|█████▎    | 53/100 [00:05<00:04, 10.74it/s]\u001b[A\n",
      " 55%|█████▌    | 55/100 [00:05<00:04, 10.77it/s]\u001b[A\n",
      " 57%|█████▋    | 57/100 [00:05<00:03, 10.79it/s]\u001b[A\n",
      " 59%|█████▉    | 59/100 [00:05<00:03, 10.79it/s]\u001b[A\n",
      " 61%|██████    | 61/100 [00:05<00:03, 10.80it/s]\u001b[A\n",
      " 63%|██████▎   | 63/100 [00:05<00:03, 10.80it/s]\u001b[A\n",
      " 65%|██████▌   | 65/100 [00:06<00:03, 10.80it/s]\u001b[A\n",
      " 67%|██████▋   | 67/100 [00:06<00:03, 10.84it/s]\u001b[A\n",
      " 69%|██████▉   | 69/100 [00:06<00:02, 10.86it/s]\u001b[A\n",
      " 71%|███████   | 71/100 [00:06<00:02, 10.87it/s]\u001b[A\n",
      " 73%|███████▎  | 73/100 [00:06<00:02, 10.88it/s]\u001b[A\n",
      " 75%|███████▌  | 75/100 [00:07<00:02, 11.03it/s]\u001b[A\n",
      " 77%|███████▋  | 77/100 [00:07<00:02, 11.10it/s]\u001b[A\n",
      " 79%|███████▉  | 79/100 [00:07<00:01, 11.00it/s]\u001b[A\n",
      " 81%|████████  | 81/100 [00:07<00:01, 10.97it/s]\u001b[A\n",
      " 83%|████████▎ | 83/100 [00:07<00:01, 10.88it/s]\u001b[A\n",
      " 85%|████████▌ | 85/100 [00:07<00:01, 10.77it/s]\u001b[A\n",
      " 87%|████████▋ | 87/100 [00:08<00:01, 10.87it/s]\u001b[A\n",
      " 89%|████████▉ | 89/100 [00:08<00:01, 10.95it/s]\u001b[A\n",
      " 91%|█████████ | 91/100 [00:08<00:00, 11.14it/s]\u001b[A\n",
      " 93%|█████████▎| 93/100 [00:08<00:00, 11.24it/s]\u001b[A\n",
      " 95%|█████████▌| 95/100 [00:08<00:00, 11.28it/s]\u001b[A\n",
      " 97%|█████████▋| 97/100 [00:09<00:00, 11.26it/s]\u001b[A\n",
      "100%|██████████| 100/100 [00:09<00:00, 10.74it/s][A\n",
      "\n",
      "  0%|          | 0/100 [00:00<?, ?it/s]\u001b[A"
     ]
    },
    {
     "name": "stdout",
     "output_type": "stream",
     "text": [
      "fitting 100, GaussianKernel(0.5), (<class 'mulearn.fuzzifier.ExponentialFuzzifier'>, {})\n"
     ]
    },
    {
     "name": "stderr",
     "output_type": "stream",
     "text": [
      "\n",
      "  1%|          | 1/100 [00:00<00:24,  4.11it/s]\u001b[A\n",
      "  3%|▎         | 3/100 [00:00<00:19,  5.07it/s]\u001b[A\n",
      "  5%|▌         | 5/100 [00:00<00:15,  6.07it/s]\u001b[A\n",
      "  7%|▋         | 7/100 [00:00<00:13,  7.04it/s]\u001b[A\n",
      "  9%|▉         | 9/100 [00:00<00:11,  7.93it/s]\u001b[A\n",
      " 11%|█         | 11/100 [00:01<00:10,  8.76it/s]\u001b[A\n",
      " 13%|█▎        | 13/100 [00:01<00:09,  9.31it/s]\u001b[A\n",
      " 15%|█▌        | 15/100 [00:01<00:08,  9.83it/s]\u001b[A\n",
      " 17%|█▋        | 17/100 [00:01<00:08, 10.31it/s]\u001b[A\n",
      " 19%|█▉        | 19/100 [00:01<00:07, 10.56it/s]\u001b[A\n",
      " 21%|██        | 21/100 [00:02<00:07, 10.05it/s]\u001b[A\n",
      " 23%|██▎       | 23/100 [00:02<00:07,  9.96it/s]\u001b[A\n",
      " 25%|██▌       | 25/100 [00:02<00:07, 10.24it/s]\u001b[A\n",
      " 27%|██▋       | 27/100 [00:02<00:06, 10.45it/s]\u001b[A\n",
      " 29%|██▉       | 29/100 [00:02<00:06, 10.60it/s]\u001b[A\n",
      " 31%|███       | 31/100 [00:02<00:06, 10.72it/s]\u001b[A\n",
      " 33%|███▎      | 33/100 [00:03<00:06, 10.78it/s]\u001b[A\n",
      " 35%|███▌      | 35/100 [00:03<00:05, 10.84it/s]\u001b[A\n",
      " 37%|███▋      | 37/100 [00:03<00:05, 10.87it/s]\u001b[A\n",
      " 39%|███▉      | 39/100 [00:03<00:05, 10.91it/s]\u001b[A\n",
      " 41%|████      | 41/100 [00:03<00:05, 10.94it/s]\u001b[A\n",
      " 43%|████▎     | 43/100 [00:04<00:05, 10.95it/s]\u001b[A\n",
      " 45%|████▌     | 45/100 [00:04<00:05, 10.81it/s]\u001b[A\n",
      " 47%|████▋     | 47/100 [00:04<00:04, 10.93it/s]\u001b[A\n",
      " 49%|████▉     | 49/100 [00:04<00:04, 11.02it/s]\u001b[A\n",
      " 51%|█████     | 51/100 [00:04<00:04, 11.06it/s]\u001b[A\n",
      " 53%|█████▎    | 53/100 [00:04<00:04, 11.11it/s]\u001b[A\n",
      " 55%|█████▌    | 55/100 [00:05<00:04, 11.13it/s]\u001b[A\n",
      " 57%|█████▋    | 57/100 [00:05<00:03, 11.16it/s]\u001b[A\n",
      " 59%|█████▉    | 59/100 [00:05<00:03, 11.20it/s]\u001b[A\n",
      " 61%|██████    | 61/100 [00:05<00:03, 11.21it/s]\u001b[A\n",
      " 63%|██████▎   | 63/100 [00:05<00:03, 11.22it/s]\u001b[A\n",
      " 65%|██████▌   | 65/100 [00:06<00:03, 11.24it/s]\u001b[A\n",
      " 67%|██████▋   | 67/100 [00:06<00:02, 11.23it/s]\u001b[A\n",
      " 69%|██████▉   | 69/100 [00:06<00:02, 11.25it/s]\u001b[A\n",
      " 71%|███████   | 71/100 [00:06<00:02, 11.26it/s]\u001b[A\n",
      " 73%|███████▎  | 73/100 [00:06<00:02, 11.26it/s]\u001b[A\n",
      " 75%|███████▌  | 75/100 [00:06<00:02, 11.18it/s]\u001b[A\n",
      " 77%|███████▋  | 77/100 [00:07<00:02, 11.12it/s]\u001b[A\n",
      " 79%|███████▉  | 79/100 [00:07<00:01, 11.05it/s]\u001b[A\n",
      " 81%|████████  | 81/100 [00:07<00:01, 10.91it/s]\u001b[A\n",
      " 83%|████████▎ | 83/100 [00:07<00:01, 10.83it/s]\u001b[A\n",
      " 85%|████████▌ | 85/100 [00:07<00:01, 10.80it/s]\u001b[A\n",
      " 87%|████████▋ | 87/100 [00:08<00:01, 10.73it/s]\u001b[A\n",
      " 89%|████████▉ | 89/100 [00:08<00:01, 10.57it/s]\u001b[A\n",
      " 91%|█████████ | 91/100 [00:08<00:00, 10.61it/s]\u001b[A\n",
      " 93%|█████████▎| 93/100 [00:08<00:00, 10.57it/s]\u001b[A\n",
      " 95%|█████████▌| 95/100 [00:08<00:00, 10.58it/s]\u001b[A\n",
      " 97%|█████████▋| 97/100 [00:09<00:00, 10.78it/s]\u001b[A\n",
      "100%|██████████| 100/100 [00:09<00:00, 10.76it/s][A\n",
      "/home/malchiodi/repo/web/mulearn/mulearn/__init__.py:98: UserWarning: No support vectors found\n",
      "  warn('No support vectors found')\n",
      "/home/malchiodi/anaconda3/lib/python3.7/site-packages/sklearn/model_selection/_validation.py:536: FitFailedWarning: Estimator fit failed. The score on this train-test partition for these parameters will be set to nan. Details: \n",
      "TypeError: 'NoneType' object is not callable\n",
      "\n",
      "  FitFailedWarning)\n"
     ]
    },
    {
     "name": "stdout",
     "output_type": "stream",
     "text": [
      "fitting 1, GaussianKernel(0.225), (<class 'mulearn.fuzzifier.ExponentialFuzzifier'>, {})\n"
     ]
    },
    {
     "name": "stderr",
     "output_type": "stream",
     "text": [
      "\n",
      "  0%|          | 0/100 [00:00<?, ?it/s]\u001b[A\n",
      "  1%|          | 1/100 [00:00<00:45,  2.18it/s]\u001b[A\n",
      "  2%|▏         | 2/100 [00:00<00:36,  2.67it/s]\u001b[A\n",
      "  3%|▎         | 3/100 [00:00<00:30,  3.17it/s]\u001b[A\n",
      "  4%|▍         | 4/100 [00:01<00:26,  3.61it/s]\u001b[A\n",
      "  5%|▌         | 5/100 [00:01<00:23,  4.02it/s]\u001b[A\n",
      "  6%|▌         | 6/100 [00:01<00:21,  4.37it/s]\u001b[A\n",
      "  7%|▋         | 7/100 [00:01<00:22,  4.09it/s]\u001b[A\n",
      "  8%|▊         | 8/100 [00:01<00:20,  4.44it/s]\u001b[A\n",
      "  9%|▉         | 9/100 [00:02<00:19,  4.71it/s]\u001b[A\n",
      " 10%|█         | 10/100 [00:02<00:18,  4.91it/s]\u001b[A\n",
      " 11%|█         | 11/100 [00:02<00:17,  5.08it/s]\u001b[A\n",
      " 12%|█▏        | 12/100 [00:02<00:17,  5.17it/s]\u001b[A\n",
      " 13%|█▎        | 13/100 [00:02<00:16,  5.23it/s]\u001b[A\n",
      " 14%|█▍        | 14/100 [00:02<00:16,  5.33it/s]\u001b[A\n",
      " 15%|█▌        | 15/100 [00:03<00:15,  5.38it/s]\u001b[A\n",
      " 16%|█▌        | 16/100 [00:03<00:15,  5.47it/s]\u001b[A\n",
      " 17%|█▋        | 17/100 [00:03<00:15,  5.47it/s]\u001b[A\n",
      " 18%|█▊        | 18/100 [00:03<00:14,  5.51it/s]\u001b[A\n",
      " 19%|█▉        | 19/100 [00:03<00:14,  5.52it/s]\u001b[A\n",
      " 20%|██        | 20/100 [00:04<00:14,  5.52it/s]\u001b[A\n",
      " 21%|██        | 21/100 [00:04<00:14,  5.52it/s]\u001b[A\n",
      " 22%|██▏       | 22/100 [00:04<00:13,  5.62it/s]\u001b[A\n",
      " 23%|██▎       | 23/100 [00:04<00:13,  5.65it/s]\u001b[A\n",
      " 24%|██▍       | 24/100 [00:04<00:13,  5.68it/s]\u001b[A\n",
      " 25%|██▌       | 25/100 [00:04<00:13,  5.67it/s]\u001b[A\n",
      " 26%|██▌       | 26/100 [00:05<00:13,  5.62it/s]\u001b[A\n",
      " 27%|██▋       | 27/100 [00:05<00:13,  5.59it/s]\u001b[A\n",
      " 28%|██▊       | 28/100 [00:05<00:12,  5.56it/s]\u001b[A\n",
      " 29%|██▉       | 29/100 [00:05<00:12,  5.54it/s]\u001b[A\n",
      " 30%|███       | 30/100 [00:05<00:12,  5.53it/s]\u001b[A\n",
      " 31%|███       | 31/100 [00:05<00:12,  5.52it/s]\u001b[A\n",
      " 32%|███▏      | 32/100 [00:06<00:12,  5.50it/s]\u001b[A\n",
      " 33%|███▎      | 33/100 [00:06<00:12,  5.52it/s]\u001b[A\n",
      " 34%|███▍      | 34/100 [00:06<00:11,  5.51it/s]\u001b[A\n",
      " 35%|███▌      | 35/100 [00:06<00:11,  5.49it/s]\u001b[A\n",
      " 36%|███▌      | 36/100 [00:06<00:11,  5.43it/s]\u001b[A\n",
      " 37%|███▋      | 37/100 [00:07<00:11,  5.38it/s]\u001b[A\n",
      " 38%|███▊      | 38/100 [00:07<00:11,  5.38it/s]\u001b[A\n",
      " 39%|███▉      | 39/100 [00:07<00:11,  5.47it/s]\u001b[A\n",
      " 40%|████      | 40/100 [00:07<00:10,  5.49it/s]\u001b[A\n",
      " 41%|████      | 41/100 [00:07<00:10,  5.51it/s]\u001b[A\n",
      " 42%|████▏     | 42/100 [00:07<00:10,  5.54it/s]\u001b[A\n",
      " 43%|████▎     | 43/100 [00:08<00:10,  5.54it/s]\u001b[A\n",
      " 44%|████▍     | 44/100 [00:08<00:10,  5.54it/s]\u001b[A\n",
      " 45%|████▌     | 45/100 [00:08<00:09,  5.55it/s]\u001b[A\n",
      " 46%|████▌     | 46/100 [00:08<00:09,  5.57it/s]\u001b[A\n",
      " 47%|████▋     | 47/100 [00:08<00:09,  5.60it/s]\u001b[A\n",
      " 48%|████▊     | 48/100 [00:09<00:09,  5.60it/s]\u001b[A\n",
      " 49%|████▉     | 49/100 [00:09<00:09,  5.60it/s]\u001b[A\n",
      " 50%|█████     | 50/100 [00:09<00:09,  5.54it/s]\u001b[A\n",
      " 51%|█████     | 51/100 [00:09<00:08,  5.51it/s]\u001b[A\n",
      " 52%|█████▏    | 52/100 [00:09<00:08,  5.59it/s]\u001b[A\n",
      " 53%|█████▎    | 53/100 [00:09<00:08,  5.65it/s]\u001b[A\n",
      " 54%|█████▍    | 54/100 [00:10<00:08,  5.69it/s]\u001b[A\n",
      " 55%|█████▌    | 55/100 [00:10<00:07,  5.69it/s]\u001b[A\n",
      " 56%|█████▌    | 56/100 [00:10<00:07,  5.63it/s]\u001b[A\n",
      " 57%|█████▋    | 57/100 [00:10<00:07,  5.59it/s]\u001b[A\n",
      " 58%|█████▊    | 58/100 [00:10<00:07,  5.67it/s]\u001b[A\n",
      " 59%|█████▉    | 59/100 [00:11<00:07,  5.72it/s]\u001b[A\n",
      " 60%|██████    | 60/100 [00:11<00:06,  5.72it/s]\u001b[A\n",
      " 61%|██████    | 61/100 [00:11<00:06,  5.70it/s]\u001b[A\n",
      " 62%|██████▏   | 62/100 [00:11<00:06,  5.64it/s]\u001b[A\n",
      " 63%|██████▎   | 63/100 [00:11<00:07,  4.76it/s]\u001b[A\n",
      " 64%|██████▍   | 64/100 [00:12<00:07,  4.97it/s]\u001b[A\n",
      " 65%|██████▌   | 65/100 [00:12<00:06,  5.13it/s]\u001b[A\n",
      " 66%|██████▌   | 66/100 [00:12<00:06,  5.25it/s]\u001b[A\n",
      " 67%|██████▋   | 67/100 [00:12<00:06,  5.35it/s]\u001b[A\n",
      " 68%|██████▊   | 68/100 [00:12<00:05,  5.36it/s]\u001b[A\n",
      " 69%|██████▉   | 69/100 [00:12<00:05,  5.38it/s]\u001b[A\n",
      " 70%|███████   | 70/100 [00:13<00:05,  5.39it/s]\u001b[A\n",
      " 71%|███████   | 71/100 [00:13<00:05,  5.40it/s]\u001b[A\n",
      " 72%|███████▏  | 72/100 [00:13<00:05,  5.46it/s]\u001b[A\n",
      " 73%|███████▎  | 73/100 [00:13<00:04,  5.51it/s]\u001b[A\n",
      " 74%|███████▍  | 74/100 [00:13<00:04,  5.52it/s]\u001b[A\n",
      " 75%|███████▌  | 75/100 [00:13<00:04,  5.56it/s]\u001b[A\n",
      " 76%|███████▌  | 76/100 [00:14<00:04,  5.55it/s]\u001b[A\n",
      " 77%|███████▋  | 77/100 [00:14<00:04,  5.57it/s]\u001b[A\n",
      " 78%|███████▊  | 78/100 [00:14<00:03,  5.55it/s]\u001b[A\n",
      " 79%|███████▉  | 79/100 [00:14<00:03,  5.58it/s]\u001b[A\n",
      " 80%|████████  | 80/100 [00:14<00:03,  5.59it/s]\u001b[A\n",
      " 81%|████████  | 81/100 [00:15<00:03,  5.58it/s]\u001b[A\n",
      " 82%|████████▏ | 82/100 [00:15<00:03,  5.59it/s]\u001b[A\n",
      " 83%|████████▎ | 83/100 [00:15<00:03,  5.50it/s]\u001b[A\n",
      " 84%|████████▍ | 84/100 [00:15<00:02,  5.48it/s]\u001b[A\n",
      " 85%|████████▌ | 85/100 [00:15<00:02,  5.52it/s]\u001b[A\n",
      " 86%|████████▌ | 86/100 [00:15<00:02,  5.51it/s]\u001b[A\n",
      " 87%|████████▋ | 87/100 [00:16<00:02,  5.52it/s]\u001b[A\n",
      " 88%|████████▊ | 88/100 [00:16<00:02,  5.52it/s]\u001b[A\n",
      " 89%|████████▉ | 89/100 [00:16<00:02,  5.49it/s]\u001b[A\n",
      " 90%|█████████ | 90/100 [00:16<00:01,  5.45it/s]\u001b[A\n",
      " 91%|█████████ | 91/100 [00:16<00:01,  5.51it/s]\u001b[A\n",
      " 92%|█████████▏| 92/100 [00:17<00:01,  5.57it/s]\u001b[A\n",
      " 93%|█████████▎| 93/100 [00:17<00:01,  5.54it/s]\u001b[A\n",
      " 94%|█████████▍| 94/100 [00:17<00:01,  5.54it/s]\u001b[A\n",
      " 95%|█████████▌| 95/100 [00:17<00:00,  5.52it/s]\u001b[A\n",
      " 96%|█████████▌| 96/100 [00:17<00:00,  5.52it/s]\u001b[A\n",
      " 97%|█████████▋| 97/100 [00:17<00:00,  5.52it/s]\u001b[A\n",
      " 98%|█████████▊| 98/100 [00:18<00:00,  5.52it/s]\u001b[A\n",
      " 99%|█████████▉| 99/100 [00:18<00:00,  5.52it/s]\u001b[A\n",
      "100%|██████████| 100/100 [00:18<00:00,  5.40it/s]\u001b[A\n"
     ]
    },
    {
     "data": {
      "text/plain": [
       "GridSearchCV(cv=2, error_score=nan,\n",
       "             estimator=FuzzyInductor(c=1,\n",
       "                                     fuzzifier=(<class 'mulearn.fuzzifier.ExponentialFuzzifier'>,\n",
       "                                                {}),\n",
       "                                     k=GaussianKernel(1), random_state=None,\n",
       "                                     return_profile=False,\n",
       "                                     solve_strategy=(<function solve_optimization_tensorflow at 0x7f039fd4f1e0>,\n",
       "                                                     {})),\n",
       "             iid='deprecated', n_jobs=None,\n",
       "             param_grid={'c': [1, 10, 100],\n",
       "                         'k': [GaussianKernel(0.225), GaussianKernel(0.5)]},\n",
       "             pre_dispatch='2*n_jobs', refit=True, return_train_score=False,\n",
       "             scoring=None, verbose=0)"
      ]
     },
     "execution_count": null,
     "metadata": {},
     "output_type": "execute_result"
    }
   ],
   "source": [
    "from sklearn.model_selection import GridSearchCV\n",
    "\n",
    "f = FuzzyInductor()\n",
    "\n",
    "virginica = GridSearchCV(f, param_grid=parameters, cv=2)\n",
    "virginica.fit(iris_values_2d, mu['Iris-virginica'])"
   ]
  },
  {
   "cell_type": "code",
   "execution_count": null,
   "metadata": {},
   "outputs": [
    {
     "data": {
      "image/png": "[encoded data removed]",
      "text/plain": [
       "<Figure size 432x288 with 1 Axes>"
      ]
     },
     "metadata": {
      "needs_background": "light"
     },
     "output_type": "display_data"
    }
   ],
   "source": [
    "gr_dataset()\n",
    "gr_membership_contour(virginica.best_estimator_.estimated_membership_)\n",
    "plt.show()"
   ]
  },
  {
   "cell_type": "code",
   "execution_count": null,
   "metadata": {},
   "outputs": [],
   "source": [
    "import pickle\n",
    "\n",
    "saved_estimator = pickle.dumps(virginica.best_estimator_)"
   ]
  },
  {
   "cell_type": "code",
   "execution_count": null,
   "metadata": {},
   "outputs": [],
   "source": [
    "loaded_estimator = pickle.loads(saved_estimator)"
   ]
  },
  {
   "cell_type": "code",
   "execution_count": null,
   "metadata": {},
   "outputs": [
    {
     "data": {
      "image/png": "[encoded data removed]",
      "text/plain": [
       "<Figure size 432x288 with 1 Axes>"
      ]
     },
     "metadata": {
      "needs_background": "light"
     },
     "output_type": "display_data"
    }
   ],
   "source": [
    "gr_dataset()\n",
    "gr_membership_contour(loaded_estimator.estimated_membership_)\n",
    "plt.show()"
   ]
  },
  {
   "cell_type": "code",
   "execution_count": null,
   "metadata": {},
   "outputs": [],
   "source": []
  }
 ],
 "metadata": {
  "kernelspec": {
   "display_name": "Python 3",
   "language": "python",
   "name": "python3"
  }
 },
 "nbformat": 4,
 "nbformat_minor": 2
}
